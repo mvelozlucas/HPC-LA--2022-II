{
 "cells": [
  {
   "cell_type": "markdown",
   "id": "90442422",
   "metadata": {},
   "source": [
    "# 6.Método Cadena Markov-Monte Carlo (MCMC)"
   ]
  },
  {
   "cell_type": "code",
   "execution_count": 46,
   "id": "964cfba3",
   "metadata": {},
   "outputs": [],
   "source": [
    "using LinearAlgebra\n",
    "using BenchmarkTools\n",
    "using SparseArrays\n",
    "using Random\n",
    "using Base.Threads: @threads,@spawn\n",
    "using Plots\n",
    "using PyCall\n",
    "using DataFrames"
   ]
  },
  {
   "cell_type": "markdown",
   "id": "495f3811",
   "metadata": {},
   "source": [
    "## Implementación de la función que construye el sistema de ecuaciones de prueba $Ax = b$"
   ]
  },
  {
   "cell_type": "code",
   "execution_count": 47,
   "id": "91326a0b",
   "metadata": {},
   "outputs": [
    {
     "data": {
      "text/plain": [
       "matriz_dispersa (generic function with 1 method)"
      ]
     },
     "execution_count": 47,
     "metadata": {},
     "output_type": "execute_result"
    }
   ],
   "source": [
    "function matriz_dispersa(n)\n",
    "    e = ones(n)\n",
    "    n2 =Int(n/2)\n",
    "    diags = [-1,0,1]\n",
    "    A = Matrix(spdiagm(-1 => -ones(n-1)\n",
    "        ,0 => 3*ones(n),1 => -ones(n-1)))\n",
    "    c = spdiagm(0 => ones(n)/2)\n",
    "    ab = [x for x=1:n]\n",
    "    ba = [(n+1)-x for x=1:n]\n",
    "    c = Matrix(permute(c, ba, ab))\n",
    "\n",
    "    A = A + c\n",
    "    A[n2+1,n2] = -1\n",
    "    A[n2,n2+1] = -1\n",
    "    \n",
    "    b = zeros(n,1)\n",
    "    b[1] = 2.5\n",
    "    b[n] = 2.5\n",
    "    b[2:n-1] .= [1.5]\n",
    "    b[n2:n2+1] .= [1]\n",
    "    return A,b\n",
    "end"
   ]
  },
  {
   "cell_type": "markdown",
   "id": "50b8f469",
   "metadata": {},
   "source": [
    "### Evaluación de parámetros"
   ]
  },
  {
   "cell_type": "code",
   "execution_count": 48,
   "id": "182ddbec",
   "metadata": {},
   "outputs": [
    {
     "data": {
      "text/plain": [
       "preparametros (generic function with 1 method)"
      ]
     },
     "execution_count": 48,
     "metadata": {},
     "output_type": "execute_result"
    }
   ],
   "source": [
    "function preparametros(A,b,ϵ,δ)\n",
    "    M = diagm(0 => diag(A))\n",
    "    N = M-A\n",
    "    T = inv(M) * N\n",
    "    f = inv(M) * b\n",
    "    nT, mT = size(T);\n",
    "    print(nT, mT )\n",
    "\n",
    "    S = fill(0, nT)\n",
    "    P = fill(0., nT, mT)\n",
    "    Pa = P\n",
    "    [S[i] += 1 for i in 1:nT, j in 1:mT if T[i,j] != 0]\n",
    "    [P[i,j]= 1/S[i] for i in 1:nT, j in 1:mT if T[i,j] != 0 ]\n",
    "    Pa = [accumulate(+, P[i, 1:mT]) for i in 1:nT]\n",
    "    Pi = [1/nT for i in 1:nT];\n",
    "    Nc = floor((0.6745/δ)^2*((norm(f)^2)/(1-norm(T))^2)) + 1\n",
    "    return Nc, mT, f, Pa, T, P\n",
    "end"
   ]
  },
  {
   "cell_type": "markdown",
   "id": "1a28e7d2",
   "metadata": {},
   "source": [
    "### Matriz de probabilidad acumulada pre-build con envío de parámetros, type-anotations y view"
   ]
  },
  {
   "cell_type": "code",
   "execution_count": 95,
   "id": "6395dd97",
   "metadata": {},
   "outputs": [
    {
     "data": {
      "text/plain": [
       "mcmc_acc_par_ta_thread (generic function with 1 method)"
      ]
     },
     "execution_count": 95,
     "metadata": {},
     "output_type": "execute_result"
    }
   ],
   "source": [
    "function mcmc_acc_par_ta_thread(ϵ, Nc, mT, f, Pa, T, P)\n",
    "    Xs = fill(0., mT)\n",
    "        \n",
    "    for i in 1:mT\n",
    "        W_0 = 1.0\n",
    "        for s in 1:Nc\n",
    "            W = W_0; point = i; X = W_0 * f[i]::Float64\n",
    "            while abs(W) >= ϵ\n",
    "                nextpoint  = 1::Int64\n",
    "                u = rand()\n",
    "                while u >= Pa[point][nextpoint]::Float64\n",
    "                    nextpoint = nextpoint + 1::Int64\n",
    "                end\n",
    "                    W_new = W *(T[point, nextpoint]/P[point, nextpoint])::Float64\n",
    "                    X = X + W_new * f[nextpoint]::Float64\n",
    "                point = nextpoint::Int64\n",
    "                W = W_new::Float64\n",
    "            end\n",
    "        Xs[i] += X::Float64\n",
    "        end\n",
    "    end\n",
    "        \n",
    "    Xs = Xs/Nc::Float64\n",
    "end"
   ]
  },
  {
   "cell_type": "code",
   "execution_count": 96,
   "id": "578a68fc",
   "metadata": {},
   "outputs": [
    {
     "data": {
      "text/plain": [
       "mcmc_acc_par_ta_spawn (generic function with 1 method)"
      ]
     },
     "execution_count": 96,
     "metadata": {},
     "output_type": "execute_result"
    }
   ],
   "source": [
    "function mcmc_acc_par_ta_spawn(ϵ, Nc, mT, f, Pa, T, P)\n",
    "    Xs = fill(0., mT)\n",
    "    Xss = Threads.Atomic{Float64}(1)\n",
    "    @sync begin\n",
    "        \n",
    "        for i in 1:mT\n",
    "            W_0 = 1.0\n",
    "            Threads.@spawn begin\n",
    "                for s in 1:Nc\n",
    "                    W = W_0; point = i; X = W_0 * f[i]::Float64\n",
    "                    while abs(W) >= ϵ\n",
    "                        nextpoint  = 1::Int64\n",
    "                        u = rand()\n",
    "                        while u >= Pa[point][nextpoint]::Float64\n",
    "                            nextpoint = nextpoint + 1::Int64\n",
    "                        end\n",
    "                            W_new = W *(T[point, nextpoint]/P[point, nextpoint])::Float64\n",
    "                             X = X + W_new * f[nextpoint]::Float64\n",
    "                        point = nextpoint::Int64\n",
    "                        W = W_new::Float64\n",
    "                    end\n",
    "                Xs[i] += X::Float64\n",
    "                end\n",
    "                \n",
    "            end\n",
    "        end\n",
    "        Xss = Xs[]/Nc::Float64       \n",
    "    end\n",
    "\n",
    "end"
   ]
  },
  {
   "cell_type": "code",
   "execution_count": 77,
   "id": "4628633d",
   "metadata": {},
   "outputs": [
    {
     "data": {
      "text/plain": [
       "1"
      ]
     },
     "execution_count": 77,
     "metadata": {},
     "output_type": "execute_result"
    }
   ],
   "source": [
    "JULIA_NUM_THREADS=4\n",
    "Threads.nthreads()"
   ]
  },
  {
   "cell_type": "code",
   "execution_count": 74,
   "id": "1c3bcd40",
   "metadata": {},
   "outputs": [
    {
     "data": {
      "text/plain": [
       "1"
      ]
     },
     "execution_count": 74,
     "metadata": {},
     "output_type": "execute_result"
    }
   ],
   "source": [
    "Threads.nthreads()"
   ]
  },
  {
   "cell_type": "code",
   "execution_count": 97,
   "id": "41a4f091",
   "metadata": {},
   "outputs": [
    {
     "name": "stdout",
     "output_type": "stream",
     "text": [
      "66"
     ]
    },
    {
     "data": {
      "text/plain": [
       "(8623.0, 6, [0.8333333333333333; 0.5; … ; 0.5; 0.8333333333333333], [[0.0, 0.5, 0.5, 0.5, 0.5, 1.0], [0.3333333333333333, 0.3333333333333333, 0.6666666666666666, 0.6666666666666666, 1.0, 1.0], [0.0, 0.5, 0.5, 1.0, 1.0, 1.0], [0.0, 0.0, 0.5, 0.5, 1.0, 1.0], [0.0, 0.3333333333333333, 0.3333333333333333, 0.6666666666666666, 0.6666666666666666, 1.0], [0.5, 0.5, 0.5, 0.5, 1.0, 1.0]], [0.0 0.3333333333333333 … 0.0 -0.16666666666666666; 0.3333333333333333 0.0 … -0.16666666666666666 0.0; … ; 0.0 -0.16666666666666666 … 0.0 0.3333333333333333; -0.16666666666666666 0.0 … 0.3333333333333333 0.0], [0.0 0.5 … 0.0 0.5; 0.3333333333333333 0.0 … 0.3333333333333333 0.0; … ; 0.0 0.3333333333333333 … 0.0 0.3333333333333333; 0.5 0.0 … 0.5 0.0])"
      ]
     },
     "execution_count": 97,
     "metadata": {},
     "output_type": "execute_result"
    }
   ],
   "source": [
    "n = [6, 10, 30, 50]\n",
    "A,b = matriz_dispersa(n[1])\n",
    "ϵ = 0.1\n",
    "δ = 0.1 \n",
    "(Nc, mT, f, Pa, T, P) = preparametros(A,b,ϵ,δ)\n"
   ]
  },
  {
   "cell_type": "code",
   "execution_count": 57,
   "id": "46563d8f",
   "metadata": {},
   "outputs": [
    {
     "data": {
      "text/plain": [
       "BenchmarkTools.Trial: 830 samples with 1 evaluation.\n",
       " Range \u001b[90m(\u001b[39m\u001b[36m\u001b[1mmin\u001b[22m\u001b[39m … \u001b[35mmax\u001b[39m\u001b[90m):  \u001b[39m\u001b[36m\u001b[1m5.371 ms\u001b[22m\u001b[39m … \u001b[35m  8.340 ms\u001b[39m  \u001b[90m┊\u001b[39m GC \u001b[90m(\u001b[39mmin … max\u001b[90m): \u001b[39m0.00% … 0.00%\n",
       " Time  \u001b[90m(\u001b[39m\u001b[34m\u001b[1mmedian\u001b[22m\u001b[39m\u001b[90m):     \u001b[39m\u001b[34m\u001b[1m5.928 ms               \u001b[22m\u001b[39m\u001b[90m┊\u001b[39m GC \u001b[90m(\u001b[39mmedian\u001b[90m):    \u001b[39m0.00%\n",
       " Time  \u001b[90m(\u001b[39m\u001b[32m\u001b[1mmean\u001b[22m\u001b[39m ± \u001b[32mσ\u001b[39m\u001b[90m):   \u001b[39m\u001b[32m\u001b[1m6.019 ms\u001b[22m\u001b[39m ± \u001b[32m566.439 μs\u001b[39m  \u001b[90m┊\u001b[39m GC \u001b[90m(\u001b[39mmean ± σ\u001b[90m):  \u001b[39m0.00% ± 0.00%\n",
       "\n",
       "  \u001b[39m▄\u001b[39m█\u001b[39m▂\u001b[39m▁\u001b[39m \u001b[39m \u001b[39m \u001b[39m \u001b[39m \u001b[39m \u001b[39m \u001b[39m \u001b[39m \u001b[34m \u001b[39m\u001b[39m \u001b[32m \u001b[39m\u001b[39m \u001b[39m \u001b[39m \u001b[39m \u001b[39m \u001b[39m \u001b[39m \u001b[39m \u001b[39m \u001b[39m \u001b[39m \u001b[39m \u001b[39m \u001b[39m \u001b[39m \u001b[39m \u001b[39m \u001b[39m \u001b[39m \u001b[39m \u001b[39m \u001b[39m \u001b[39m \u001b[39m \u001b[39m \u001b[39m \u001b[39m \u001b[39m \u001b[39m \u001b[39m \u001b[39m \u001b[39m \u001b[39m \u001b[39m \u001b[39m \u001b[39m \u001b[39m \u001b[39m \u001b[39m \u001b[39m \u001b[39m \u001b[39m \u001b[39m \u001b[39m \u001b[39m \n",
       "  \u001b[39m█\u001b[39m█\u001b[39m█\u001b[39m█\u001b[39m▇\u001b[39m▇\u001b[39m▅\u001b[39m▅\u001b[39m▄\u001b[39m▅\u001b[39m▆\u001b[39m▆\u001b[39m▆\u001b[34m▄\u001b[39m\u001b[39m▆\u001b[32m█\u001b[39m\u001b[39m▅\u001b[39m▅\u001b[39m▇\u001b[39m▆\u001b[39m▆\u001b[39m▅\u001b[39m▅\u001b[39m▅\u001b[39m▅\u001b[39m▆\u001b[39m▄\u001b[39m▄\u001b[39m▄\u001b[39m▄\u001b[39m▃\u001b[39m▃\u001b[39m▄\u001b[39m▃\u001b[39m▄\u001b[39m▃\u001b[39m▃\u001b[39m▃\u001b[39m▃\u001b[39m▃\u001b[39m▁\u001b[39m▂\u001b[39m▂\u001b[39m▂\u001b[39m▂\u001b[39m▃\u001b[39m▂\u001b[39m▃\u001b[39m▂\u001b[39m▂\u001b[39m▁\u001b[39m▂\u001b[39m▂\u001b[39m▂\u001b[39m▂\u001b[39m▃\u001b[39m▁\u001b[39m▂\u001b[39m▂\u001b[39m \u001b[39m▃\n",
       "  5.37 ms\u001b[90m         Histogram: frequency by time\u001b[39m        7.88 ms \u001b[0m\u001b[1m<\u001b[22m\n",
       "\n",
       " Memory estimate\u001b[90m: \u001b[39m\u001b[33m256 bytes\u001b[39m, allocs estimate\u001b[90m: \u001b[39m\u001b[33m2\u001b[39m."
      ]
     },
     "execution_count": 57,
     "metadata": {},
     "output_type": "execute_result"
    }
   ],
   "source": [
    "@benchmark mcmc_acc_par_ta_thread($ϵ, $Nc, $mT, $f, $Pa, $T, $P)"
   ]
  },
  {
   "cell_type": "code",
   "execution_count": 98,
   "id": "35b0431b",
   "metadata": {},
   "outputs": [
    {
     "data": {
      "text/plain": [
       "BenchmarkTools.Trial: 280 samples with 1 evaluation.\n",
       " Range \u001b[90m(\u001b[39m\u001b[36m\u001b[1mmin\u001b[22m\u001b[39m … \u001b[35mmax\u001b[39m\u001b[90m):  \u001b[39m\u001b[36m\u001b[1m16.618 ms\u001b[22m\u001b[39m … \u001b[35m22.393 ms\u001b[39m  \u001b[90m┊\u001b[39m GC \u001b[90m(\u001b[39mmin … max\u001b[90m): \u001b[39m0.00% … 0.00%\n",
       " Time  \u001b[90m(\u001b[39m\u001b[34m\u001b[1mmedian\u001b[22m\u001b[39m\u001b[90m):     \u001b[39m\u001b[34m\u001b[1m17.263 ms              \u001b[22m\u001b[39m\u001b[90m┊\u001b[39m GC \u001b[90m(\u001b[39mmedian\u001b[90m):    \u001b[39m0.00%\n",
       " Time  \u001b[90m(\u001b[39m\u001b[32m\u001b[1mmean\u001b[22m\u001b[39m ± \u001b[32mσ\u001b[39m\u001b[90m):   \u001b[39m\u001b[32m\u001b[1m17.862 ms\u001b[22m\u001b[39m ± \u001b[32m 1.196 ms\u001b[39m  \u001b[90m┊\u001b[39m GC \u001b[90m(\u001b[39mmean ± σ\u001b[90m):  \u001b[39m3.35% ± 5.06%\n",
       "\n",
       "  \u001b[39m▁\u001b[39m \u001b[39m▄\u001b[39m█\u001b[39m \u001b[39m \u001b[39m \u001b[34m \u001b[39m\u001b[39m \u001b[39m \u001b[39m \u001b[39m \u001b[39m \u001b[39m \u001b[32m \u001b[39m\u001b[39m \u001b[39m \u001b[39m \u001b[39m \u001b[39m \u001b[39m \u001b[39m \u001b[39m \u001b[39m \u001b[39m \u001b[39m \u001b[39m \u001b[39m \u001b[39m \u001b[39m \u001b[39m \u001b[39m \u001b[39m \u001b[39m \u001b[39m \u001b[39m \u001b[39m \u001b[39m \u001b[39m \u001b[39m \u001b[39m \u001b[39m \u001b[39m \u001b[39m \u001b[39m \u001b[39m \u001b[39m \u001b[39m \u001b[39m \u001b[39m \u001b[39m \u001b[39m \u001b[39m \u001b[39m \u001b[39m \u001b[39m \u001b[39m \u001b[39m \u001b[39m \u001b[39m \u001b[39m \n",
       "  \u001b[39m█\u001b[39m█\u001b[39m█\u001b[39m█\u001b[39m█\u001b[39m▆\u001b[39m▇\u001b[34m▆\u001b[39m\u001b[39m▃\u001b[39m▂\u001b[39m▄\u001b[39m▄\u001b[39m▄\u001b[39m▂\u001b[32m▄\u001b[39m\u001b[39m▂\u001b[39m▄\u001b[39m▃\u001b[39m▄\u001b[39m▄\u001b[39m▄\u001b[39m▃\u001b[39m▃\u001b[39m▄\u001b[39m▅\u001b[39m▆\u001b[39m▄\u001b[39m▆\u001b[39m▆\u001b[39m▄\u001b[39m▃\u001b[39m▂\u001b[39m▃\u001b[39m▂\u001b[39m▃\u001b[39m▂\u001b[39m▂\u001b[39m▁\u001b[39m▂\u001b[39m▃\u001b[39m▁\u001b[39m▁\u001b[39m▃\u001b[39m▂\u001b[39m▃\u001b[39m▁\u001b[39m▃\u001b[39m▂\u001b[39m▂\u001b[39m▁\u001b[39m▁\u001b[39m▁\u001b[39m▁\u001b[39m▁\u001b[39m▁\u001b[39m▁\u001b[39m▁\u001b[39m▁\u001b[39m▂\u001b[39m \u001b[39m▃\n",
       "  16.6 ms\u001b[90m         Histogram: frequency by time\u001b[39m        21.8 ms \u001b[0m\u001b[1m<\u001b[22m\n",
       "\n",
       " Memory estimate\u001b[90m: \u001b[39m\u001b[33m11.99 MiB\u001b[39m, allocs estimate\u001b[90m: \u001b[39m\u001b[33m785440\u001b[39m."
      ]
     },
     "execution_count": 98,
     "metadata": {},
     "output_type": "execute_result"
    }
   ],
   "source": [
    "@benchmark mcmc_acc_par_ta_spawn($ϵ, $Nc, $mT, $f, $Pa, $T, $P)"
   ]
  },
  {
   "cell_type": "code",
   "execution_count": 59,
   "id": "7ac9b416",
   "metadata": {},
   "outputs": [
    {
     "name": "stdout",
     "output_type": "stream",
     "text": [
      "  5.372 ms (2 allocations: 256 bytes)\n"
     ]
    },
    {
     "data": {
      "text/plain": [
       "6-element Array{Float64,1}:\n",
       " 0.9950365023709914\n",
       " 1.0130133387855134\n",
       " 1.0038897709844548\n",
       " 1.0043856216355755\n",
       " 0.980510090979655\n",
       " 0.9983028807538772"
      ]
     },
     "execution_count": 59,
     "metadata": {},
     "output_type": "execute_result"
    }
   ],
   "source": [
    "\n",
    "X  = @btime mcmc_acc_par_ta_thread($ϵ, $Nc, $mT, $f, $Pa, $T, $P)\n"
   ]
  },
  {
   "cell_type": "code",
   "execution_count": 99,
   "id": "7574aaa8",
   "metadata": {},
   "outputs": [
    {
     "name": "stdout",
     "output_type": "stream",
     "text": [
      "  16.582 ms (786002 allocations: 12.00 MiB)\n"
     ]
    },
    {
     "data": {
      "text/plain": [
       "6-element Array{Float64,1}:\n",
       " 8775.44187242786\n",
       " 8674.236596936427\n",
       " 8644.43987197075\n",
       " 8618.90512117059\n",
       " 8654.484610768133\n",
       " 8521.900205761258"
      ]
     },
     "execution_count": 99,
     "metadata": {},
     "output_type": "execute_result"
    }
   ],
   "source": [
    "Xs  = @btime mcmc_acc_par_ta_spawn($ϵ, $Nc, $mT, $f, $Pa, $T, $P)"
   ]
  },
  {
   "cell_type": "code",
   "execution_count": 88,
   "id": "6900b9d4",
   "metadata": {},
   "outputs": [
    {
     "data": {
      "text/plain": [
       "0.07574668702828037"
      ]
     },
     "execution_count": 88,
     "metadata": {},
     "output_type": "execute_result"
    }
   ],
   "source": [
    "norm(b-A*X)"
   ]
  },
  {
   "cell_type": "code",
   "execution_count": 64,
   "id": "3d9ef427",
   "metadata": {},
   "outputs": [
    {
     "data": {
      "text/plain": [
       "37659.6123360787"
      ]
     },
     "execution_count": 64,
     "metadata": {},
     "output_type": "execute_result"
    }
   ],
   "source": [
    "norm(b-A*Xs)"
   ]
  }
 ],
 "metadata": {
  "kernelspec": {
   "display_name": "Julia 1.4.1",
   "language": "julia",
   "name": "julia-1.4"
  },
  "language_info": {
   "file_extension": ".jl",
   "mimetype": "application/julia",
   "name": "julia",
   "version": "1.4.1"
  }
 },
 "nbformat": 4,
 "nbformat_minor": 5
}
