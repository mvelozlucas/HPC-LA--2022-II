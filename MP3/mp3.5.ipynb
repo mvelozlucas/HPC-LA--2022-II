{
 "cells": [
  {
   "cell_type": "markdown",
   "id": "ce2f2667",
   "metadata": {},
   "source": [
    "# 5.Método Cadena Markov-Monte Carlo (MCMC)"
   ]
  },
  {
   "cell_type": "code",
   "execution_count": 1,
   "id": "16ea3ecd",
   "metadata": {},
   "outputs": [],
   "source": [
    "using LinearAlgebra\n",
    "using BenchmarkTools\n",
    "using SparseArrays\n",
    "using Random\n",
    "\n",
    "using Plots\n",
    "using PyCall\n",
    "using DataFrames"
   ]
  },
  {
   "cell_type": "markdown",
   "id": "efaee863",
   "metadata": {},
   "source": [
    "## Implementación de la función que construye el sistema de ecuaciones de prueba $Ax = b$"
   ]
  },
  {
   "cell_type": "code",
   "execution_count": 2,
   "id": "a18944b7",
   "metadata": {},
   "outputs": [
    {
     "data": {
      "text/plain": [
       "matriz_dispersa (generic function with 1 method)"
      ]
     },
     "execution_count": 2,
     "metadata": {},
     "output_type": "execute_result"
    }
   ],
   "source": [
    "function matriz_dispersa(n)\n",
    "    e = ones(n)\n",
    "    n2 =Int(n/2)\n",
    "    diags = [-1,0,1]\n",
    "    A = Matrix(spdiagm(-1 => -ones(n-1)\n",
    "        ,0 => 3*ones(n),1 => -ones(n-1)))\n",
    "    c = spdiagm(0 => ones(n)/2)\n",
    "    ab = [x for x=1:n]\n",
    "    ba = [(n+1)-x for x=1:n]\n",
    "    c = Matrix(permute(c, ba, ab))\n",
    "\n",
    "    A = A + c\n",
    "    A[n2+1,n2] = -1\n",
    "    A[n2,n2+1] = -1\n",
    "    \n",
    "    b = zeros(n,1)\n",
    "    b[1] = 2.5\n",
    "    b[n] = 2.5\n",
    "    b[2:n-1] .= [1.5]\n",
    "    b[n2:n2+1] .= [1]\n",
    "    return A,b\n",
    "end"
   ]
  },
  {
   "cell_type": "markdown",
   "id": "55da954d",
   "metadata": {},
   "source": [
    "### Evaluación de parámetros"
   ]
  },
  {
   "cell_type": "code",
   "execution_count": 3,
   "id": "f2742759",
   "metadata": {},
   "outputs": [
    {
     "data": {
      "text/plain": [
       "preparametros (generic function with 1 method)"
      ]
     },
     "execution_count": 3,
     "metadata": {},
     "output_type": "execute_result"
    }
   ],
   "source": [
    "\n",
    "function preparametros(A,b,ϵ,δ)\n",
    "    M = diagm(0 => diag(A))\n",
    "    N = M-A\n",
    "    T = inv(M) * N\n",
    "    f = inv(M) * b\n",
    "    nT, mT = size(T);\n",
    "    print(nT, mT )\n",
    "\n",
    "    S = fill(0, nT)\n",
    "    P = fill(0., nT, mT)\n",
    "    Pa = P\n",
    "    [S[i] += 1 for i in 1:nT, j in 1:mT if T[i,j] != 0]\n",
    "    [P[i,j]= 1/S[i] for i in 1:nT, j in 1:mT if T[i,j] != 0 ]\n",
    "    Pa = [accumulate(+, P[i, 1:mT]) for i in 1:nT]\n",
    "    Pi = [1/nT for i in 1:nT];\n",
    "    Nc = floor((0.6745/δ)^2*((norm(f)^2)/(1-norm(T))^2)) + 1\n",
    "    return Nc, mT, f, Pa, T, P\n",
    "end"
   ]
  },
  {
   "cell_type": "markdown",
   "id": "68602e7d",
   "metadata": {},
   "source": [
    "### Matriz de probabilidad acumulada pre-build con envío de parámetros, type-anotations y view"
   ]
  },
  {
   "cell_type": "code",
   "execution_count": 4,
   "id": "9ed92514",
   "metadata": {},
   "outputs": [
    {
     "data": {
      "text/plain": [
       "mcmc_acc_par_ta (generic function with 1 method)"
      ]
     },
     "execution_count": 4,
     "metadata": {},
     "output_type": "execute_result"
    }
   ],
   "source": [
    "function mcmc_acc_par_ta(ϵ, Nc, mT, f, Pa, T, P)\n",
    "    Xs = fill(0., mT)\n",
    "    for i in 1:mT\n",
    "        W_0 = 1.0\n",
    "        for s in 1:Nc\n",
    "            W = W_0; point = i; X = W_0 * f[i]::Float64\n",
    "            while abs(W) >= ϵ\n",
    "                nextpoint  = 1::Int64\n",
    "                u = rand()\n",
    "                while u >= Pa[point][nextpoint]::Float64\n",
    "                    nextpoint = nextpoint + 1::Int64\n",
    "                end\n",
    "                    W_new = W *(T[point, nextpoint]/P[point, nextpoint])::Float64\n",
    "                    X = X + W_new * f[nextpoint]::Float64\n",
    "                point = nextpoint::Int64\n",
    "                W = W_new::Float64\n",
    "            end\n",
    "        Xs[i] += X::Float64\n",
    "        end\n",
    "    end\n",
    "    Xs = Xs/Nc::Float64\n",
    "end"
   ]
  },
  {
   "cell_type": "code",
   "execution_count": 25,
   "id": "8645e2d0",
   "metadata": {},
   "outputs": [
    {
     "ename": "MethodError",
     "evalue": "\u001b[91mMethodError: no method matching sparse(::Array{Float64,2}, ::Tuple{Int64,Int64})\u001b[39m\n\u001b[91m\u001b[0mClosest candidates are:\u001b[39m\n\u001b[91m\u001b[0m  sparse(::Any, ::Any, \u001b[91m::Number\u001b[39m) at /build/julia-98cBbp/julia-1.4.1+dfsg/usr/share/julia/stdlib/v1.4/SparseArrays/src/sparsematrix.jl:844\u001b[39m\n\u001b[91m\u001b[0m  sparse(::Any, ::Any, \u001b[91m::AbstractArray{Bool,1}\u001b[39m, \u001b[91m::Any\u001b[39m, \u001b[91m::Any\u001b[39m) at /build/julia-98cBbp/julia-1.4.1+dfsg/usr/share/julia/stdlib/v1.4/SparseArrays/src/sparsematrix.jl:852\u001b[39m\n\u001b[91m\u001b[0m  sparse(::Any, ::Any, \u001b[91m::AbstractArray{T,1} where T\u001b[39m) at /build/julia-98cBbp/julia-1.4.1+dfsg/usr/share/julia/stdlib/v1.4/SparseArrays/src/sparsematrix.jl:846\u001b[39m\n\u001b[91m\u001b[0m  ...\u001b[39m",
     "output_type": "error",
     "traceback": [
      "\u001b[91mMethodError: no method matching sparse(::Array{Float64,2}, ::Tuple{Int64,Int64})\u001b[39m\n\u001b[91m\u001b[0mClosest candidates are:\u001b[39m\n\u001b[91m\u001b[0m  sparse(::Any, ::Any, \u001b[91m::Number\u001b[39m) at /build/julia-98cBbp/julia-1.4.1+dfsg/usr/share/julia/stdlib/v1.4/SparseArrays/src/sparsematrix.jl:844\u001b[39m\n\u001b[91m\u001b[0m  sparse(::Any, ::Any, \u001b[91m::AbstractArray{Bool,1}\u001b[39m, \u001b[91m::Any\u001b[39m, \u001b[91m::Any\u001b[39m) at /build/julia-98cBbp/julia-1.4.1+dfsg/usr/share/julia/stdlib/v1.4/SparseArrays/src/sparsematrix.jl:852\u001b[39m\n\u001b[91m\u001b[0m  sparse(::Any, ::Any, \u001b[91m::AbstractArray{T,1} where T\u001b[39m) at /build/julia-98cBbp/julia-1.4.1+dfsg/usr/share/julia/stdlib/v1.4/SparseArrays/src/sparsematrix.jl:846\u001b[39m\n\u001b[91m\u001b[0m  ...\u001b[39m",
      "",
      "Stacktrace:",
      " [1] top-level scope at In[25]:3"
     ]
    }
   ],
   "source": [
    "n = [6, 10, 30, 50]\n",
    "A,b = matriz_dispersa(n[1])\n",
    "As = sparse(A,6,6))\n",
    "bs = sparse(b)\n",
    "dropzeros(As)\n",
    "dropzeros(bs)\n",
    "ϵ = 0.1\n",
    "δ = 0.1 \n",
    "(Nc, mT, f, Pa, T, P) = preparametros(A,b,ϵ,δ)\n",
    "(Ncs, mTs, fs, Pas, Ts, Ps) = preparametros(As,bs,ϵ,δ)"
   ]
  },
  {
   "cell_type": "code",
   "execution_count": 9,
   "id": "fa5209f4",
   "metadata": {},
   "outputs": [
    {
     "data": {
      "text/plain": [
       "true"
      ]
     },
     "execution_count": 9,
     "metadata": {},
     "output_type": "execute_result"
    }
   ],
   "source": [
    "(A == As)"
   ]
  },
  {
   "cell_type": "code",
   "execution_count": 10,
   "id": "5985ca9a",
   "metadata": {},
   "outputs": [
    {
     "data": {
      "text/plain": [
       "true"
      ]
     },
     "execution_count": 10,
     "metadata": {},
     "output_type": "execute_result"
    }
   ],
   "source": [
    "((Nc, mT, f, Pa, P) == (Ncs, mTs, fs, Pas, Ps))"
   ]
  },
  {
   "cell_type": "code",
   "execution_count": 11,
   "id": "09e236dc",
   "metadata": {},
   "outputs": [
    {
     "data": {
      "text/plain": [
       "BenchmarkTools.Trial: 893 samples with 1 evaluation.\n",
       " Range \u001b[90m(\u001b[39m\u001b[36m\u001b[1mmin\u001b[22m\u001b[39m … \u001b[35mmax\u001b[39m\u001b[90m):  \u001b[39m\u001b[36m\u001b[1m5.394 ms\u001b[22m\u001b[39m … \u001b[35m  8.808 ms\u001b[39m  \u001b[90m┊\u001b[39m GC \u001b[90m(\u001b[39mmin … max\u001b[90m): \u001b[39m0.00% … 0.00%\n",
       " Time  \u001b[90m(\u001b[39m\u001b[34m\u001b[1mmedian\u001b[22m\u001b[39m\u001b[90m):     \u001b[39m\u001b[34m\u001b[1m5.505 ms               \u001b[22m\u001b[39m\u001b[90m┊\u001b[39m GC \u001b[90m(\u001b[39mmedian\u001b[90m):    \u001b[39m0.00%\n",
       " Time  \u001b[90m(\u001b[39m\u001b[32m\u001b[1mmean\u001b[22m\u001b[39m ± \u001b[32mσ\u001b[39m\u001b[90m):   \u001b[39m\u001b[32m\u001b[1m5.600 ms\u001b[22m\u001b[39m ± \u001b[32m291.468 μs\u001b[39m  \u001b[90m┊\u001b[39m GC \u001b[90m(\u001b[39mmean ± σ\u001b[90m):  \u001b[39m0.00% ± 0.00%\n",
       "\n",
       "  \u001b[39m \u001b[39m█\u001b[39m▂\u001b[39m▅\u001b[39m▄\u001b[39m▄\u001b[34m▃\u001b[39m\u001b[39m▂\u001b[39m▁\u001b[39m \u001b[39m \u001b[39m \u001b[32m \u001b[39m\u001b[39m \u001b[39m \u001b[39m \u001b[39m \u001b[39m \u001b[39m \u001b[39m \u001b[39m \u001b[39m \u001b[39m \u001b[39m \u001b[39m \u001b[39m \u001b[39m \u001b[39m \u001b[39m \u001b[39m \u001b[39m \u001b[39m \u001b[39m \u001b[39m \u001b[39m \u001b[39m \u001b[39m \u001b[39m \u001b[39m \u001b[39m \u001b[39m \u001b[39m \u001b[39m \u001b[39m \u001b[39m \u001b[39m \u001b[39m \u001b[39m \u001b[39m \u001b[39m \u001b[39m \u001b[39m \u001b[39m \u001b[39m \u001b[39m \u001b[39m \u001b[39m \u001b[39m \u001b[39m \u001b[39m \u001b[39m \n",
       "  \u001b[39m█\u001b[39m█\u001b[39m█\u001b[39m█\u001b[39m█\u001b[39m█\u001b[34m█\u001b[39m\u001b[39m█\u001b[39m█\u001b[39m▇\u001b[39m▄\u001b[39m▄\u001b[32m▅\u001b[39m\u001b[39m▄\u001b[39m▃\u001b[39m▄\u001b[39m▃\u001b[39m▃\u001b[39m▃\u001b[39m▃\u001b[39m▃\u001b[39m▃\u001b[39m▃\u001b[39m▂\u001b[39m▃\u001b[39m▃\u001b[39m▃\u001b[39m▃\u001b[39m▁\u001b[39m▃\u001b[39m▃\u001b[39m▂\u001b[39m▃\u001b[39m▂\u001b[39m▂\u001b[39m▂\u001b[39m▃\u001b[39m▃\u001b[39m▃\u001b[39m▃\u001b[39m▃\u001b[39m▃\u001b[39m▃\u001b[39m▃\u001b[39m▁\u001b[39m▃\u001b[39m▂\u001b[39m▂\u001b[39m▂\u001b[39m▃\u001b[39m▂\u001b[39m▂\u001b[39m▁\u001b[39m▃\u001b[39m▁\u001b[39m▂\u001b[39m▁\u001b[39m▂\u001b[39m▂\u001b[39m \u001b[39m▃\n",
       "  5.39 ms\u001b[90m         Histogram: frequency by time\u001b[39m        6.43 ms \u001b[0m\u001b[1m<\u001b[22m\n",
       "\n",
       " Memory estimate\u001b[90m: \u001b[39m\u001b[33m256 bytes\u001b[39m, allocs estimate\u001b[90m: \u001b[39m\u001b[33m2\u001b[39m."
      ]
     },
     "execution_count": 11,
     "metadata": {},
     "output_type": "execute_result"
    }
   ],
   "source": [
    "@benchmark mcmc_acc_par_ta($ϵ, $Nc, $mT, $f, $Pa, $T, $P)"
   ]
  },
  {
   "cell_type": "code",
   "execution_count": 12,
   "id": "41e0eb80",
   "metadata": {},
   "outputs": [
    {
     "data": {
      "text/plain": [
       "BenchmarkTools.Trial: 753 samples with 1 evaluation.\n",
       " Range \u001b[90m(\u001b[39m\u001b[36m\u001b[1mmin\u001b[22m\u001b[39m … \u001b[35mmax\u001b[39m\u001b[90m):  \u001b[39m\u001b[36m\u001b[1m5.405 ms\u001b[22m\u001b[39m … \u001b[35m26.076 ms\u001b[39m  \u001b[90m┊\u001b[39m GC \u001b[90m(\u001b[39mmin … max\u001b[90m): \u001b[39m0.00% … 0.00%\n",
       " Time  \u001b[90m(\u001b[39m\u001b[34m\u001b[1mmedian\u001b[22m\u001b[39m\u001b[90m):     \u001b[39m\u001b[34m\u001b[1m5.517 ms              \u001b[22m\u001b[39m\u001b[90m┊\u001b[39m GC \u001b[90m(\u001b[39mmedian\u001b[90m):    \u001b[39m0.00%\n",
       " Time  \u001b[90m(\u001b[39m\u001b[32m\u001b[1mmean\u001b[22m\u001b[39m ± \u001b[32mσ\u001b[39m\u001b[90m):   \u001b[39m\u001b[32m\u001b[1m6.639 ms\u001b[22m\u001b[39m ± \u001b[32m 4.493 ms\u001b[39m  \u001b[90m┊\u001b[39m GC \u001b[90m(\u001b[39mmean ± σ\u001b[90m):  \u001b[39m0.00% ± 0.00%\n",
       "\n",
       "  \u001b[34m█\u001b[39m\u001b[39m▃\u001b[39m \u001b[32m \u001b[39m\u001b[39m \u001b[39m \u001b[39m \u001b[39m \u001b[39m \u001b[39m \u001b[39m \u001b[39m \u001b[39m \u001b[39m \u001b[39m \u001b[39m \u001b[39m \u001b[39m \u001b[39m \u001b[39m \u001b[39m \u001b[39m \u001b[39m \u001b[39m \u001b[39m \u001b[39m \u001b[39m \u001b[39m \u001b[39m \u001b[39m \u001b[39m \u001b[39m \u001b[39m \u001b[39m \u001b[39m \u001b[39m \u001b[39m \u001b[39m \u001b[39m \u001b[39m \u001b[39m \u001b[39m \u001b[39m \u001b[39m \u001b[39m \u001b[39m \u001b[39m \u001b[39m \u001b[39m \u001b[39m \u001b[39m \u001b[39m \u001b[39m \u001b[39m \u001b[39m \u001b[39m \u001b[39m \u001b[39m▁\u001b[39m \u001b[39m \n",
       "  \u001b[34m█\u001b[39m\u001b[39m█\u001b[39m█\u001b[32m▇\u001b[39m\u001b[39m▄\u001b[39m▄\u001b[39m▁\u001b[39m▁\u001b[39m▁\u001b[39m▁\u001b[39m▁\u001b[39m▁\u001b[39m▄\u001b[39m▁\u001b[39m▁\u001b[39m▁\u001b[39m▁\u001b[39m▁\u001b[39m▁\u001b[39m▁\u001b[39m▁\u001b[39m▁\u001b[39m▁\u001b[39m▁\u001b[39m▁\u001b[39m▁\u001b[39m▁\u001b[39m▁\u001b[39m▁\u001b[39m▁\u001b[39m▁\u001b[39m▁\u001b[39m▁\u001b[39m▁\u001b[39m▁\u001b[39m▁\u001b[39m▁\u001b[39m▁\u001b[39m▁\u001b[39m▁\u001b[39m▁\u001b[39m▁\u001b[39m▁\u001b[39m▁\u001b[39m▄\u001b[39m▁\u001b[39m▁\u001b[39m▁\u001b[39m▁\u001b[39m▁\u001b[39m▁\u001b[39m▁\u001b[39m▁\u001b[39m▁\u001b[39m▁\u001b[39m▁\u001b[39m▁\u001b[39m█\u001b[39m \u001b[39m▇\n",
       "  5.4 ms\u001b[90m       \u001b[39m\u001b[90mHistogram: \u001b[39m\u001b[90m\u001b[1mlog(\u001b[22m\u001b[39m\u001b[90mfrequency\u001b[39m\u001b[90m\u001b[1m)\u001b[22m\u001b[39m\u001b[90m by time\u001b[39m       26 ms \u001b[0m\u001b[1m<\u001b[22m\n",
       "\n",
       " Memory estimate\u001b[90m: \u001b[39m\u001b[33m256 bytes\u001b[39m, allocs estimate\u001b[90m: \u001b[39m\u001b[33m2\u001b[39m."
      ]
     },
     "execution_count": 12,
     "metadata": {},
     "output_type": "execute_result"
    }
   ],
   "source": [
    "@benchmark mcmc_acc_par_ta($ϵ, $Ncs, $mT, $fs, $Pas, $Ts, $Ps)"
   ]
  },
  {
   "cell_type": "code",
   "execution_count": 13,
   "id": "c9572a68",
   "metadata": {},
   "outputs": [
    {
     "name": "stdout",
     "output_type": "stream",
     "text": [
      "  5.399 ms (2 allocations: 256 bytes)\n",
      "  5.398 ms (2 allocations: 256 bytes)\n"
     ]
    },
    {
     "data": {
      "text/plain": [
       "6-element Array{Float64,1}:\n",
       " 0.99465859587673\n",
       " 0.9883159755115202\n",
       " 1.0021780628269485\n",
       " 0.9984776626731919\n",
       " 1.014125002565155\n",
       " 1.0008155539509662"
      ]
     },
     "execution_count": 13,
     "metadata": {},
     "output_type": "execute_result"
    }
   ],
   "source": [
    "X  = @btime mcmc_acc_par_ta($ϵ, $Nc, $mT, $f, $Pa, $T, $P)\n",
    "Xs = @btime mcmc_acc_par_ta($ϵ, $Ncs, $mTs, $fs, $Pas, $Ts, $Ps)"
   ]
  },
  {
   "cell_type": "code",
   "execution_count": 14,
   "id": "92e9655a",
   "metadata": {},
   "outputs": [
    {
     "data": {
      "text/plain": [
       "6-element Array{Float64,1}:\n",
       " 1.0065599726086283\n",
       " 1.0219244046093603\n",
       " 1.000907462104228\n",
       " 1.0042119930422915\n",
       " 0.9908137118109228\n",
       " 0.9929341149649071"
      ]
     },
     "execution_count": 14,
     "metadata": {},
     "output_type": "execute_result"
    }
   ],
   "source": [
    "X "
   ]
  },
  {
   "cell_type": "code",
   "execution_count": 15,
   "id": "769e46e6",
   "metadata": {},
   "outputs": [
    {
     "data": {
      "text/plain": [
       "0.06456912262293907"
      ]
     },
     "execution_count": 15,
     "metadata": {},
     "output_type": "execute_result"
    }
   ],
   "source": [
    "norm(b-A*X)"
   ]
  },
  {
   "cell_type": "code",
   "execution_count": 16,
   "id": "0eb049e8",
   "metadata": {},
   "outputs": [
    {
     "data": {
      "text/plain": [
       "0.055224552571383534"
      ]
     },
     "execution_count": 16,
     "metadata": {},
     "output_type": "execute_result"
    }
   ],
   "source": [
    "norm(bs-As*Xs)"
   ]
  },
  {
   "cell_type": "code",
   "execution_count": 17,
   "id": "030f746f",
   "metadata": {},
   "outputs": [
    {
     "name": "stdout",
     "output_type": "stream",
     "text": [
      "6666101010103030303050505050"
     ]
    }
   ],
   "source": [
    "yJacobiJ = []\n",
    "yJacobiP = []\n",
    "\n",
    "for i = n\n",
    "    A,b = matriz_dispersa(i)\n",
    "    As = sparse(A)\n",
    "    bs = sparse(b)\n",
    "    ϵ = 0.1\n",
    "    δ = 0.1 \n",
    "    (Nc, mT, f, Pa, T, P) = preparametros(A,b,ϵ,δ)\n",
    "    (Ncs, mTs, fs, Pas, Ts, Ps) = preparametros(As,bs,ϵ,δ)\n",
    "    jJ = @benchmark mcmc_acc_par_ta(ϵ, Ncs, mTs, fs, Pas, Ts, Ps) seconds=1\n",
    "    push!(yJacobiJ, jJ)\n",
    "    jP = @benchmark mcmc_acc_par_ta(ϵ, Nc, mT, f, Pa, T, P) seconds=1   \n",
    "    push!(yJacobiP, jP)\n",
    "\n",
    "end"
   ]
  },
  {
   "cell_type": "code",
   "execution_count": 18,
   "id": "9ff81376",
   "metadata": {},
   "outputs": [
    {
     "data": {
      "image/svg+xml": [
       "<?xml version=\"1.0\" encoding=\"utf-8\"?>\n",
       "<svg xmlns=\"http://www.w3.org/2000/svg\" xmlns:xlink=\"http://www.w3.org/1999/xlink\" width=\"600\" height=\"400\" viewBox=\"0 0 2400 1600\">\n",
       "<defs>\n",
       "  <clipPath id=\"clip590\">\n",
       "    <rect x=\"0\" y=\"0\" width=\"2400\" height=\"1600\"/>\n",
       "  </clipPath>\n",
       "</defs>\n",
       "<path clip-path=\"url(#clip590)\" d=\"\n",
       "M0 1600 L2400 1600 L2400 0 L0 0  Z\n",
       "  \" fill=\"#ffffff\" fill-rule=\"evenodd\" fill-opacity=\"1\"/>\n",
       "<defs>\n",
       "  <clipPath id=\"clip591\">\n",
       "    <rect x=\"480\" y=\"0\" width=\"1681\" height=\"1600\"/>\n",
       "  </clipPath>\n",
       "</defs>\n",
       "<path clip-path=\"url(#clip590)\" d=\"\n",
       "M265.63 1423.18 L2352.76 1423.18 L2352.76 123.472 L265.63 123.472  Z\n",
       "  \" fill=\"#ffffff\" fill-rule=\"evenodd\" fill-opacity=\"1\"/>\n",
       "<defs>\n",
       "  <clipPath id=\"clip592\">\n",
       "    <rect x=\"265\" y=\"123\" width=\"2088\" height=\"1301\"/>\n",
       "  </clipPath>\n",
       "</defs>\n",
       "<polyline clip-path=\"url(#clip592)\" style=\"stroke:#000000; stroke-width:2; stroke-opacity:0.1; fill:none\" points=\"\n",
       "  503.698,1423.18 503.698,123.472 \n",
       "  \"/>\n",
       "<polyline clip-path=\"url(#clip592)\" style=\"stroke:#000000; stroke-width:2; stroke-opacity:0.1; fill:none\" points=\"\n",
       "  951.195,1423.18 951.195,123.472 \n",
       "  \"/>\n",
       "<polyline clip-path=\"url(#clip592)\" style=\"stroke:#000000; stroke-width:2; stroke-opacity:0.1; fill:none\" points=\"\n",
       "  1398.69,1423.18 1398.69,123.472 \n",
       "  \"/>\n",
       "<polyline clip-path=\"url(#clip592)\" style=\"stroke:#000000; stroke-width:2; stroke-opacity:0.1; fill:none\" points=\"\n",
       "  1846.19,1423.18 1846.19,123.472 \n",
       "  \"/>\n",
       "<polyline clip-path=\"url(#clip592)\" style=\"stroke:#000000; stroke-width:2; stroke-opacity:0.1; fill:none\" points=\"\n",
       "  2293.69,1423.18 2293.69,123.472 \n",
       "  \"/>\n",
       "<polyline clip-path=\"url(#clip590)\" style=\"stroke:#000000; stroke-width:4; stroke-opacity:1; fill:none\" points=\"\n",
       "  265.63,1423.18 2352.76,1423.18 \n",
       "  \"/>\n",
       "<polyline clip-path=\"url(#clip590)\" style=\"stroke:#000000; stroke-width:4; stroke-opacity:1; fill:none\" points=\"\n",
       "  503.698,1423.18 503.698,1407.58 \n",
       "  \"/>\n",
       "<polyline clip-path=\"url(#clip590)\" style=\"stroke:#000000; stroke-width:4; stroke-opacity:1; fill:none\" points=\"\n",
       "  951.195,1423.18 951.195,1407.58 \n",
       "  \"/>\n",
       "<polyline clip-path=\"url(#clip590)\" style=\"stroke:#000000; stroke-width:4; stroke-opacity:1; fill:none\" points=\"\n",
       "  1398.69,1423.18 1398.69,1407.58 \n",
       "  \"/>\n",
       "<polyline clip-path=\"url(#clip590)\" style=\"stroke:#000000; stroke-width:4; stroke-opacity:1; fill:none\" points=\"\n",
       "  1846.19,1423.18 1846.19,1407.58 \n",
       "  \"/>\n",
       "<polyline clip-path=\"url(#clip590)\" style=\"stroke:#000000; stroke-width:4; stroke-opacity:1; fill:none\" points=\"\n",
       "  2293.69,1423.18 2293.69,1407.58 \n",
       "  \"/>\n",
       "<path clip-path=\"url(#clip590)\" d=\"M 0 0 M480.573 1479.92 L488.212 1479.92 L488.212 1453.55 L479.902 1455.22 L479.902 1450.96 L488.166 1449.29 L492.842 1449.29 L492.842 1479.92 L500.481 1479.92 L500.481 1483.85 L480.573 1483.85 L480.573 1479.92 Z\" fill=\"#000000\" fill-rule=\"evenodd\" fill-opacity=\"1\" /><path clip-path=\"url(#clip590)\" d=\"M 0 0 M515.55 1452.37 Q511.939 1452.37 510.11 1455.94 Q508.305 1459.48 508.305 1466.61 Q508.305 1473.71 510.11 1477.28 Q511.939 1480.82 515.55 1480.82 Q519.184 1480.82 520.99 1477.28 Q522.819 1473.71 522.819 1466.61 Q522.819 1459.48 520.99 1455.94 Q519.184 1452.37 515.55 1452.37 M515.55 1448.67 Q521.36 1448.67 524.416 1453.27 Q527.494 1457.86 527.494 1466.61 Q527.494 1475.33 524.416 1479.94 Q521.36 1484.52 515.55 1484.52 Q509.74 1484.52 506.661 1479.94 Q503.606 1475.33 503.606 1466.61 Q503.606 1457.86 506.661 1453.27 Q509.74 1448.67 515.55 1448.67 Z\" fill=\"#000000\" fill-rule=\"evenodd\" fill-opacity=\"1\" /><path clip-path=\"url(#clip590)\" d=\"M 0 0 M932.341 1479.92 L948.661 1479.92 L948.661 1483.85 L926.716 1483.85 L926.716 1479.92 Q929.378 1477.16 933.962 1472.53 Q938.568 1467.88 939.749 1466.54 Q941.994 1464.01 942.874 1462.28 Q943.776 1460.52 943.776 1458.83 Q943.776 1456.07 941.832 1454.34 Q939.911 1452.6 936.809 1452.6 Q934.61 1452.6 932.156 1453.37 Q929.726 1454.13 926.948 1455.68 L926.948 1450.96 Q929.772 1449.82 932.226 1449.25 Q934.679 1448.67 936.716 1448.67 Q942.087 1448.67 945.281 1451.35 Q948.475 1454.04 948.475 1458.53 Q948.475 1460.66 947.665 1462.58 Q946.878 1464.48 944.772 1467.07 Q944.193 1467.74 941.091 1470.96 Q937.989 1474.15 932.341 1479.92 Z\" fill=\"#000000\" fill-rule=\"evenodd\" fill-opacity=\"1\" /><path clip-path=\"url(#clip590)\" d=\"M 0 0 M963.73 1452.37 Q960.119 1452.37 958.29 1455.94 Q956.485 1459.48 956.485 1466.61 Q956.485 1473.71 958.29 1477.28 Q960.119 1480.82 963.73 1480.82 Q967.364 1480.82 969.17 1477.28 Q970.998 1473.71 970.998 1466.61 Q970.998 1459.48 969.17 1455.94 Q967.364 1452.37 963.73 1452.37 M963.73 1448.67 Q969.54 1448.67 972.596 1453.27 Q975.674 1457.86 975.674 1466.61 Q975.674 1475.33 972.596 1479.94 Q969.54 1484.52 963.73 1484.52 Q957.92 1484.52 954.841 1479.94 Q951.786 1475.33 951.786 1466.61 Q951.786 1457.86 954.841 1453.27 Q957.92 1448.67 963.73 1448.67 Z\" fill=\"#000000\" fill-rule=\"evenodd\" fill-opacity=\"1\" /><path clip-path=\"url(#clip590)\" d=\"M 0 0 M1389.43 1465.22 Q1392.79 1465.94 1394.66 1468.2 Q1396.56 1470.47 1396.56 1473.81 Q1396.56 1478.92 1393.04 1481.72 Q1389.53 1484.52 1383.04 1484.52 Q1380.87 1484.52 1378.55 1484.08 Q1376.26 1483.67 1373.81 1482.81 L1373.81 1478.3 Q1375.75 1479.43 1378.07 1480.01 Q1380.38 1480.59 1382.91 1480.59 Q1387.3 1480.59 1389.6 1478.85 Q1391.91 1477.12 1391.91 1473.81 Q1391.91 1470.75 1389.76 1469.04 Q1387.63 1467.3 1383.81 1467.3 L1379.78 1467.3 L1379.78 1463.46 L1383.99 1463.46 Q1387.44 1463.46 1389.27 1462.09 Q1391.1 1460.7 1391.1 1458.11 Q1391.1 1455.45 1389.2 1454.04 Q1387.33 1452.6 1383.81 1452.6 Q1381.89 1452.6 1379.69 1453.02 Q1377.49 1453.44 1374.85 1454.31 L1374.85 1450.15 Q1377.51 1449.41 1379.83 1449.04 Q1382.16 1448.67 1384.22 1448.67 Q1389.55 1448.67 1392.65 1451.1 Q1395.75 1453.5 1395.75 1457.63 Q1395.75 1460.5 1394.11 1462.49 Q1392.47 1464.45 1389.43 1465.22 Z\" fill=\"#000000\" fill-rule=\"evenodd\" fill-opacity=\"1\" /><path clip-path=\"url(#clip590)\" d=\"M 0 0 M1411.63 1452.37 Q1408.02 1452.37 1406.19 1455.94 Q1404.39 1459.48 1404.39 1466.61 Q1404.39 1473.71 1406.19 1477.28 Q1408.02 1480.82 1411.63 1480.82 Q1415.27 1480.82 1417.07 1477.28 Q1418.9 1473.71 1418.9 1466.61 Q1418.9 1459.48 1417.07 1455.94 Q1415.27 1452.37 1411.63 1452.37 M1411.63 1448.67 Q1417.44 1448.67 1420.5 1453.27 Q1423.58 1457.86 1423.58 1466.61 Q1423.58 1475.33 1420.5 1479.94 Q1417.44 1484.52 1411.63 1484.52 Q1405.82 1484.52 1402.74 1479.94 Q1399.69 1475.33 1399.69 1466.61 Q1399.69 1457.86 1402.74 1453.27 Q1405.82 1448.67 1411.63 1448.67 Z\" fill=\"#000000\" fill-rule=\"evenodd\" fill-opacity=\"1\" /><path clip-path=\"url(#clip590)\" d=\"M 0 0 M1835.69 1453.37 L1823.89 1471.81 L1835.69 1471.81 L1835.69 1453.37 M1834.46 1449.29 L1840.34 1449.29 L1840.34 1471.81 L1845.27 1471.81 L1845.27 1475.7 L1840.34 1475.7 L1840.34 1483.85 L1835.69 1483.85 L1835.69 1475.7 L1820.09 1475.7 L1820.09 1471.19 L1834.46 1449.29 Z\" fill=\"#000000\" fill-rule=\"evenodd\" fill-opacity=\"1\" /><path clip-path=\"url(#clip590)\" d=\"M 0 0 M1860.34 1452.37 Q1856.73 1452.37 1854.9 1455.94 Q1853.1 1459.48 1853.1 1466.61 Q1853.1 1473.71 1854.9 1477.28 Q1856.73 1480.82 1860.34 1480.82 Q1863.98 1480.82 1865.78 1477.28 Q1867.61 1473.71 1867.61 1466.61 Q1867.61 1459.48 1865.78 1455.94 Q1863.98 1452.37 1860.34 1452.37 M1860.34 1448.67 Q1866.15 1448.67 1869.21 1453.27 Q1872.29 1457.86 1872.29 1466.61 Q1872.29 1475.33 1869.21 1479.94 Q1866.15 1484.52 1860.34 1484.52 Q1854.53 1484.52 1851.46 1479.94 Q1848.4 1475.33 1848.4 1466.61 Q1848.4 1457.86 1851.46 1453.27 Q1854.53 1448.67 1860.34 1448.67 Z\" fill=\"#000000\" fill-rule=\"evenodd\" fill-opacity=\"1\" /><path clip-path=\"url(#clip590)\" d=\"M 0 0 M2270.46 1449.29 L2288.81 1449.29 L2288.81 1453.23 L2274.74 1453.23 L2274.74 1461.7 Q2275.76 1461.35 2276.78 1461.19 Q2277.8 1461 2278.81 1461 Q2284.6 1461 2287.98 1464.18 Q2291.36 1467.35 2291.36 1472.76 Q2291.36 1478.34 2287.89 1481.44 Q2284.42 1484.52 2278.1 1484.52 Q2275.92 1484.52 2273.65 1484.15 Q2271.41 1483.78 2269 1483.04 L2269 1478.34 Q2271.08 1479.48 2273.3 1480.03 Q2275.53 1480.59 2278 1480.59 Q2282.01 1480.59 2284.35 1478.48 Q2286.68 1476.38 2286.68 1472.76 Q2286.68 1469.15 2284.35 1467.05 Q2282.01 1464.94 2278 1464.94 Q2276.13 1464.94 2274.25 1465.36 Q2272.4 1465.77 2270.46 1466.65 L2270.46 1449.29 Z\" fill=\"#000000\" fill-rule=\"evenodd\" fill-opacity=\"1\" /><path clip-path=\"url(#clip590)\" d=\"M 0 0 M2306.43 1452.37 Q2302.82 1452.37 2300.99 1455.94 Q2299.18 1459.48 2299.18 1466.61 Q2299.18 1473.71 2300.99 1477.28 Q2302.82 1480.82 2306.43 1480.82 Q2310.06 1480.82 2311.87 1477.28 Q2313.7 1473.71 2313.7 1466.61 Q2313.7 1459.48 2311.87 1455.94 Q2310.06 1452.37 2306.43 1452.37 M2306.43 1448.67 Q2312.24 1448.67 2315.29 1453.27 Q2318.37 1457.86 2318.37 1466.61 Q2318.37 1475.33 2315.29 1479.94 Q2312.24 1484.52 2306.43 1484.52 Q2300.62 1484.52 2297.54 1479.94 Q2294.48 1475.33 2294.48 1466.61 Q2294.48 1457.86 2297.54 1453.27 Q2300.62 1448.67 2306.43 1448.67 Z\" fill=\"#000000\" fill-rule=\"evenodd\" fill-opacity=\"1\" /><path clip-path=\"url(#clip590)\" d=\"M 0 0 M932.088 1513.81 L932.088 1550.76 L939.855 1550.76 Q949.69 1550.76 954.241 1546.3 Q958.824 1541.85 958.824 1532.24 Q958.824 1522.69 954.241 1518.26 Q949.69 1513.81 939.855 1513.81 L932.088 1513.81 M925.659 1508.52 L938.868 1508.52 Q952.682 1508.52 959.143 1514.28 Q965.604 1520.01 965.604 1532.24 Q965.604 1544.52 959.111 1550.28 Q952.618 1556.04 938.868 1556.04 L925.659 1556.04 L925.659 1508.52 Z\" fill=\"#000000\" fill-rule=\"evenodd\" fill-opacity=\"1\" /><path clip-path=\"url(#clip590)\" d=\"M 0 0 M971.747 1520.4 L977.603 1520.4 L977.603 1556.04 L971.747 1556.04 L971.747 1520.4 M971.747 1506.52 L977.603 1506.52 L977.603 1513.93 L971.747 1513.93 L971.747 1506.52 Z\" fill=\"#000000\" fill-rule=\"evenodd\" fill-opacity=\"1\" /><path clip-path=\"url(#clip590)\" d=\"M 0 0 M1011.5 1527.24 Q1013.7 1523.29 1016.75 1521.41 Q1019.81 1519.54 1023.95 1519.54 Q1029.52 1519.54 1032.54 1523.45 Q1035.56 1527.33 1035.56 1534.53 L1035.56 1556.04 L1029.67 1556.04 L1029.67 1534.72 Q1029.67 1529.59 1027.86 1527.11 Q1026.05 1524.63 1022.32 1524.63 Q1017.77 1524.63 1015.13 1527.65 Q1012.49 1530.68 1012.49 1535.9 L1012.49 1556.04 L1006.6 1556.04 L1006.6 1534.72 Q1006.6 1529.56 1004.78 1527.11 Q1002.97 1524.63 999.183 1524.63 Q994.695 1524.63 992.053 1527.68 Q989.412 1530.71 989.412 1535.9 L989.412 1556.04 L983.523 1556.04 L983.523 1520.4 L989.412 1520.4 L989.412 1525.93 Q991.417 1522.66 994.218 1521.1 Q997.019 1519.54 1000.87 1519.54 Q1004.75 1519.54 1007.46 1521.51 Q1010.2 1523.48 1011.5 1527.24 Z\" fill=\"#000000\" fill-rule=\"evenodd\" fill-opacity=\"1\" /><path clip-path=\"url(#clip590)\" d=\"M 0 0 M1072.2 1536.76 L1072.2 1539.62 L1045.27 1539.62 Q1045.65 1545.67 1048.9 1548.85 Q1052.18 1552 1058 1552 Q1061.38 1552 1064.53 1551.17 Q1067.71 1550.35 1070.83 1548.69 L1070.83 1554.23 Q1067.68 1555.57 1064.37 1556.27 Q1061.06 1556.97 1057.65 1556.97 Q1049.12 1556.97 1044.12 1552 Q1039.16 1547.04 1039.16 1538.57 Q1039.16 1529.82 1043.87 1524.69 Q1048.61 1519.54 1056.63 1519.54 Q1063.83 1519.54 1068 1524.18 Q1072.2 1528.8 1072.2 1536.76 M1066.34 1535.04 Q1066.28 1530.23 1063.64 1527.37 Q1061.03 1524.5 1056.7 1524.5 Q1051.8 1524.5 1048.84 1527.27 Q1045.91 1530.04 1045.46 1535.07 L1066.34 1535.04 Z\" fill=\"#000000\" fill-rule=\"evenodd\" fill-opacity=\"1\" /><path clip-path=\"url(#clip590)\" d=\"M 0 0 M1107.97 1534.53 L1107.97 1556.04 L1102.12 1556.04 L1102.12 1534.72 Q1102.12 1529.66 1100.14 1527.14 Q1098.17 1524.63 1094.22 1524.63 Q1089.48 1524.63 1086.74 1527.65 Q1084.01 1530.68 1084.01 1535.9 L1084.01 1556.04 L1078.12 1556.04 L1078.12 1520.4 L1084.01 1520.4 L1084.01 1525.93 Q1086.11 1522.72 1088.94 1521.13 Q1091.8 1519.54 1095.53 1519.54 Q1101.67 1519.54 1104.82 1523.36 Q1107.97 1527.14 1107.97 1534.53 Z\" fill=\"#000000\" fill-rule=\"evenodd\" fill-opacity=\"1\" /><path clip-path=\"url(#clip590)\" d=\"M 0 0 M1136.84 1521.45 L1136.84 1526.98 Q1134.36 1525.71 1131.69 1525.07 Q1129.01 1524.44 1126.15 1524.44 Q1121.79 1524.44 1119.59 1525.77 Q1117.43 1527.11 1117.43 1529.79 Q1117.43 1531.82 1118.99 1533 Q1120.55 1534.15 1125.26 1535.2 L1127.26 1535.64 Q1133.5 1536.98 1136.11 1539.43 Q1138.75 1541.85 1138.75 1546.21 Q1138.75 1551.17 1134.8 1554.07 Q1130.89 1556.97 1124.01 1556.97 Q1121.15 1556.97 1118.03 1556.39 Q1114.94 1555.85 1111.51 1554.74 L1111.51 1548.69 Q1114.75 1550.38 1117.9 1551.24 Q1121.05 1552.07 1124.14 1552.07 Q1128.28 1552.07 1130.51 1550.66 Q1132.74 1549.23 1132.74 1546.65 Q1132.74 1544.27 1131.11 1542.99 Q1129.52 1541.72 1124.08 1540.54 L1122.04 1540.07 Q1116.6 1538.92 1114.18 1536.56 Q1111.76 1534.18 1111.76 1530.04 Q1111.76 1525.01 1115.33 1522.27 Q1118.89 1519.54 1125.45 1519.54 Q1128.69 1519.54 1131.56 1520.01 Q1134.42 1520.49 1136.84 1521.45 Z\" fill=\"#000000\" fill-rule=\"evenodd\" fill-opacity=\"1\" /><path clip-path=\"url(#clip590)\" d=\"M 0 0 M1144.89 1520.4 L1150.75 1520.4 L1150.75 1556.04 L1144.89 1556.04 L1144.89 1520.4 M1144.89 1506.52 L1150.75 1506.52 L1150.75 1513.93 L1144.89 1513.93 L1144.89 1506.52 Z\" fill=\"#000000\" fill-rule=\"evenodd\" fill-opacity=\"1\" /><path clip-path=\"url(#clip590)\" d=\"M 0 0 M1170.71 1524.5 Q1166 1524.5 1163.26 1528.19 Q1160.52 1531.85 1160.52 1538.25 Q1160.52 1544.65 1163.23 1548.34 Q1165.96 1552 1170.71 1552 Q1175.39 1552 1178.12 1548.31 Q1180.86 1544.62 1180.86 1538.25 Q1180.86 1531.92 1178.12 1528.23 Q1175.39 1524.5 1170.71 1524.5 M1170.71 1519.54 Q1178.35 1519.54 1182.71 1524.5 Q1187.07 1529.47 1187.07 1538.25 Q1187.07 1547 1182.71 1552 Q1178.35 1556.97 1170.71 1556.97 Q1163.04 1556.97 1158.68 1552 Q1154.35 1547 1154.35 1538.25 Q1154.35 1529.47 1158.68 1524.5 Q1163.04 1519.54 1170.71 1519.54 M1175.13 1503.91 L1181.47 1503.91 L1171.09 1515.88 L1166.22 1515.88 L1175.13 1503.91 Z\" fill=\"#000000\" fill-rule=\"evenodd\" fill-opacity=\"1\" /><path clip-path=\"url(#clip590)\" d=\"M 0 0 M1222.84 1534.53 L1222.84 1556.04 L1216.99 1556.04 L1216.99 1534.72 Q1216.99 1529.66 1215.01 1527.14 Q1213.04 1524.63 1209.09 1524.63 Q1204.35 1524.63 1201.61 1527.65 Q1198.88 1530.68 1198.88 1535.9 L1198.88 1556.04 L1192.99 1556.04 L1192.99 1520.4 L1198.88 1520.4 L1198.88 1525.93 Q1200.98 1522.72 1203.81 1521.13 Q1206.67 1519.54 1210.4 1519.54 Q1216.54 1519.54 1219.69 1523.36 Q1222.84 1527.14 1222.84 1534.53 Z\" fill=\"#000000\" fill-rule=\"evenodd\" fill-opacity=\"1\" /><path clip-path=\"url(#clip590)\" d=\"M 0 0 M1273.16 1525.81 L1273.16 1506.52 L1279.02 1506.52 L1279.02 1556.04 L1273.16 1556.04 L1273.16 1550.7 Q1271.32 1553.88 1268.48 1555.44 Q1265.68 1556.97 1261.74 1556.97 Q1255.28 1556.97 1251.2 1551.81 Q1247.16 1546.65 1247.16 1538.25 Q1247.16 1529.85 1251.2 1524.69 Q1255.28 1519.54 1261.74 1519.54 Q1265.68 1519.54 1268.48 1521.1 Q1271.32 1522.62 1273.16 1525.81 M1253.21 1538.25 Q1253.21 1544.71 1255.85 1548.4 Q1258.52 1552.07 1263.17 1552.07 Q1267.82 1552.07 1270.49 1548.4 Q1273.16 1544.71 1273.16 1538.25 Q1273.16 1531.79 1270.49 1528.13 Q1267.82 1524.44 1263.17 1524.44 Q1258.52 1524.44 1255.85 1528.13 Q1253.21 1531.79 1253.21 1538.25 Z\" fill=\"#000000\" fill-rule=\"evenodd\" fill-opacity=\"1\" /><path clip-path=\"url(#clip590)\" d=\"M 0 0 M1315.65 1536.76 L1315.65 1539.62 L1288.73 1539.62 Q1289.11 1545.67 1292.36 1548.85 Q1295.63 1552 1301.46 1552 Q1304.83 1552 1307.98 1551.17 Q1311.17 1550.35 1314.29 1548.69 L1314.29 1554.23 Q1311.13 1555.57 1307.82 1556.27 Q1304.51 1556.97 1301.11 1556.97 Q1292.58 1556.97 1287.58 1552 Q1282.62 1547.04 1282.62 1538.57 Q1282.62 1529.82 1287.33 1524.69 Q1292.07 1519.54 1300.09 1519.54 Q1307.28 1519.54 1311.45 1524.18 Q1315.65 1528.8 1315.65 1536.76 M1309.8 1535.04 Q1309.73 1530.23 1307.09 1527.37 Q1304.48 1524.5 1300.15 1524.5 Q1295.25 1524.5 1292.29 1527.27 Q1289.36 1530.04 1288.92 1535.07 L1309.8 1535.04 Z\" fill=\"#000000\" fill-rule=\"evenodd\" fill-opacity=\"1\" /><path clip-path=\"url(#clip590)\" d=\"M 0 0 M1370.27 1527.24 Q1372.47 1523.29 1375.52 1521.41 Q1378.58 1519.54 1382.72 1519.54 Q1388.29 1519.54 1391.31 1523.45 Q1394.33 1527.33 1394.33 1534.53 L1394.33 1556.04 L1388.45 1556.04 L1388.45 1534.72 Q1388.45 1529.59 1386.63 1527.11 Q1384.82 1524.63 1381.09 1524.63 Q1376.54 1524.63 1373.9 1527.65 Q1371.26 1530.68 1371.26 1535.9 L1371.26 1556.04 L1365.37 1556.04 L1365.37 1534.72 Q1365.37 1529.56 1363.56 1527.11 Q1361.74 1524.63 1357.95 1524.63 Q1353.47 1524.63 1350.82 1527.68 Q1348.18 1530.71 1348.18 1535.9 L1348.18 1556.04 L1342.29 1556.04 L1342.29 1520.4 L1348.18 1520.4 L1348.18 1525.93 Q1350.19 1522.66 1352.99 1521.1 Q1355.79 1519.54 1359.64 1519.54 Q1363.52 1519.54 1366.23 1521.51 Q1368.97 1523.48 1370.27 1527.24 Z\" fill=\"#000000\" fill-rule=\"evenodd\" fill-opacity=\"1\" /><path clip-path=\"url(#clip590)\" d=\"M 0 0 M1416.68 1538.12 Q1409.58 1538.12 1406.84 1539.75 Q1404.11 1541.37 1404.11 1545.29 Q1404.11 1548.4 1406.14 1550.25 Q1408.21 1552.07 1411.74 1552.07 Q1416.61 1552.07 1419.54 1548.63 Q1422.5 1545.16 1422.5 1539.43 L1422.5 1538.12 L1416.68 1538.12 M1428.36 1535.71 L1428.36 1556.04 L1422.5 1556.04 L1422.5 1550.63 Q1420.5 1553.88 1417.51 1555.44 Q1414.51 1556.97 1410.18 1556.97 Q1404.71 1556.97 1401.46 1553.91 Q1398.25 1550.82 1398.25 1545.67 Q1398.25 1539.65 1402.26 1536.6 Q1406.3 1533.54 1414.29 1533.54 L1422.5 1533.54 L1422.5 1532.97 Q1422.5 1528.93 1419.83 1526.73 Q1417.19 1524.5 1412.38 1524.5 Q1409.33 1524.5 1406.43 1525.23 Q1403.53 1525.97 1400.86 1527.43 L1400.86 1522.02 Q1404.07 1520.78 1407.1 1520.17 Q1410.12 1519.54 1412.99 1519.54 Q1420.72 1519.54 1424.54 1523.55 Q1428.36 1527.56 1428.36 1535.71 Z\" fill=\"#000000\" fill-rule=\"evenodd\" fill-opacity=\"1\" /><path clip-path=\"url(#clip590)\" d=\"M 0 0 M1440.29 1510.27 L1440.29 1520.4 L1452.36 1520.4 L1452.36 1524.95 L1440.29 1524.95 L1440.29 1544.3 Q1440.29 1548.66 1441.47 1549.9 Q1442.68 1551.14 1446.34 1551.14 L1452.36 1551.14 L1452.36 1556.04 L1446.34 1556.04 Q1439.56 1556.04 1436.98 1553.53 Q1434.41 1550.98 1434.41 1544.3 L1434.41 1524.95 L1430.11 1524.95 L1430.11 1520.4 L1434.41 1520.4 L1434.41 1510.27 L1440.29 1510.27 Z\" fill=\"#000000\" fill-rule=\"evenodd\" fill-opacity=\"1\" /><path clip-path=\"url(#clip590)\" d=\"M 0 0 M1479.16 1525.87 Q1478.17 1525.3 1476.99 1525.04 Q1475.85 1524.76 1474.45 1524.76 Q1469.48 1524.76 1466.81 1528 Q1464.17 1531.22 1464.17 1537.27 L1464.17 1556.04 L1458.28 1556.04 L1458.28 1520.4 L1464.17 1520.4 L1464.17 1525.93 Q1466.01 1522.69 1468.97 1521.13 Q1471.93 1519.54 1476.17 1519.54 Q1476.77 1519.54 1477.5 1519.63 Q1478.23 1519.7 1479.13 1519.85 L1479.16 1525.87 Z\" fill=\"#000000\" fill-rule=\"evenodd\" fill-opacity=\"1\" /><path clip-path=\"url(#clip590)\" d=\"M 0 0 M1485.3 1520.4 L1491.16 1520.4 L1491.16 1556.04 L1485.3 1556.04 L1485.3 1520.4 M1485.3 1506.52 L1491.16 1506.52 L1491.16 1513.93 L1485.3 1513.93 L1485.3 1506.52 Z\" fill=\"#000000\" fill-rule=\"evenodd\" fill-opacity=\"1\" /><path clip-path=\"url(#clip590)\" d=\"M 0 0 M1494.75 1520.4 L1522.57 1520.4 L1522.57 1525.74 L1500.55 1551.37 L1522.57 1551.37 L1522.57 1556.04 L1493.96 1556.04 L1493.96 1550.7 L1515.98 1525.07 L1494.75 1525.07 L1494.75 1520.4 Z\" fill=\"#000000\" fill-rule=\"evenodd\" fill-opacity=\"1\" /><path clip-path=\"url(#clip590)\" d=\"M 0 0 M1579.07 1534.53 L1579.07 1556.04 L1573.21 1556.04 L1573.21 1534.72 Q1573.21 1529.66 1571.24 1527.14 Q1569.26 1524.63 1565.32 1524.63 Q1560.57 1524.63 1557.84 1527.65 Q1555.1 1530.68 1555.1 1535.9 L1555.1 1556.04 L1549.21 1556.04 L1549.21 1520.4 L1555.1 1520.4 L1555.1 1525.93 Q1557.2 1522.72 1560.03 1521.13 Q1562.9 1519.54 1566.62 1519.54 Q1572.76 1519.54 1575.92 1523.36 Q1579.07 1527.14 1579.07 1534.53 Z\" fill=\"#000000\" fill-rule=\"evenodd\" fill-opacity=\"1\" /><path clip-path=\"url(#clip590)\" d=\"M 0 0 M1635.56 1520.4 L1622.67 1537.74 L1636.23 1556.04 L1629.32 1556.04 L1618.95 1542.04 L1608.57 1556.04 L1601.67 1556.04 L1615.51 1537.39 L1602.84 1520.4 L1609.75 1520.4 L1619.2 1533.1 L1628.66 1520.4 L1635.56 1520.4 Z\" fill=\"#000000\" fill-rule=\"evenodd\" fill-opacity=\"1\" /><path clip-path=\"url(#clip590)\" d=\"M 0 0 M1692.73 1534.53 L1692.73 1556.04 L1686.87 1556.04 L1686.87 1534.72 Q1686.87 1529.66 1684.9 1527.14 Q1682.92 1524.63 1678.98 1524.63 Q1674.23 1524.63 1671.5 1527.65 Q1668.76 1530.68 1668.76 1535.9 L1668.76 1556.04 L1662.87 1556.04 L1662.87 1520.4 L1668.76 1520.4 L1668.76 1525.93 Q1670.86 1522.72 1673.69 1521.13 Q1676.56 1519.54 1680.28 1519.54 Q1686.42 1519.54 1689.58 1523.36 Q1692.73 1527.14 1692.73 1534.53 Z\" fill=\"#000000\" fill-rule=\"evenodd\" fill-opacity=\"1\" /><polyline clip-path=\"url(#clip592)\" style=\"stroke:#000000; stroke-width:2; stroke-opacity:0.1; fill:none\" points=\"\n",
       "  265.63,1355.26 2352.76,1355.26 \n",
       "  \"/>\n",
       "<polyline clip-path=\"url(#clip592)\" style=\"stroke:#000000; stroke-width:2; stroke-opacity:0.1; fill:none\" points=\"\n",
       "  265.63,1084.08 2352.76,1084.08 \n",
       "  \"/>\n",
       "<polyline clip-path=\"url(#clip592)\" style=\"stroke:#000000; stroke-width:2; stroke-opacity:0.1; fill:none\" points=\"\n",
       "  265.63,812.893 2352.76,812.893 \n",
       "  \"/>\n",
       "<polyline clip-path=\"url(#clip592)\" style=\"stroke:#000000; stroke-width:2; stroke-opacity:0.1; fill:none\" points=\"\n",
       "  265.63,541.711 2352.76,541.711 \n",
       "  \"/>\n",
       "<polyline clip-path=\"url(#clip592)\" style=\"stroke:#000000; stroke-width:2; stroke-opacity:0.1; fill:none\" points=\"\n",
       "  265.63,270.529 2352.76,270.529 \n",
       "  \"/>\n",
       "<polyline clip-path=\"url(#clip590)\" style=\"stroke:#000000; stroke-width:4; stroke-opacity:1; fill:none\" points=\"\n",
       "  265.63,1423.18 265.63,123.472 \n",
       "  \"/>\n",
       "<polyline clip-path=\"url(#clip590)\" style=\"stroke:#000000; stroke-width:4; stroke-opacity:1; fill:none\" points=\"\n",
       "  265.63,1355.26 290.675,1355.26 \n",
       "  \"/>\n",
       "<polyline clip-path=\"url(#clip590)\" style=\"stroke:#000000; stroke-width:4; stroke-opacity:1; fill:none\" points=\"\n",
       "  265.63,1084.08 290.675,1084.08 \n",
       "  \"/>\n",
       "<polyline clip-path=\"url(#clip590)\" style=\"stroke:#000000; stroke-width:4; stroke-opacity:1; fill:none\" points=\"\n",
       "  265.63,812.893 290.675,812.893 \n",
       "  \"/>\n",
       "<polyline clip-path=\"url(#clip590)\" style=\"stroke:#000000; stroke-width:4; stroke-opacity:1; fill:none\" points=\"\n",
       "  265.63,541.711 290.675,541.711 \n",
       "  \"/>\n",
       "<polyline clip-path=\"url(#clip590)\" style=\"stroke:#000000; stroke-width:4; stroke-opacity:1; fill:none\" points=\"\n",
       "  265.63,270.529 290.675,270.529 \n",
       "  \"/>\n",
       "<path clip-path=\"url(#clip590)\" d=\"M 0 0 M127.917 1341.06 Q124.306 1341.06 122.478 1344.62 Q120.672 1348.16 120.672 1355.29 Q120.672 1362.4 122.478 1365.96 Q124.306 1369.51 127.917 1369.51 Q131.552 1369.51 133.357 1365.96 Q135.186 1362.4 135.186 1355.29 Q135.186 1348.16 133.357 1344.62 Q131.552 1341.06 127.917 1341.06 M127.917 1337.35 Q133.728 1337.35 136.783 1341.96 Q139.862 1346.54 139.862 1355.29 Q139.862 1364.02 136.783 1368.63 Q133.728 1373.21 127.917 1373.21 Q122.107 1373.21 119.029 1368.63 Q115.973 1364.02 115.973 1355.29 Q115.973 1346.54 119.029 1341.96 Q122.107 1337.35 127.917 1337.35 Z\" fill=\"#000000\" fill-rule=\"evenodd\" fill-opacity=\"1\" /><path clip-path=\"url(#clip590)\" d=\"M 0 0 M144.931 1366.66 L149.816 1366.66 L149.816 1372.54 L144.931 1372.54 L144.931 1366.66 Z\" fill=\"#000000\" fill-rule=\"evenodd\" fill-opacity=\"1\" /><path clip-path=\"url(#clip590)\" d=\"M 0 0 M164.885 1341.06 Q161.274 1341.06 159.445 1344.62 Q157.64 1348.16 157.64 1355.29 Q157.64 1362.4 159.445 1365.96 Q161.274 1369.51 164.885 1369.51 Q168.519 1369.51 170.325 1365.96 Q172.153 1362.4 172.153 1355.29 Q172.153 1348.16 170.325 1344.62 Q168.519 1341.06 164.885 1341.06 M164.885 1337.35 Q170.695 1337.35 173.751 1341.96 Q176.829 1346.54 176.829 1355.29 Q176.829 1364.02 173.751 1368.63 Q170.695 1373.21 164.885 1373.21 Q159.075 1373.21 155.996 1368.63 Q152.941 1364.02 152.941 1355.29 Q152.941 1346.54 155.996 1341.96 Q159.075 1337.35 164.885 1337.35 Z\" fill=\"#000000\" fill-rule=\"evenodd\" fill-opacity=\"1\" /><path clip-path=\"url(#clip590)\" d=\"M 0 0 M191.899 1341.06 Q188.288 1341.06 186.459 1344.62 Q184.653 1348.16 184.653 1355.29 Q184.653 1362.4 186.459 1365.96 Q188.288 1369.51 191.899 1369.51 Q195.533 1369.51 197.338 1365.96 Q199.167 1362.4 199.167 1355.29 Q199.167 1348.16 197.338 1344.62 Q195.533 1341.06 191.899 1341.06 M191.899 1337.35 Q197.709 1337.35 200.764 1341.96 Q203.843 1346.54 203.843 1355.29 Q203.843 1364.02 200.764 1368.63 Q197.709 1373.21 191.899 1373.21 Q186.088 1373.21 183.01 1368.63 Q179.954 1364.02 179.954 1355.29 Q179.954 1346.54 183.01 1341.96 Q186.088 1337.35 191.899 1337.35 Z\" fill=\"#000000\" fill-rule=\"evenodd\" fill-opacity=\"1\" /><path clip-path=\"url(#clip590)\" d=\"M 0 0 M209.723 1368.6 L217.361 1368.6 L217.361 1342.24 L209.051 1343.9 L209.051 1339.64 L217.315 1337.98 L221.991 1337.98 L221.991 1368.6 L229.63 1368.6 L229.63 1372.54 L209.723 1372.54 L209.723 1368.6 Z\" fill=\"#000000\" fill-rule=\"evenodd\" fill-opacity=\"1\" /><path clip-path=\"url(#clip590)\" d=\"M 0 0 M128.288 1069.87 Q124.677 1069.87 122.848 1073.44 Q121.043 1076.98 121.043 1084.11 Q121.043 1091.22 122.848 1094.78 Q124.677 1098.32 128.288 1098.32 Q131.922 1098.32 133.728 1094.78 Q135.556 1091.22 135.556 1084.11 Q135.556 1076.98 133.728 1073.44 Q131.922 1069.87 128.288 1069.87 M128.288 1066.17 Q134.098 1066.17 137.154 1070.78 Q140.232 1075.36 140.232 1084.11 Q140.232 1092.84 137.154 1097.44 Q134.098 1102.03 128.288 1102.03 Q122.478 1102.03 119.399 1097.44 Q116.343 1092.84 116.343 1084.11 Q116.343 1075.36 119.399 1070.78 Q122.478 1066.17 128.288 1066.17 Z\" fill=\"#000000\" fill-rule=\"evenodd\" fill-opacity=\"1\" /><path clip-path=\"url(#clip590)\" d=\"M 0 0 M145.302 1095.48 L150.186 1095.48 L150.186 1101.36 L145.302 1101.36 L145.302 1095.48 Z\" fill=\"#000000\" fill-rule=\"evenodd\" fill-opacity=\"1\" /><path clip-path=\"url(#clip590)\" d=\"M 0 0 M165.255 1069.87 Q161.644 1069.87 159.815 1073.44 Q158.01 1076.98 158.01 1084.11 Q158.01 1091.22 159.815 1094.78 Q161.644 1098.32 165.255 1098.32 Q168.889 1098.32 170.695 1094.78 Q172.524 1091.22 172.524 1084.11 Q172.524 1076.98 170.695 1073.44 Q168.889 1069.87 165.255 1069.87 M165.255 1066.17 Q171.065 1066.17 174.121 1070.78 Q177.2 1075.36 177.2 1084.11 Q177.2 1092.84 174.121 1097.44 Q171.065 1102.03 165.255 1102.03 Q159.445 1102.03 156.366 1097.44 Q153.311 1092.84 153.311 1084.11 Q153.311 1075.36 156.366 1070.78 Q159.445 1066.17 165.255 1066.17 Z\" fill=\"#000000\" fill-rule=\"evenodd\" fill-opacity=\"1\" /><path clip-path=\"url(#clip590)\" d=\"M 0 0 M192.269 1069.87 Q188.658 1069.87 186.829 1073.44 Q185.024 1076.98 185.024 1084.11 Q185.024 1091.22 186.829 1094.78 Q188.658 1098.32 192.269 1098.32 Q195.903 1098.32 197.709 1094.78 Q199.537 1091.22 199.537 1084.11 Q199.537 1076.98 197.709 1073.44 Q195.903 1069.87 192.269 1069.87 M192.269 1066.17 Q198.079 1066.17 201.135 1070.78 Q204.213 1075.36 204.213 1084.11 Q204.213 1092.84 201.135 1097.44 Q198.079 1102.03 192.269 1102.03 Q186.459 1102.03 183.38 1097.44 Q180.325 1092.84 180.325 1084.11 Q180.325 1075.36 183.38 1070.78 Q186.459 1066.17 192.269 1066.17 Z\" fill=\"#000000\" fill-rule=\"evenodd\" fill-opacity=\"1\" /><path clip-path=\"url(#clip590)\" d=\"M 0 0 M213.311 1097.42 L229.63 1097.42 L229.63 1101.36 L207.686 1101.36 L207.686 1097.42 Q210.348 1094.67 214.931 1090.04 Q219.537 1085.38 220.718 1084.04 Q222.963 1081.52 223.843 1079.78 Q224.746 1078.02 224.746 1076.33 Q224.746 1073.58 222.801 1071.84 Q220.88 1070.11 217.778 1070.11 Q215.579 1070.11 213.125 1070.87 Q210.695 1071.63 207.917 1073.18 L207.917 1068.46 Q210.741 1067.33 213.195 1066.75 Q215.649 1066.17 217.686 1066.17 Q223.056 1066.17 226.25 1068.86 Q229.445 1071.54 229.445 1076.03 Q229.445 1078.16 228.635 1080.08 Q227.848 1081.98 225.741 1084.57 Q225.162 1085.24 222.061 1088.46 Q218.959 1091.66 213.311 1097.42 Z\" fill=\"#000000\" fill-rule=\"evenodd\" fill-opacity=\"1\" /><path clip-path=\"url(#clip590)\" d=\"M 0 0 M127.339 798.692 Q123.728 798.692 121.899 802.257 Q120.093 805.799 120.093 812.928 Q120.093 820.035 121.899 823.599 Q123.728 827.141 127.339 827.141 Q130.973 827.141 132.779 823.599 Q134.607 820.035 134.607 812.928 Q134.607 805.799 132.779 802.257 Q130.973 798.692 127.339 798.692 M127.339 794.988 Q133.149 794.988 136.204 799.595 Q139.283 804.178 139.283 812.928 Q139.283 821.655 136.204 826.261 Q133.149 830.845 127.339 830.845 Q121.529 830.845 118.45 826.261 Q115.394 821.655 115.394 812.928 Q115.394 804.178 118.45 799.595 Q121.529 794.988 127.339 794.988 Z\" fill=\"#000000\" fill-rule=\"evenodd\" fill-opacity=\"1\" /><path clip-path=\"url(#clip590)\" d=\"M 0 0 M144.353 824.294 L149.237 824.294 L149.237 830.173 L144.353 830.173 L144.353 824.294 Z\" fill=\"#000000\" fill-rule=\"evenodd\" fill-opacity=\"1\" /><path clip-path=\"url(#clip590)\" d=\"M 0 0 M164.306 798.692 Q160.695 798.692 158.866 802.257 Q157.061 805.799 157.061 812.928 Q157.061 820.035 158.866 823.599 Q160.695 827.141 164.306 827.141 Q167.94 827.141 169.746 823.599 Q171.575 820.035 171.575 812.928 Q171.575 805.799 169.746 802.257 Q167.94 798.692 164.306 798.692 M164.306 794.988 Q170.116 794.988 173.172 799.595 Q176.251 804.178 176.251 812.928 Q176.251 821.655 173.172 826.261 Q170.116 830.845 164.306 830.845 Q158.496 830.845 155.417 826.261 Q152.362 821.655 152.362 812.928 Q152.362 804.178 155.417 799.595 Q158.496 794.988 164.306 794.988 Z\" fill=\"#000000\" fill-rule=\"evenodd\" fill-opacity=\"1\" /><path clip-path=\"url(#clip590)\" d=\"M 0 0 M191.32 798.692 Q187.709 798.692 185.88 802.257 Q184.075 805.799 184.075 812.928 Q184.075 820.035 185.88 823.599 Q187.709 827.141 191.32 827.141 Q194.954 827.141 196.76 823.599 Q198.588 820.035 198.588 812.928 Q198.588 805.799 196.76 802.257 Q194.954 798.692 191.32 798.692 M191.32 794.988 Q197.13 794.988 200.186 799.595 Q203.264 804.178 203.264 812.928 Q203.264 821.655 200.186 826.261 Q197.13 830.845 191.32 830.845 Q185.51 830.845 182.431 826.261 Q179.376 821.655 179.376 812.928 Q179.376 804.178 182.431 799.595 Q185.51 794.988 191.32 794.988 Z\" fill=\"#000000\" fill-rule=\"evenodd\" fill-opacity=\"1\" /><path clip-path=\"url(#clip590)\" d=\"M 0 0 M222.5 811.539 Q225.857 812.257 227.732 814.525 Q229.63 816.794 229.63 820.127 Q229.63 825.243 226.111 828.044 Q222.593 830.845 216.111 830.845 Q213.936 830.845 211.621 830.405 Q209.329 829.988 206.875 829.132 L206.875 824.618 Q208.82 825.752 211.135 826.331 Q213.449 826.91 215.973 826.91 Q220.371 826.91 222.662 825.173 Q224.977 823.437 224.977 820.127 Q224.977 817.072 222.824 815.359 Q220.695 813.623 216.875 813.623 L212.848 813.623 L212.848 809.78 L217.061 809.78 Q220.51 809.78 222.338 808.414 Q224.167 807.025 224.167 804.433 Q224.167 801.771 222.269 800.359 Q220.394 798.924 216.875 798.924 Q214.954 798.924 212.755 799.34 Q210.556 799.757 207.917 800.637 L207.917 796.47 Q210.579 795.729 212.894 795.359 Q215.232 794.988 217.292 794.988 Q222.616 794.988 225.718 797.419 Q228.82 799.826 228.82 803.947 Q228.82 806.817 227.176 808.808 Q225.533 810.775 222.5 811.539 Z\" fill=\"#000000\" fill-rule=\"evenodd\" fill-opacity=\"1\" /><path clip-path=\"url(#clip590)\" d=\"M 0 0 M126.205 527.51 Q122.593 527.51 120.765 531.075 Q118.959 534.616 118.959 541.746 Q118.959 548.852 120.765 552.417 Q122.593 555.959 126.205 555.959 Q129.839 555.959 131.644 552.417 Q133.473 548.852 133.473 541.746 Q133.473 534.616 131.644 531.075 Q129.839 527.51 126.205 527.51 M126.205 523.806 Q132.015 523.806 135.07 528.413 Q138.149 532.996 138.149 541.746 Q138.149 550.473 135.07 555.079 Q132.015 559.662 126.205 559.662 Q120.394 559.662 117.316 555.079 Q114.26 550.473 114.26 541.746 Q114.26 532.996 117.316 528.413 Q120.394 523.806 126.205 523.806 Z\" fill=\"#000000\" fill-rule=\"evenodd\" fill-opacity=\"1\" /><path clip-path=\"url(#clip590)\" d=\"M 0 0 M143.218 553.111 L148.103 553.111 L148.103 558.991 L143.218 558.991 L143.218 553.111 Z\" fill=\"#000000\" fill-rule=\"evenodd\" fill-opacity=\"1\" /><path clip-path=\"url(#clip590)\" d=\"M 0 0 M163.172 527.51 Q159.561 527.51 157.732 531.075 Q155.927 534.616 155.927 541.746 Q155.927 548.852 157.732 552.417 Q159.561 555.959 163.172 555.959 Q166.806 555.959 168.612 552.417 Q170.44 548.852 170.44 541.746 Q170.44 534.616 168.612 531.075 Q166.806 527.51 163.172 527.51 M163.172 523.806 Q168.982 523.806 172.038 528.413 Q175.116 532.996 175.116 541.746 Q175.116 550.473 172.038 555.079 Q168.982 559.662 163.172 559.662 Q157.362 559.662 154.283 555.079 Q151.228 550.473 151.228 541.746 Q151.228 532.996 154.283 528.413 Q157.362 523.806 163.172 523.806 Z\" fill=\"#000000\" fill-rule=\"evenodd\" fill-opacity=\"1\" /><path clip-path=\"url(#clip590)\" d=\"M 0 0 M190.186 527.51 Q186.575 527.51 184.746 531.075 Q182.94 534.616 182.94 541.746 Q182.94 548.852 184.746 552.417 Q186.575 555.959 190.186 555.959 Q193.82 555.959 195.625 552.417 Q197.454 548.852 197.454 541.746 Q197.454 534.616 195.625 531.075 Q193.82 527.51 190.186 527.51 M190.186 523.806 Q195.996 523.806 199.051 528.413 Q202.13 532.996 202.13 541.746 Q202.13 550.473 199.051 555.079 Q195.996 559.662 190.186 559.662 Q184.376 559.662 181.297 555.079 Q178.241 550.473 178.241 541.746 Q178.241 532.996 181.297 528.413 Q184.376 523.806 190.186 523.806 Z\" fill=\"#000000\" fill-rule=\"evenodd\" fill-opacity=\"1\" /><path clip-path=\"url(#clip590)\" d=\"M 0 0 M220.047 528.505 L208.241 546.954 L220.047 546.954 L220.047 528.505 M218.82 524.431 L224.699 524.431 L224.699 546.954 L229.63 546.954 L229.63 550.843 L224.699 550.843 L224.699 558.991 L220.047 558.991 L220.047 550.843 L204.445 550.843 L204.445 546.329 L218.82 524.431 Z\" fill=\"#000000\" fill-rule=\"evenodd\" fill-opacity=\"1\" /><path clip-path=\"url(#clip590)\" d=\"M 0 0 M127.686 256.327 Q124.075 256.327 122.246 259.892 Q120.441 263.434 120.441 270.564 Q120.441 277.67 122.246 281.235 Q124.075 284.776 127.686 284.776 Q131.32 284.776 133.126 281.235 Q134.954 277.67 134.954 270.564 Q134.954 263.434 133.126 259.892 Q131.32 256.327 127.686 256.327 M127.686 252.624 Q133.496 252.624 136.552 257.23 Q139.63 261.814 139.63 270.564 Q139.63 279.29 136.552 283.897 Q133.496 288.48 127.686 288.48 Q121.876 288.48 118.797 283.897 Q115.742 279.29 115.742 270.564 Q115.742 261.814 118.797 257.23 Q121.876 252.624 127.686 252.624 Z\" fill=\"#000000\" fill-rule=\"evenodd\" fill-opacity=\"1\" /><path clip-path=\"url(#clip590)\" d=\"M 0 0 M144.7 281.929 L149.584 281.929 L149.584 287.809 L144.7 287.809 L144.7 281.929 Z\" fill=\"#000000\" fill-rule=\"evenodd\" fill-opacity=\"1\" /><path clip-path=\"url(#clip590)\" d=\"M 0 0 M164.653 256.327 Q161.042 256.327 159.214 259.892 Q157.408 263.434 157.408 270.564 Q157.408 277.67 159.214 281.235 Q161.042 284.776 164.653 284.776 Q168.288 284.776 170.093 281.235 Q171.922 277.67 171.922 270.564 Q171.922 263.434 170.093 259.892 Q168.288 256.327 164.653 256.327 M164.653 252.624 Q170.464 252.624 173.519 257.23 Q176.598 261.814 176.598 270.564 Q176.598 279.29 173.519 283.897 Q170.464 288.48 164.653 288.48 Q158.843 288.48 155.765 283.897 Q152.709 279.29 152.709 270.564 Q152.709 261.814 155.765 257.23 Q158.843 252.624 164.653 252.624 Z\" fill=\"#000000\" fill-rule=\"evenodd\" fill-opacity=\"1\" /><path clip-path=\"url(#clip590)\" d=\"M 0 0 M191.667 256.327 Q188.056 256.327 186.227 259.892 Q184.422 263.434 184.422 270.564 Q184.422 277.67 186.227 281.235 Q188.056 284.776 191.667 284.776 Q195.301 284.776 197.107 281.235 Q198.936 277.67 198.936 270.564 Q198.936 263.434 197.107 259.892 Q195.301 256.327 191.667 256.327 M191.667 252.624 Q197.477 252.624 200.533 257.23 Q203.612 261.814 203.612 270.564 Q203.612 279.29 200.533 283.897 Q197.477 288.48 191.667 288.48 Q185.857 288.48 182.778 283.897 Q179.723 279.29 179.723 270.564 Q179.723 261.814 182.778 257.23 Q185.857 252.624 191.667 252.624 Z\" fill=\"#000000\" fill-rule=\"evenodd\" fill-opacity=\"1\" /><path clip-path=\"url(#clip590)\" d=\"M 0 0 M208.727 253.249 L227.084 253.249 L227.084 257.184 L213.01 257.184 L213.01 265.656 Q214.028 265.309 215.047 265.147 Q216.065 264.962 217.084 264.962 Q222.871 264.962 226.25 268.133 Q229.63 271.304 229.63 276.721 Q229.63 282.3 226.158 285.401 Q222.686 288.48 216.366 288.48 Q214.19 288.48 211.922 288.11 Q209.676 287.739 207.269 286.999 L207.269 282.3 Q209.352 283.434 211.574 283.989 Q213.797 284.545 216.273 284.545 Q220.278 284.545 222.616 282.438 Q224.954 280.332 224.954 276.721 Q224.954 273.11 222.616 271.003 Q220.278 268.897 216.273 268.897 Q214.399 268.897 212.524 269.314 Q210.672 269.73 208.727 270.61 L208.727 253.249 Z\" fill=\"#000000\" fill-rule=\"evenodd\" fill-opacity=\"1\" /><path clip-path=\"url(#clip590)\" d=\"M 0 0 M42.0438 882.371 L48.314 882.371 Q46.5634 886.031 45.704 889.277 Q44.8447 892.524 44.8447 895.548 Q44.8447 900.799 46.8817 903.664 Q48.9187 906.497 52.6745 906.497 Q55.8255 906.497 57.4488 904.619 Q59.0402 902.709 60.0269 897.425 L60.8226 893.542 Q62.1912 886.349 65.6605 882.943 Q69.098 879.506 74.8908 879.506 Q81.7976 879.506 85.3624 884.153 Q88.9272 888.768 88.9272 897.712 Q88.9272 901.086 88.1633 904.905 Q87.3994 908.693 85.9035 912.767 L79.2831 912.767 Q81.4793 908.852 82.5933 905.096 Q83.7073 901.34 83.7073 897.712 Q83.7073 892.206 81.543 889.214 Q79.3786 886.222 75.3682 886.222 Q71.8671 886.222 69.8937 888.386 Q67.9204 890.519 66.9337 895.42 L66.1698 899.335 Q64.7375 906.528 61.682 909.743 Q58.6264 912.958 53.1837 912.958 Q46.8817 912.958 43.2532 908.534 Q39.6248 904.078 39.6248 896.28 Q39.6248 892.938 40.2295 889.468 Q40.8343 885.999 42.0438 882.371 Z\" fill=\"#000000\" fill-rule=\"evenodd\" fill-opacity=\"1\" /><path clip-path=\"url(#clip590)\" d=\"M 0 0 M68.7161 842.871 L71.5806 842.871 L71.5806 869.798 Q77.6281 869.416 80.8109 866.17 Q83.9619 862.891 83.9619 857.067 Q83.9619 853.693 83.1344 850.542 Q82.3069 847.359 80.6518 844.24 L86.1899 844.24 Q87.5267 847.391 88.227 850.701 Q88.9272 854.011 88.9272 857.417 Q88.9272 865.947 83.9619 870.944 Q78.9967 875.909 70.5303 875.909 Q61.7774 875.909 56.6531 871.199 Q51.4968 866.456 51.4968 858.435 Q51.4968 851.242 56.1438 847.073 Q60.7589 842.871 68.7161 842.871 M66.9973 848.728 Q62.1912 848.791 59.3266 851.433 Q56.4621 854.043 56.4621 858.372 Q56.4621 863.273 59.2312 866.233 Q62.0002 869.162 67.0292 869.607 L66.9973 848.728 Z\" fill=\"#000000\" fill-rule=\"evenodd\" fill-opacity=\"1\" /><path clip-path=\"url(#clip590)\" d=\"M 0 0 M69.7664 813.271 Q63.4007 813.271 59.8996 815.913 Q56.3984 818.523 56.3984 823.265 Q56.3984 827.976 59.8996 830.617 Q63.4007 833.227 69.7664 833.227 Q76.1003 833.227 79.6014 830.617 Q83.1026 827.976 83.1026 823.265 Q83.1026 818.523 79.6014 815.913 Q76.1003 813.271 69.7664 813.271 M83.58 807.414 Q92.683 807.414 97.1071 811.457 Q101.563 815.499 101.563 823.838 Q101.563 826.925 101.086 829.662 Q100.64 832.4 99.6852 834.978 L93.9879 834.978 Q95.3884 832.4 96.0568 829.885 Q96.7252 827.371 96.7252 824.761 Q96.7252 819 93.7015 816.135 Q90.7096 813.271 84.6303 813.271 L81.7339 813.271 Q84.885 815.085 86.4446 817.918 Q88.0042 820.75 88.0042 824.697 Q88.0042 831.254 83.0071 835.264 Q78.01 839.275 69.7664 839.275 Q61.491 839.275 56.4939 835.264 Q51.4968 831.254 51.4968 824.697 Q51.4968 820.75 53.0564 817.918 Q54.616 815.085 57.7671 813.271 L52.3562 813.271 L52.3562 807.414 L83.58 807.414 Z\" fill=\"#000000\" fill-rule=\"evenodd\" fill-opacity=\"1\" /><path clip-path=\"url(#clip590)\" d=\"M 0 0 M73.9359 801.876 L52.3562 801.876 L52.3562 796.02 L73.7131 796.02 Q78.7739 796.02 81.3202 794.046 Q83.8346 792.073 83.8346 788.126 Q83.8346 783.384 80.8109 780.647 Q77.7872 777.877 72.5673 777.877 L52.3562 777.877 L52.3562 772.021 L88.0042 772.021 L88.0042 777.877 L82.5296 777.877 Q85.7762 780.01 87.3676 782.843 Q88.9272 785.644 88.9272 789.368 Q88.9272 795.51 85.1078 798.693 Q81.2883 801.876 73.9359 801.876 M51.4968 787.14 L51.4968 787.14 Z\" fill=\"#000000\" fill-rule=\"evenodd\" fill-opacity=\"1\" /><path clip-path=\"url(#clip590)\" d=\"M 0 0 M66.4881 736.246 L88.0042 736.246 L88.0042 742.102 L66.679 742.102 Q61.6183 742.102 59.1038 744.076 Q56.5894 746.049 56.5894 749.996 Q56.5894 754.738 59.6131 757.475 Q62.6368 760.213 67.8567 760.213 L88.0042 760.213 L88.0042 766.101 L52.3562 766.101 L52.3562 760.213 L57.8944 760.213 Q54.6797 758.112 53.0883 755.279 Q51.4968 752.415 51.4968 748.691 Q51.4968 742.548 55.3163 739.397 Q59.1038 736.246 66.4881 736.246 Z\" fill=\"#000000\" fill-rule=\"evenodd\" fill-opacity=\"1\" /><path clip-path=\"url(#clip590)\" d=\"M 0 0 M57.7671 706.645 L38.479 706.645 L38.479 700.789 L88.0042 700.789 L88.0042 706.645 L82.657 706.645 Q85.8398 708.491 87.3994 711.324 Q88.9272 714.125 88.9272 718.072 Q88.9272 724.533 83.771 728.607 Q78.6147 732.649 70.212 732.649 Q61.8093 732.649 56.6531 728.607 Q51.4968 724.533 51.4968 718.072 Q51.4968 714.125 53.0564 711.324 Q54.5842 708.491 57.7671 706.645 M70.212 726.602 Q76.6732 726.602 80.3653 723.96 Q84.0256 721.286 84.0256 716.639 Q84.0256 711.992 80.3653 709.319 Q76.6732 706.645 70.212 706.645 Q63.7508 706.645 60.0905 709.319 Q56.3984 711.992 56.3984 716.639 Q56.3984 721.286 60.0905 723.96 Q63.7508 726.602 70.212 726.602 Z\" fill=\"#000000\" fill-rule=\"evenodd\" fill-opacity=\"1\" /><path clip-path=\"url(#clip590)\" d=\"M 0 0 M56.4621 680.832 Q56.4621 685.543 60.1542 688.28 Q63.8145 691.017 70.212 691.017 Q76.6095 691.017 80.3017 688.312 Q83.9619 685.575 83.9619 680.832 Q83.9619 676.153 80.2698 673.416 Q76.5777 670.679 70.212 670.679 Q63.8781 670.679 60.186 673.416 Q56.4621 676.153 56.4621 680.832 M51.4968 680.832 Q51.4968 673.193 56.4621 668.833 Q61.4273 664.472 70.212 664.472 Q78.9649 664.472 83.9619 668.833 Q88.9272 673.193 88.9272 680.832 Q88.9272 688.503 83.9619 692.863 Q78.9649 697.192 70.212 697.192 Q61.4273 697.192 56.4621 692.863 Q51.4968 688.503 51.4968 680.832 Z\" fill=\"#000000\" fill-rule=\"evenodd\" fill-opacity=\"1\" /><path clip-path=\"url(#clip590)\" d=\"M 0 0 M53.4065 635.604 L58.9447 635.604 Q57.6716 638.087 57.035 640.76 Q56.3984 643.434 56.3984 646.298 Q56.3984 650.659 57.7352 652.855 Q59.072 655.019 61.7456 655.019 Q63.7826 655.019 64.9603 653.46 Q66.1061 651.9 67.1565 647.19 L67.6021 645.184 Q68.9389 638.946 71.3897 636.336 Q73.8086 633.694 78.1691 633.694 Q83.1344 633.694 86.0308 637.641 Q88.9272 641.556 88.9272 648.431 Q88.9272 651.295 88.3543 654.415 Q87.8132 657.502 86.6992 660.939 L80.6518 660.939 Q82.3387 657.693 83.198 654.542 Q84.0256 651.391 84.0256 648.304 Q84.0256 644.166 82.6251 641.938 Q81.1929 639.71 78.6147 639.71 Q76.2276 639.71 74.9545 641.333 Q73.6813 642.924 72.5037 648.367 L72.0262 650.404 Q70.8804 655.847 68.5251 658.266 Q66.138 660.685 62.0002 660.685 Q56.9713 660.685 54.2341 657.12 Q51.4968 653.555 51.4968 646.999 Q51.4968 643.752 51.9743 640.887 Q52.4517 638.023 53.4065 635.604 Z\" fill=\"#000000\" fill-rule=\"evenodd\" fill-opacity=\"1\" /><path clip-path=\"url(#clip590)\" d=\"M 0 0 M709.457 44.2197 Q712.09 45.1109 714.561 48.0275 Q717.072 50.9442 719.584 56.0483 L727.888 72.576 L719.098 72.576 L711.36 57.061 Q708.363 50.9847 705.527 48.9997 Q702.732 47.0148 697.871 47.0148 L688.959 47.0148 L688.959 72.576 L680.776 72.576 L680.776 12.096 L699.248 12.096 Q709.619 12.096 714.723 16.4305 Q719.827 20.7649 719.827 29.5149 Q719.827 35.2267 717.153 38.994 Q714.52 42.7613 709.457 44.2197 M688.959 18.8205 L688.959 40.2903 L699.248 40.2903 Q705.163 40.2903 708.16 37.5762 Q711.198 34.8216 711.198 29.5149 Q711.198 24.2082 708.16 21.5346 Q705.163 18.8205 699.248 18.8205 L688.959 18.8205 Z\" fill=\"#000000\" fill-rule=\"evenodd\" fill-opacity=\"1\" /><path clip-path=\"url(#clip590)\" d=\"M 0 0 M770.787 48.0275 L770.787 51.6733 L736.517 51.6733 Q737.003 59.3701 741.135 63.421 Q745.307 67.4314 752.72 67.4314 Q757.014 67.4314 761.025 66.3781 Q765.075 65.3249 769.045 63.2184 L769.045 70.267 Q765.035 71.9684 760.822 72.8596 Q756.609 73.7508 752.275 73.7508 Q741.418 73.7508 735.058 67.4314 Q728.739 61.1119 728.739 50.3365 Q728.739 39.1965 734.734 32.6746 Q740.77 26.1121 750.978 26.1121 Q760.133 26.1121 765.44 32.0264 Q770.787 37.9003 770.787 48.0275 M763.334 45.84 Q763.253 39.7232 759.89 36.0774 Q756.569 32.4315 751.059 32.4315 Q744.821 32.4315 741.054 35.9558 Q737.327 39.4801 736.76 45.8805 L763.334 45.84 Z\" fill=\"#000000\" fill-rule=\"evenodd\" fill-opacity=\"1\" /><path clip-path=\"url(#clip590)\" d=\"M 0 0 M816.319 45.1919 L816.319 72.576 L808.866 72.576 L808.866 45.4349 Q808.866 38.994 806.354 35.7938 Q803.843 32.5936 798.819 32.5936 Q792.784 32.5936 789.3 36.4419 Q785.816 40.2903 785.816 46.9338 L785.816 72.576 L778.322 72.576 L778.322 27.2059 L785.816 27.2059 L785.816 34.2544 Q788.49 30.163 792.095 28.1376 Q795.741 26.1121 800.48 26.1121 Q808.299 26.1121 812.309 30.9732 Q816.319 35.7938 816.319 45.1919 Z\" fill=\"#000000\" fill-rule=\"evenodd\" fill-opacity=\"1\" /><path clip-path=\"url(#clip590)\" d=\"M 0 0 M853.993 34.0924 L853.993 9.54393 L861.446 9.54393 L861.446 72.576 L853.993 72.576 L853.993 65.7705 Q851.643 69.8214 848.038 71.8063 Q844.473 73.7508 839.45 73.7508 Q831.227 73.7508 826.042 67.1883 Q820.897 60.6258 820.897 49.9314 Q820.897 39.2371 826.042 32.6746 Q831.227 26.1121 839.45 26.1121 Q844.473 26.1121 848.038 28.0971 Q851.643 30.0415 853.993 34.0924 M828.594 49.9314 Q828.594 58.1548 831.956 62.8538 Q835.359 67.5124 841.273 67.5124 Q847.187 67.5124 850.59 62.8538 Q853.993 58.1548 853.993 49.9314 Q853.993 41.7081 850.59 37.0496 Q847.187 32.3505 841.273 32.3505 Q835.359 32.3505 831.956 37.0496 Q828.594 41.7081 828.594 49.9314 Z\" fill=\"#000000\" fill-rule=\"evenodd\" fill-opacity=\"1\" /><path clip-path=\"url(#clip590)\" d=\"M 0 0 M869.265 27.2059 L876.718 27.2059 L876.718 72.576 L869.265 72.576 L869.265 27.2059 M869.265 9.54393 L876.718 9.54393 L876.718 18.9825 L869.265 18.9825 L869.265 9.54393 Z\" fill=\"#000000\" fill-rule=\"evenodd\" fill-opacity=\"1\" /><path clip-path=\"url(#clip590)\" d=\"M 0 0 M919.861 35.9153 Q922.656 30.8922 926.544 28.5022 Q930.433 26.1121 935.7 26.1121 Q942.789 26.1121 946.637 31.0947 Q950.485 36.0368 950.485 45.1919 L950.485 72.576 L942.991 72.576 L942.991 45.4349 Q942.991 38.913 940.682 35.7533 Q938.373 32.5936 933.634 32.5936 Q927.841 32.5936 924.479 36.4419 Q921.116 40.2903 921.116 46.9338 L921.116 72.576 L913.622 72.576 L913.622 45.4349 Q913.622 38.8725 911.313 35.7533 Q909.004 32.5936 904.184 32.5936 Q898.472 32.5936 895.109 36.4824 Q891.747 40.3308 891.747 46.9338 L891.747 72.576 L884.253 72.576 L884.253 27.2059 L891.747 27.2059 L891.747 34.2544 Q894.299 30.082 897.864 28.0971 Q901.429 26.1121 906.33 26.1121 Q911.273 26.1121 914.716 28.6237 Q918.2 31.1352 919.861 35.9153 Z\" fill=\"#000000\" fill-rule=\"evenodd\" fill-opacity=\"1\" /><path clip-path=\"url(#clip590)\" d=\"M 0 0 M958.304 27.2059 L965.757 27.2059 L965.757 72.576 L958.304 72.576 L958.304 27.2059 M958.304 9.54393 L965.757 9.54393 L965.757 18.9825 L958.304 18.9825 L958.304 9.54393 Z\" fill=\"#000000\" fill-rule=\"evenodd\" fill-opacity=\"1\" /><path clip-path=\"url(#clip590)\" d=\"M 0 0 M1012.38 48.0275 L1012.38 51.6733 L978.113 51.6733 Q978.599 59.3701 982.731 63.421 Q986.903 67.4314 994.316 67.4314 Q998.61 67.4314 1002.62 66.3781 Q1006.67 65.3249 1010.64 63.2184 L1010.64 70.267 Q1006.63 71.9684 1002.42 72.8596 Q998.205 73.7508 993.871 73.7508 Q983.014 73.7508 976.654 67.4314 Q970.335 61.1119 970.335 50.3365 Q970.335 39.1965 976.33 32.6746 Q982.366 26.1121 992.574 26.1121 Q1001.73 26.1121 1007.04 32.0264 Q1012.38 37.9003 1012.38 48.0275 M1004.93 45.84 Q1004.85 39.7232 1001.49 36.0774 Q998.164 32.4315 992.655 32.4315 Q986.417 32.4315 982.65 35.9558 Q978.923 39.4801 978.356 45.8805 L1004.93 45.84 Z\" fill=\"#000000\" fill-rule=\"evenodd\" fill-opacity=\"1\" /><path clip-path=\"url(#clip590)\" d=\"M 0 0 M1057.92 45.1919 L1057.92 72.576 L1050.46 72.576 L1050.46 45.4349 Q1050.46 38.994 1047.95 35.7938 Q1045.44 32.5936 1040.42 32.5936 Q1034.38 32.5936 1030.9 36.4419 Q1027.41 40.2903 1027.41 46.9338 L1027.41 72.576 L1019.92 72.576 L1019.92 27.2059 L1027.41 27.2059 L1027.41 34.2544 Q1030.09 30.163 1033.69 28.1376 Q1037.34 26.1121 1042.08 26.1121 Q1049.89 26.1121 1053.9 30.9732 Q1057.92 35.7938 1057.92 45.1919 Z\" fill=\"#000000\" fill-rule=\"evenodd\" fill-opacity=\"1\" /><path clip-path=\"url(#clip590)\" d=\"M 0 0 M1073.11 14.324 L1073.11 27.2059 L1088.46 27.2059 L1088.46 32.9987 L1073.11 32.9987 L1073.11 57.6282 Q1073.11 63.1779 1074.61 64.7578 Q1076.14 66.3376 1080.8 66.3376 L1088.46 66.3376 L1088.46 72.576 L1080.8 72.576 Q1072.17 72.576 1068.89 69.3758 Q1065.61 66.1351 1065.61 57.6282 L1065.61 32.9987 L1060.14 32.9987 L1060.14 27.2059 L1065.61 27.2059 L1065.61 14.324 L1073.11 14.324 Z\" fill=\"#000000\" fill-rule=\"evenodd\" fill-opacity=\"1\" /><path clip-path=\"url(#clip590)\" d=\"M 0 0 M1113.86 32.4315 Q1107.86 32.4315 1104.38 37.1306 Q1100.9 41.7891 1100.9 49.9314 Q1100.9 58.0738 1104.34 62.7728 Q1107.82 67.4314 1113.86 67.4314 Q1119.81 67.4314 1123.3 62.7323 Q1126.78 58.0333 1126.78 49.9314 Q1126.78 41.8701 1123.3 37.1711 Q1119.81 32.4315 1113.86 32.4315 M1113.86 26.1121 Q1123.58 26.1121 1129.13 32.4315 Q1134.68 38.7509 1134.68 49.9314 Q1134.68 61.0714 1129.13 67.4314 Q1123.58 73.7508 1113.86 73.7508 Q1104.1 73.7508 1098.55 67.4314 Q1093.04 61.0714 1093.04 49.9314 Q1093.04 38.7509 1098.55 32.4315 Q1104.1 26.1121 1113.86 26.1121 Z\" fill=\"#000000\" fill-rule=\"evenodd\" fill-opacity=\"1\" /><path clip-path=\"url(#clip590)\" d=\"M 0 0 M1198.72 34.0924 L1198.72 9.54393 L1206.18 9.54393 L1206.18 72.576 L1198.72 72.576 L1198.72 65.7705 Q1196.38 69.8214 1192.77 71.8063 Q1189.21 73.7508 1184.18 73.7508 Q1175.96 73.7508 1170.77 67.1883 Q1165.63 60.6258 1165.63 49.9314 Q1165.63 39.2371 1170.77 32.6746 Q1175.96 26.1121 1184.18 26.1121 Q1189.21 26.1121 1192.77 28.0971 Q1196.38 30.0415 1198.72 34.0924 M1173.33 49.9314 Q1173.33 58.1548 1176.69 62.8538 Q1180.09 67.5124 1186 67.5124 Q1191.92 67.5124 1195.32 62.8538 Q1198.72 58.1548 1198.72 49.9314 Q1198.72 41.7081 1195.32 37.0496 Q1191.92 32.3505 1186 32.3505 Q1180.09 32.3505 1176.69 37.0496 Q1173.33 41.7081 1173.33 49.9314 Z\" fill=\"#000000\" fill-rule=\"evenodd\" fill-opacity=\"1\" /><path clip-path=\"url(#clip590)\" d=\"M 0 0 M1252.8 48.0275 L1252.8 51.6733 L1218.53 51.6733 Q1219.02 59.3701 1223.15 63.421 Q1227.32 67.4314 1234.74 67.4314 Q1239.03 67.4314 1243.04 66.3781 Q1247.09 65.3249 1251.06 63.2184 L1251.06 70.267 Q1247.05 71.9684 1242.84 72.8596 Q1238.63 73.7508 1234.29 73.7508 Q1223.44 73.7508 1217.08 67.4314 Q1210.76 61.1119 1210.76 50.3365 Q1210.76 39.1965 1216.75 32.6746 Q1222.79 26.1121 1233 26.1121 Q1242.15 26.1121 1247.46 32.0264 Q1252.8 37.9003 1252.8 48.0275 M1245.35 45.84 Q1245.27 39.7232 1241.91 36.0774 Q1238.59 32.4315 1233.08 32.4315 Q1226.84 32.4315 1223.07 35.9558 Q1219.34 39.4801 1218.78 45.8805 L1245.35 45.84 Z\" fill=\"#000000\" fill-rule=\"evenodd\" fill-opacity=\"1\" /><path clip-path=\"url(#clip590)\" d=\"M 0 0 M1323.57 14.0809 L1323.57 22.0612 Q1318.92 19.8332 1314.78 18.7395 Q1310.65 17.6457 1306.8 17.6457 Q1300.12 17.6457 1296.47 20.2383 Q1292.87 22.8309 1292.87 27.611 Q1292.87 31.6214 1295.26 33.6873 Q1297.69 35.7128 1304.41 36.9686 L1309.35 37.9813 Q1318.51 39.7232 1322.84 44.1387 Q1327.22 48.5136 1327.22 55.8863 Q1327.22 64.6767 1321.31 69.2137 Q1315.43 73.7508 1304.05 73.7508 Q1299.75 73.7508 1294.89 72.7785 Q1290.07 71.8063 1284.89 69.9024 L1284.89 61.4765 Q1289.87 64.2716 1294.65 65.6895 Q1299.43 67.1073 1304.05 67.1073 Q1311.06 67.1073 1314.86 64.3527 Q1318.67 61.598 1318.67 56.4939 Q1318.67 52.0379 1315.92 49.5264 Q1313.2 47.0148 1306.96 45.759 L1301.98 44.7868 Q1292.83 42.9639 1288.74 39.075 Q1284.64 35.1862 1284.64 28.2591 Q1284.64 20.2383 1290.28 15.6203 Q1295.95 11.0023 1305.87 11.0023 Q1310.12 11.0023 1314.54 11.7719 Q1318.96 12.5416 1323.57 14.0809 Z\" fill=\"#000000\" fill-rule=\"evenodd\" fill-opacity=\"1\" /><path clip-path=\"url(#clip590)\" d=\"M 0 0 M1336.09 62.2867 L1344.64 62.2867 L1344.64 72.576 L1336.09 72.576 L1336.09 62.2867 Z\" fill=\"#000000\" fill-rule=\"evenodd\" fill-opacity=\"1\" /><path clip-path=\"url(#clip590)\" d=\"M 0 0 M1352.78 12.096 L1391.02 12.096 L1391.02 18.9825 L1360.96 18.9825 L1360.96 36.8875 L1389.77 36.8875 L1389.77 43.7741 L1360.96 43.7741 L1360.96 65.6895 L1391.75 65.6895 L1391.75 72.576 L1352.78 72.576 L1352.78 12.096 Z\" fill=\"#000000\" fill-rule=\"evenodd\" fill-opacity=\"1\" /><path clip-path=\"url(#clip590)\" d=\"M 0 0 M1400.62 62.2867 L1409.17 62.2867 L1409.17 72.576 L1400.62 72.576 L1400.62 62.2867 Z\" fill=\"#000000\" fill-rule=\"evenodd\" fill-opacity=\"1\" /><path clip-path=\"url(#clip590)\" d=\"M 0 0 M1417.31 12.096 L1425.49 12.096 L1425.49 65.6895 L1454.94 65.6895 L1454.94 72.576 L1417.31 72.576 L1417.31 12.096 Z\" fill=\"#000000\" fill-rule=\"evenodd\" fill-opacity=\"1\" /><path clip-path=\"url(#clip590)\" d=\"M 0 0 M1463.82 62.2867 L1472.36 62.2867 L1472.36 72.576 L1463.82 72.576 L1463.82 62.2867 Z\" fill=\"#000000\" fill-rule=\"evenodd\" fill-opacity=\"1\" /><path clip-path=\"url(#clip590)\" d=\"M 0 0 M1500.72 20.1573 L1489.62 50.2555 L1511.86 50.2555 L1500.72 20.1573 M1496.1 12.096 L1505.38 12.096 L1528.43 72.576 L1519.92 72.576 L1514.41 57.061 L1487.15 57.061 L1481.64 72.576 L1473.01 72.576 L1496.1 12.096 Z\" fill=\"#000000\" fill-rule=\"evenodd\" fill-opacity=\"1\" /><path clip-path=\"url(#clip590)\" d=\"M 0 0 M1535.84 62.2867 L1544.39 62.2867 L1544.39 72.576 L1535.84 72.576 L1535.84 62.2867 Z\" fill=\"#000000\" fill-rule=\"evenodd\" fill-opacity=\"1\" /><path clip-path=\"url(#clip590)\" d=\"M 0 0 M1587.08 18.8205 L1587.08 65.8515 L1596.97 65.8515 Q1609.49 65.8515 1615.28 60.1802 Q1621.11 54.509 1621.11 42.2752 Q1621.11 30.1225 1615.28 24.4918 Q1609.49 18.8205 1596.97 18.8205 L1587.08 18.8205 M1578.9 12.096 L1595.71 12.096 Q1613.29 12.096 1621.52 19.4281 Q1629.74 26.7198 1629.74 42.2752 Q1629.74 57.9117 1621.48 65.2439 Q1613.21 72.576 1595.71 72.576 L1578.9 72.576 L1578.9 12.096 Z\" fill=\"#000000\" fill-rule=\"evenodd\" fill-opacity=\"1\" /><path clip-path=\"url(#clip590)\" d=\"M 0 0 M1637.56 27.2059 L1645.01 27.2059 L1645.01 72.576 L1637.56 72.576 L1637.56 27.2059 M1637.56 9.54393 L1645.01 9.54393 L1645.01 18.9825 L1637.56 18.9825 L1637.56 9.54393 Z\" fill=\"#000000\" fill-rule=\"evenodd\" fill-opacity=\"1\" /><path clip-path=\"url(#clip590)\" d=\"M 0 0 M1681.75 28.5427 L1681.75 35.5912 Q1678.59 33.9709 1675.19 33.1607 Q1671.79 32.3505 1668.14 32.3505 Q1662.59 32.3505 1659.8 34.0519 Q1657.04 35.7533 1657.04 39.156 Q1657.04 41.7486 1659.03 43.2475 Q1661.01 44.7058 1667.01 46.0426 L1669.56 46.6097 Q1677.5 48.3111 1680.82 51.4303 Q1684.19 54.509 1684.19 60.0587 Q1684.19 66.3781 1679.16 70.0644 Q1674.18 73.7508 1665.43 73.7508 Q1661.78 73.7508 1657.81 73.0216 Q1653.88 72.3329 1649.51 70.9151 L1649.51 63.2184 Q1653.64 65.3654 1657.65 66.4591 Q1661.66 67.5124 1665.59 67.5124 Q1670.86 67.5124 1673.69 65.73 Q1676.53 63.9071 1676.53 60.6258 Q1676.53 57.5877 1674.46 55.9673 Q1672.44 54.3469 1665.51 52.8481 L1662.92 52.2405 Q1655.99 50.7821 1652.91 47.7845 Q1649.83 44.7463 1649.83 39.4801 Q1649.83 33.0797 1654.37 29.5959 Q1658.91 26.1121 1667.25 26.1121 Q1671.38 26.1121 1675.03 26.7198 Q1678.68 27.3274 1681.75 28.5427 Z\" fill=\"#000000\" fill-rule=\"evenodd\" fill-opacity=\"1\" /><path clip-path=\"url(#clip590)\" d=\"M 0 0 M1699.21 65.7705 L1699.21 89.8329 L1691.72 89.8329 L1691.72 27.2059 L1699.21 27.2059 L1699.21 34.0924 Q1701.56 30.0415 1705.13 28.0971 Q1708.73 26.1121 1713.72 26.1121 Q1721.98 26.1121 1727.12 32.6746 Q1732.31 39.2371 1732.31 49.9314 Q1732.31 60.6258 1727.12 67.1883 Q1721.98 73.7508 1713.72 73.7508 Q1708.73 73.7508 1705.13 71.8063 Q1701.56 69.8214 1699.21 65.7705 M1724.57 49.9314 Q1724.57 41.7081 1721.17 37.0496 Q1717.81 32.3505 1711.89 32.3505 Q1705.98 32.3505 1702.58 37.0496 Q1699.21 41.7081 1699.21 49.9314 Q1699.21 58.1548 1702.58 62.8538 Q1705.98 67.5124 1711.89 67.5124 Q1717.81 67.5124 1721.17 62.8538 Q1724.57 58.1548 1724.57 49.9314 Z\" fill=\"#000000\" fill-rule=\"evenodd\" fill-opacity=\"1\" /><path clip-path=\"url(#clip590)\" d=\"M 0 0 M1778.94 48.0275 L1778.94 51.6733 L1744.67 51.6733 Q1745.15 59.3701 1749.28 63.421 Q1753.46 67.4314 1760.87 67.4314 Q1765.16 67.4314 1769.17 66.3781 Q1773.22 65.3249 1777.19 63.2184 L1777.19 70.267 Q1773.18 71.9684 1768.97 72.8596 Q1764.76 73.7508 1760.42 73.7508 Q1749.57 73.7508 1743.21 67.4314 Q1736.89 61.1119 1736.89 50.3365 Q1736.89 39.1965 1742.88 32.6746 Q1748.92 26.1121 1759.13 26.1121 Q1768.28 26.1121 1773.59 32.0264 Q1778.94 37.9003 1778.94 48.0275 M1771.48 45.84 Q1771.4 39.7232 1768.04 36.0774 Q1764.72 32.4315 1759.21 32.4315 Q1752.97 32.4315 1749.2 35.9558 Q1745.48 39.4801 1744.91 45.8805 L1771.48 45.84 Z\" fill=\"#000000\" fill-rule=\"evenodd\" fill-opacity=\"1\" /><path clip-path=\"url(#clip590)\" d=\"M 0 0 M1813.04 34.1734 Q1811.79 33.4443 1810.29 33.1202 Q1808.83 32.7556 1807.05 32.7556 Q1800.73 32.7556 1797.33 36.8875 Q1793.96 40.9789 1793.96 48.6757 L1793.96 72.576 L1786.47 72.576 L1786.47 27.2059 L1793.96 27.2059 L1793.96 34.2544 Q1796.31 30.1225 1800.08 28.1376 Q1803.85 26.1121 1809.24 26.1121 Q1810.01 26.1121 1810.94 26.2337 Q1811.87 26.3147 1813 26.5172 L1813.04 34.1734 Z\" fill=\"#000000\" fill-rule=\"evenodd\" fill-opacity=\"1\" /><path clip-path=\"url(#clip590)\" d=\"M 0 0 M1849.79 28.5427 L1849.79 35.5912 Q1846.63 33.9709 1843.22 33.1607 Q1839.82 32.3505 1836.18 32.3505 Q1830.63 32.3505 1827.83 34.0519 Q1825.08 35.7533 1825.08 39.156 Q1825.08 41.7486 1827.06 43.2475 Q1829.05 44.7058 1835.04 46.0426 L1837.59 46.6097 Q1845.53 48.3111 1848.85 51.4303 Q1852.22 54.509 1852.22 60.0587 Q1852.22 66.3781 1847.19 70.0644 Q1842.21 73.7508 1833.46 73.7508 Q1829.82 73.7508 1825.85 73.0216 Q1821.92 72.3329 1817.54 70.9151 L1817.54 63.2184 Q1821.67 65.3654 1825.68 66.4591 Q1829.69 67.5124 1833.62 67.5124 Q1838.89 67.5124 1841.72 65.73 Q1844.56 63.9071 1844.56 60.6258 Q1844.56 57.5877 1842.49 55.9673 Q1840.47 54.3469 1833.54 52.8481 L1830.95 52.2405 Q1824.02 50.7821 1820.94 47.7845 Q1817.86 44.7463 1817.86 39.4801 Q1817.86 33.0797 1822.4 29.5959 Q1826.94 26.1121 1835.28 26.1121 Q1839.42 26.1121 1843.06 26.7198 Q1846.71 27.3274 1849.79 28.5427 Z\" fill=\"#000000\" fill-rule=\"evenodd\" fill-opacity=\"1\" /><path clip-path=\"url(#clip590)\" d=\"M 0 0 M1877.62 32.4315 Q1871.62 32.4315 1868.14 37.1306 Q1864.65 41.7891 1864.65 49.9314 Q1864.65 58.0738 1868.1 62.7728 Q1871.58 67.4314 1877.62 67.4314 Q1883.57 67.4314 1887.05 62.7323 Q1890.54 58.0333 1890.54 49.9314 Q1890.54 41.8701 1887.05 37.1711 Q1883.57 32.4315 1877.62 32.4315 M1877.62 26.1121 Q1887.34 26.1121 1892.89 32.4315 Q1898.44 38.7509 1898.44 49.9314 Q1898.44 61.0714 1892.89 67.4314 Q1887.34 73.7508 1877.62 73.7508 Q1867.85 73.7508 1862.3 67.4314 Q1856.79 61.0714 1856.79 49.9314 Q1856.79 38.7509 1862.3 32.4315 Q1867.85 26.1121 1877.62 26.1121 Z\" fill=\"#000000\" fill-rule=\"evenodd\" fill-opacity=\"1\" /><path clip-path=\"url(#clip590)\" d=\"M 0 0 M1935.18 28.5427 L1935.18 35.5912 Q1932.02 33.9709 1928.62 33.1607 Q1925.21 32.3505 1921.57 32.3505 Q1916.02 32.3505 1913.22 34.0519 Q1910.47 35.7533 1910.47 39.156 Q1910.47 41.7486 1912.45 43.2475 Q1914.44 44.7058 1920.43 46.0426 L1922.99 46.6097 Q1930.93 48.3111 1934.25 51.4303 Q1937.61 54.509 1937.61 60.0587 Q1937.61 66.3781 1932.59 70.0644 Q1927.6 73.7508 1918.85 73.7508 Q1915.21 73.7508 1911.24 73.0216 Q1907.31 72.3329 1902.93 70.9151 L1902.93 63.2184 Q1907.07 65.3654 1911.08 66.4591 Q1915.09 67.5124 1919.02 67.5124 Q1924.28 67.5124 1927.12 65.73 Q1929.95 63.9071 1929.95 60.6258 Q1929.95 57.5877 1927.89 55.9673 Q1925.86 54.3469 1918.94 52.8481 L1916.34 52.2405 Q1909.42 50.7821 1906.34 47.7845 Q1903.26 44.7463 1903.26 39.4801 Q1903.26 33.0797 1907.8 29.5959 Q1912.33 26.1121 1920.68 26.1121 Q1924.81 26.1121 1928.45 26.7198 Q1932.1 27.3274 1935.18 28.5427 Z\" fill=\"#000000\" fill-rule=\"evenodd\" fill-opacity=\"1\" /><polyline clip-path=\"url(#clip592)\" style=\"stroke:#009af9; stroke-width:4; stroke-opacity:1; fill:none\" points=\"\n",
       "  324.7,160.256 503.698,1386.4 1398.69,1314.06 2293.69,1113.89 \n",
       "  \"/>\n",
       "<polyline clip-path=\"url(#clip592)\" style=\"stroke:#e26f46; stroke-width:4; stroke-opacity:1; fill:none\" points=\"\n",
       "  324.7,160.463 503.698,1386.31 1398.69,1315.39 2293.69,1114.75 \n",
       "  \"/>\n",
       "<path clip-path=\"url(#clip590)\" d=\"\n",
       "M335.201 348.236 L1070.74 348.236 L1070.74 166.796 L335.201 166.796  Z\n",
       "  \" fill=\"#ffffff\" fill-rule=\"evenodd\" fill-opacity=\"1\"/>\n",
       "<polyline clip-path=\"url(#clip590)\" style=\"stroke:#000000; stroke-width:4; stroke-opacity:1; fill:none\" points=\"\n",
       "  335.201,348.236 1070.74,348.236 1070.74,166.796 335.201,166.796 335.201,348.236 \n",
       "  \"/>\n",
       "<polyline clip-path=\"url(#clip590)\" style=\"stroke:#009af9; stroke-width:4; stroke-opacity:1; fill:none\" points=\"\n",
       "  358.391,227.276 497.533,227.276 \n",
       "  \"/>\n",
       "<path clip-path=\"url(#clip590)\" d=\"M 0 0 M520.723 209.996 L527.691 209.996 L536.51 233.514 L545.376 209.996 L552.343 209.996 L552.343 244.556 L547.783 244.556 L547.783 214.209 L538.871 237.912 L534.172 237.912 L525.26 214.209 L525.26 244.556 L520.723 244.556 L520.723 209.996 Z\" fill=\"#000000\" fill-rule=\"evenodd\" fill-opacity=\"1\" /><path clip-path=\"url(#clip590)\" d=\"M 0 0 M556.996 209.996 L563.964 209.996 L572.783 233.514 L581.649 209.996 L588.616 209.996 L588.616 244.556 L584.056 244.556 L584.056 214.209 L575.144 237.912 L570.445 237.912 L561.533 214.209 L561.533 244.556 L556.996 244.556 L556.996 209.996 Z\" fill=\"#000000\" fill-rule=\"evenodd\" fill-opacity=\"1\" /><path clip-path=\"url(#clip590)\" d=\"M 0 0 M619.148 212.658 L619.148 217.588 Q616.787 215.389 614.102 214.301 Q611.44 213.213 608.431 213.213 Q602.505 213.213 599.357 216.848 Q596.209 220.459 596.209 227.31 Q596.209 234.139 599.357 237.773 Q602.505 241.384 608.431 241.384 Q611.44 241.384 614.102 240.296 Q616.787 239.209 619.148 237.009 L619.148 241.894 Q616.695 243.56 613.94 244.394 Q611.209 245.227 608.153 245.227 Q600.306 245.227 595.792 240.435 Q591.278 235.621 591.278 227.31 Q591.278 218.977 595.792 214.186 Q600.306 209.371 608.153 209.371 Q611.255 209.371 613.986 210.204 Q616.741 211.014 619.148 212.658 Z\" fill=\"#000000\" fill-rule=\"evenodd\" fill-opacity=\"1\" /><path clip-path=\"url(#clip590)\" d=\"M 0 0 M623.801 209.996 L630.769 209.996 L639.588 233.514 L648.454 209.996 L655.421 209.996 L655.421 244.556 L650.861 244.556 L650.861 214.209 L641.949 237.912 L637.25 237.912 L628.338 214.209 L628.338 244.556 L623.801 244.556 L623.801 209.996 Z\" fill=\"#000000\" fill-rule=\"evenodd\" fill-opacity=\"1\" /><path clip-path=\"url(#clip590)\" d=\"M 0 0 M695.861 211.13 L695.861 215.69 Q693.199 214.417 690.838 213.792 Q688.477 213.167 686.278 213.167 Q682.458 213.167 680.375 214.648 Q678.315 216.13 678.315 218.861 Q678.315 221.153 679.681 222.334 Q681.069 223.491 684.912 224.209 L687.736 224.787 Q692.968 225.783 695.444 228.306 Q697.944 230.806 697.944 235.019 Q697.944 240.042 694.565 242.634 Q691.208 245.227 684.704 245.227 Q682.25 245.227 679.472 244.671 Q676.718 244.116 673.755 243.028 L673.755 238.213 Q676.602 239.81 679.333 240.621 Q682.065 241.431 684.704 241.431 Q688.708 241.431 690.884 239.857 Q693.06 238.283 693.06 235.366 Q693.06 232.82 691.486 231.384 Q689.935 229.949 686.37 229.232 L683.523 228.676 Q678.292 227.635 675.954 225.412 Q673.616 223.19 673.616 219.232 Q673.616 214.648 676.833 212.01 Q680.074 209.371 685.745 209.371 Q688.176 209.371 690.699 209.811 Q693.222 210.25 695.861 211.13 Z\" fill=\"#000000\" fill-rule=\"evenodd\" fill-opacity=\"1\" /><path clip-path=\"url(#clip590)\" d=\"M 0 0 M703.014 238.676 L707.898 238.676 L707.898 244.556 L703.014 244.556 L703.014 238.676 Z\" fill=\"#000000\" fill-rule=\"evenodd\" fill-opacity=\"1\" /><path clip-path=\"url(#clip590)\" d=\"M 0 0 M712.551 209.996 L734.402 209.996 L734.402 213.931 L717.227 213.931 L717.227 224.162 L733.685 224.162 L733.685 228.097 L717.227 228.097 L717.227 240.621 L734.819 240.621 L734.819 244.556 L712.551 244.556 L712.551 209.996 Z\" fill=\"#000000\" fill-rule=\"evenodd\" fill-opacity=\"1\" /><path clip-path=\"url(#clip590)\" d=\"M 0 0 M739.889 238.676 L744.773 238.676 L744.773 244.556 L739.889 244.556 L739.889 238.676 Z\" fill=\"#000000\" fill-rule=\"evenodd\" fill-opacity=\"1\" /><path clip-path=\"url(#clip590)\" d=\"M 0 0 M749.426 209.996 L754.101 209.996 L754.101 240.621 L770.93 240.621 L770.93 244.556 L749.426 244.556 L749.426 209.996 Z\" fill=\"#000000\" fill-rule=\"evenodd\" fill-opacity=\"1\" /><path clip-path=\"url(#clip590)\" d=\"M 0 0 M775.999 238.676 L780.884 238.676 L780.884 244.556 L775.999 244.556 L775.999 238.676 Z\" fill=\"#000000\" fill-rule=\"evenodd\" fill-opacity=\"1\" /><path clip-path=\"url(#clip590)\" d=\"M 0 0 M797.087 214.602 L790.745 231.801 L803.453 231.801 L797.087 214.602 M794.448 209.996 L799.749 209.996 L812.921 244.556 L808.06 244.556 L804.911 235.69 L789.333 235.69 L786.185 244.556 L781.254 244.556 L794.448 209.996 Z\" fill=\"#000000\" fill-rule=\"evenodd\" fill-opacity=\"1\" /><path clip-path=\"url(#clip590)\" d=\"M 0 0 M817.157 238.676 L822.041 238.676 L822.041 244.556 L817.157 244.556 L817.157 238.676 Z\" fill=\"#000000\" fill-rule=\"evenodd\" fill-opacity=\"1\" /><polyline clip-path=\"url(#clip590)\" style=\"stroke:#e26f46; stroke-width:4; stroke-opacity:1; fill:none\" points=\"\n",
       "  358.391,287.756 497.533,287.756 \n",
       "  \"/>\n",
       "<path clip-path=\"url(#clip590)\" d=\"M 0 0 M520.723 270.476 L527.691 270.476 L536.51 293.994 L545.376 270.476 L552.343 270.476 L552.343 305.036 L547.783 305.036 L547.783 274.689 L538.871 298.392 L534.172 298.392 L525.26 274.689 L525.26 305.036 L520.723 305.036 L520.723 270.476 Z\" fill=\"#000000\" fill-rule=\"evenodd\" fill-opacity=\"1\" /><path clip-path=\"url(#clip590)\" d=\"M 0 0 M556.996 270.476 L563.964 270.476 L572.783 293.994 L581.649 270.476 L588.616 270.476 L588.616 305.036 L584.056 305.036 L584.056 274.689 L575.144 298.392 L570.445 298.392 L561.533 274.689 L561.533 305.036 L556.996 305.036 L556.996 270.476 Z\" fill=\"#000000\" fill-rule=\"evenodd\" fill-opacity=\"1\" /><path clip-path=\"url(#clip590)\" d=\"M 0 0 M619.148 273.138 L619.148 278.068 Q616.787 275.869 614.102 274.781 Q611.44 273.693 608.431 273.693 Q602.505 273.693 599.357 277.328 Q596.209 280.939 596.209 287.79 Q596.209 294.619 599.357 298.253 Q602.505 301.864 608.431 301.864 Q611.44 301.864 614.102 300.776 Q616.787 299.689 619.148 297.489 L619.148 302.374 Q616.695 304.04 613.94 304.874 Q611.209 305.707 608.153 305.707 Q600.306 305.707 595.792 300.915 Q591.278 296.101 591.278 287.79 Q591.278 279.457 595.792 274.666 Q600.306 269.851 608.153 269.851 Q611.255 269.851 613.986 270.684 Q616.741 271.494 619.148 273.138 Z\" fill=\"#000000\" fill-rule=\"evenodd\" fill-opacity=\"1\" /><path clip-path=\"url(#clip590)\" d=\"M 0 0 M623.801 270.476 L630.769 270.476 L639.588 293.994 L648.454 270.476 L655.421 270.476 L655.421 305.036 L650.861 305.036 L650.861 274.689 L641.949 298.392 L637.25 298.392 L628.338 274.689 L628.338 305.036 L623.801 305.036 L623.801 270.476 Z\" fill=\"#000000\" fill-rule=\"evenodd\" fill-opacity=\"1\" /><path clip-path=\"url(#clip590)\" d=\"M 0 0 M695.861 271.61 L695.861 276.17 Q693.199 274.897 690.838 274.272 Q688.477 273.647 686.278 273.647 Q682.458 273.647 680.375 275.128 Q678.315 276.61 678.315 279.341 Q678.315 281.633 679.681 282.814 Q681.069 283.971 684.912 284.689 L687.736 285.267 Q692.968 286.263 695.444 288.786 Q697.944 291.286 697.944 295.499 Q697.944 300.522 694.565 303.114 Q691.208 305.707 684.704 305.707 Q682.25 305.707 679.472 305.151 Q676.718 304.596 673.755 303.508 L673.755 298.693 Q676.602 300.29 679.333 301.101 Q682.065 301.911 684.704 301.911 Q688.708 301.911 690.884 300.337 Q693.06 298.763 693.06 295.846 Q693.06 293.3 691.486 291.864 Q689.935 290.429 686.37 289.712 L683.523 289.156 Q678.292 288.115 675.954 285.892 Q673.616 283.67 673.616 279.712 Q673.616 275.128 676.833 272.49 Q680.074 269.851 685.745 269.851 Q688.176 269.851 690.699 270.291 Q693.222 270.73 695.861 271.61 Z\" fill=\"#000000\" fill-rule=\"evenodd\" fill-opacity=\"1\" /><path clip-path=\"url(#clip590)\" d=\"M 0 0 M703.014 299.156 L707.898 299.156 L707.898 305.036 L703.014 305.036 L703.014 299.156 Z\" fill=\"#000000\" fill-rule=\"evenodd\" fill-opacity=\"1\" /><path clip-path=\"url(#clip590)\" d=\"M 0 0 M712.551 270.476 L734.402 270.476 L734.402 274.411 L717.227 274.411 L717.227 284.642 L733.685 284.642 L733.685 288.577 L717.227 288.577 L717.227 301.101 L734.819 301.101 L734.819 305.036 L712.551 305.036 L712.551 270.476 Z\" fill=\"#000000\" fill-rule=\"evenodd\" fill-opacity=\"1\" /><path clip-path=\"url(#clip590)\" d=\"M 0 0 M739.889 299.156 L744.773 299.156 L744.773 305.036 L739.889 305.036 L739.889 299.156 Z\" fill=\"#000000\" fill-rule=\"evenodd\" fill-opacity=\"1\" /><path clip-path=\"url(#clip590)\" d=\"M 0 0 M749.426 270.476 L754.101 270.476 L754.101 301.101 L770.93 301.101 L770.93 305.036 L749.426 305.036 L749.426 270.476 Z\" fill=\"#000000\" fill-rule=\"evenodd\" fill-opacity=\"1\" /><path clip-path=\"url(#clip590)\" d=\"M 0 0 M775.999 299.156 L780.884 299.156 L780.884 305.036 L775.999 305.036 L775.999 299.156 Z\" fill=\"#000000\" fill-rule=\"evenodd\" fill-opacity=\"1\" /><path clip-path=\"url(#clip590)\" d=\"M 0 0 M797.087 275.082 L790.745 292.281 L803.453 292.281 L797.087 275.082 M794.448 270.476 L799.749 270.476 L812.921 305.036 L808.06 305.036 L804.911 296.17 L789.333 296.17 L786.185 305.036 L781.254 305.036 L794.448 270.476 Z\" fill=\"#000000\" fill-rule=\"evenodd\" fill-opacity=\"1\" /><path clip-path=\"url(#clip590)\" d=\"M 0 0 M817.157 299.156 L822.041 299.156 L822.041 305.036 L817.157 305.036 L817.157 299.156 Z\" fill=\"#000000\" fill-rule=\"evenodd\" fill-opacity=\"1\" /><path clip-path=\"url(#clip590)\" d=\"M 0 0 M846.439 274.318 L846.439 301.193 L852.087 301.193 Q859.24 301.193 862.55 297.952 Q865.883 294.712 865.883 287.721 Q865.883 280.777 862.55 277.559 Q859.24 274.318 852.087 274.318 L846.439 274.318 M841.763 270.476 L851.369 270.476 Q861.416 270.476 866.115 274.666 Q870.814 278.832 870.814 287.721 Q870.814 296.656 866.092 300.846 Q861.369 305.036 851.369 305.036 L841.763 305.036 L841.763 270.476 Z\" fill=\"#000000\" fill-rule=\"evenodd\" fill-opacity=\"1\" /><path clip-path=\"url(#clip590)\" d=\"M 0 0 M875.281 279.11 L879.541 279.11 L879.541 305.036 L875.281 305.036 L875.281 279.11 M875.281 269.017 L879.541 269.017 L879.541 274.411 L875.281 274.411 L875.281 269.017 Z\" fill=\"#000000\" fill-rule=\"evenodd\" fill-opacity=\"1\" /><path clip-path=\"url(#clip590)\" d=\"M 0 0 M900.536 279.874 L900.536 283.902 Q898.73 282.976 896.786 282.513 Q894.841 282.05 892.758 282.05 Q889.587 282.05 887.99 283.022 Q886.416 283.994 886.416 285.939 Q886.416 287.42 887.55 288.277 Q888.684 289.11 892.11 289.874 L893.568 290.198 Q898.105 291.17 900.003 292.952 Q901.925 294.712 901.925 297.883 Q901.925 301.494 899.054 303.601 Q896.207 305.707 891.207 305.707 Q889.124 305.707 886.855 305.29 Q884.61 304.897 882.11 304.087 L882.11 299.689 Q884.471 300.915 886.763 301.54 Q889.054 302.142 891.3 302.142 Q894.309 302.142 895.929 301.124 Q897.55 300.082 897.55 298.207 Q897.55 296.471 896.369 295.545 Q895.212 294.619 891.254 293.763 L889.772 293.415 Q885.814 292.582 884.054 290.869 Q882.295 289.133 882.295 286.124 Q882.295 282.466 884.888 280.476 Q887.48 278.485 892.249 278.485 Q894.61 278.485 896.693 278.832 Q898.777 279.179 900.536 279.874 Z\" fill=\"#000000\" fill-rule=\"evenodd\" fill-opacity=\"1\" /><path clip-path=\"url(#clip590)\" d=\"M 0 0 M910.513 301.147 L910.513 314.897 L906.23 314.897 L906.23 279.11 L910.513 279.11 L910.513 283.045 Q911.855 280.73 913.892 279.619 Q915.952 278.485 918.8 278.485 Q923.522 278.485 926.462 282.235 Q929.425 285.985 929.425 292.096 Q929.425 298.207 926.462 301.957 Q923.522 305.707 918.8 305.707 Q915.952 305.707 913.892 304.596 Q911.855 303.462 910.513 301.147 M925.003 292.096 Q925.003 287.397 923.059 284.735 Q921.138 282.05 917.758 282.05 Q914.378 282.05 912.434 284.735 Q910.513 287.397 910.513 292.096 Q910.513 296.795 912.434 299.48 Q914.378 302.142 917.758 302.142 Q921.138 302.142 923.059 299.48 Q925.003 296.795 925.003 292.096 Z\" fill=\"#000000\" fill-rule=\"evenodd\" fill-opacity=\"1\" /><path clip-path=\"url(#clip590)\" d=\"M 0 0 M956.068 291.008 L956.068 293.091 L936.485 293.091 Q936.763 297.489 939.124 299.804 Q941.508 302.096 945.744 302.096 Q948.198 302.096 950.489 301.494 Q952.804 300.892 955.073 299.689 L955.073 303.716 Q952.781 304.688 950.374 305.198 Q947.966 305.707 945.489 305.707 Q939.286 305.707 935.651 302.096 Q932.04 298.485 932.04 292.327 Q932.04 285.962 935.466 282.235 Q938.915 278.485 944.749 278.485 Q949.98 278.485 953.012 281.865 Q956.068 285.221 956.068 291.008 M951.809 289.758 Q951.762 286.263 949.841 284.179 Q947.943 282.096 944.795 282.096 Q941.23 282.096 939.077 284.11 Q936.948 286.124 936.624 289.781 L951.809 289.758 Z\" fill=\"#000000\" fill-rule=\"evenodd\" fill-opacity=\"1\" /><path clip-path=\"url(#clip590)\" d=\"M 0 0 M975.559 283.091 Q974.841 282.675 973.985 282.49 Q973.151 282.281 972.133 282.281 Q968.522 282.281 966.577 284.642 Q964.656 286.98 964.656 291.378 L964.656 305.036 L960.374 305.036 L960.374 279.11 L964.656 279.11 L964.656 283.138 Q965.998 280.777 968.151 279.642 Q970.304 278.485 973.383 278.485 Q973.823 278.485 974.355 278.554 Q974.887 278.601 975.535 278.716 L975.559 283.091 Z\" fill=\"#000000\" fill-rule=\"evenodd\" fill-opacity=\"1\" /><path clip-path=\"url(#clip590)\" d=\"M 0 0 M996.554 279.874 L996.554 283.902 Q994.748 282.976 992.804 282.513 Q990.859 282.05 988.776 282.05 Q985.605 282.05 984.008 283.022 Q982.434 283.994 982.434 285.939 Q982.434 287.42 983.568 288.277 Q984.702 289.11 988.128 289.874 L989.586 290.198 Q994.123 291.17 996.021 292.952 Q997.943 294.712 997.943 297.883 Q997.943 301.494 995.072 303.601 Q992.225 305.707 987.225 305.707 Q985.142 305.707 982.873 305.29 Q980.628 304.897 978.128 304.087 L978.128 299.689 Q980.489 300.915 982.781 301.54 Q985.072 302.142 987.318 302.142 Q990.327 302.142 991.947 301.124 Q993.568 300.082 993.568 298.207 Q993.568 296.471 992.387 295.545 Q991.23 294.619 987.272 293.763 L985.79 293.415 Q981.832 292.582 980.072 290.869 Q978.313 289.133 978.313 286.124 Q978.313 282.466 980.906 280.476 Q983.498 278.485 988.267 278.485 Q990.628 278.485 992.711 278.832 Q994.795 279.179 996.554 279.874 Z\" fill=\"#000000\" fill-rule=\"evenodd\" fill-opacity=\"1\" /><path clip-path=\"url(#clip590)\" d=\"M 0 0 M1012.46 282.096 Q1009.03 282.096 1007.04 284.781 Q1005.05 287.443 1005.05 292.096 Q1005.05 296.749 1007.02 299.434 Q1009.01 302.096 1012.46 302.096 Q1015.86 302.096 1017.85 299.411 Q1019.84 296.726 1019.84 292.096 Q1019.84 287.49 1017.85 284.804 Q1015.86 282.096 1012.46 282.096 M1012.46 278.485 Q1018.01 278.485 1021.18 282.096 Q1024.35 285.707 1024.35 292.096 Q1024.35 298.462 1021.18 302.096 Q1018.01 305.707 1012.46 305.707 Q1006.88 305.707 1003.71 302.096 Q1000.56 298.462 1000.56 292.096 Q1000.56 285.707 1003.71 282.096 Q1006.88 278.485 1012.46 278.485 Z\" fill=\"#000000\" fill-rule=\"evenodd\" fill-opacity=\"1\" /></svg>\n"
      ]
     },
     "execution_count": 18,
     "metadata": {},
     "output_type": "execute_result"
    }
   ],
   "source": [
    "plot(title=\"Rendimiento de S.E.L.A. Dispersos\", legend=:topleft, xaxis=\"Dimensión de matriz n x n\", yaxis=\"Segundos\")\n",
    "plot!(n, [minimum(yJacobiP[i]).time/10^9  for i=1:size(n)[1]], label=\"MMCM S.E.L.A.\")\n",
    "plot!(n, [minimum(yJacobiJ[i]).time/10^9  for i=1:size(n)[1]], label=\"MMCM S.E.L.A. Disperso\")"
   ]
  },
  {
   "cell_type": "code",
   "execution_count": null,
   "id": "7d5b19e8",
   "metadata": {},
   "outputs": [],
   "source": []
  },
  {
   "cell_type": "code",
   "execution_count": null,
   "id": "863246e7",
   "metadata": {},
   "outputs": [],
   "source": []
  }
 ],
 "metadata": {
  "kernelspec": {
   "display_name": "Julia 1.4.1",
   "language": "julia",
   "name": "julia-1.4"
  },
  "language_info": {
   "file_extension": ".jl",
   "mimetype": "application/julia",
   "name": "julia",
   "version": "1.4.1"
  }
 },
 "nbformat": 4,
 "nbformat_minor": 5
}
