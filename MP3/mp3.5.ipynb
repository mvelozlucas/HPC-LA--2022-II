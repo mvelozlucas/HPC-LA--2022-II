{
 "cells": [
  {
   "cell_type": "markdown",
   "id": "ce2f2667",
   "metadata": {},
   "source": [
    "# 5.Método Cadena Markov-Monte Carlo (MCMC)"
   ]
  },
  {
   "cell_type": "code",
   "execution_count": 1,
   "id": "16ea3ecd",
   "metadata": {},
   "outputs": [],
   "source": [
    "using LinearAlgebra\n",
    "using BenchmarkTools\n",
    "using SparseArrays\n",
    "using Random\n",
    "\n",
    "using Plots\n",
    "using PyCall\n",
    "using DataFrames"
   ]
  },
  {
   "cell_type": "markdown",
   "id": "efaee863",
   "metadata": {},
   "source": [
    "## Implementación de la función que construye el sistema de ecuaciones de prueba $Ax = b$"
   ]
  },
  {
   "cell_type": "code",
   "execution_count": 2,
   "id": "a18944b7",
   "metadata": {},
   "outputs": [
    {
     "data": {
      "text/plain": [
       "matriz_dispersa (generic function with 1 method)"
      ]
     },
     "execution_count": 2,
     "metadata": {},
     "output_type": "execute_result"
    }
   ],
   "source": [
    "function matriz_dispersa(n)\n",
    "    e = ones(n)\n",
    "    n2 =Int(n/2)\n",
    "    diags = [-1,0,1]\n",
    "    A = Matrix(spdiagm(-1 => -ones(n-1)\n",
    "        ,0 => 3*ones(n),1 => -ones(n-1)))\n",
    "    c = spdiagm(0 => ones(n)/2)\n",
    "    ab = [x for x=1:n]\n",
    "    ba = [(n+1)-x for x=1:n]\n",
    "    c = Matrix(permute(c, ba, ab))\n",
    "\n",
    "    A = A + c\n",
    "    A[n2+1,n2] = -1\n",
    "    A[n2,n2+1] = -1\n",
    "    \n",
    "    b = zeros(n,1)\n",
    "    b[1] = 2.5\n",
    "    b[n] = 2.5\n",
    "    b[2:n-1] .= [1.5]\n",
    "    b[n2:n2+1] .= [1]\n",
    "    return A,b\n",
    "end"
   ]
  },
  {
   "cell_type": "markdown",
   "id": "55da954d",
   "metadata": {},
   "source": [
    "### Evaluación de parámetros"
   ]
  },
  {
   "cell_type": "code",
   "execution_count": 3,
   "id": "f2742759",
   "metadata": {},
   "outputs": [
    {
     "data": {
      "text/plain": [
       "preparametros (generic function with 1 method)"
      ]
     },
     "execution_count": 3,
     "metadata": {},
     "output_type": "execute_result"
    }
   ],
   "source": [
    "\n",
    "function preparametros(A,b,ϵ,δ)\n",
    "    M = diagm(0 => diag(A))\n",
    "    N = M-A\n",
    "    T = inv(M) * N\n",
    "    f = inv(M) * b\n",
    "    nT, mT = size(T);\n",
    "    print(nT, mT )\n",
    "\n",
    "    S = fill(0, nT)\n",
    "    P = fill(0., nT, mT)\n",
    "    Pa = P\n",
    "    [S[i] += 1 for i in 1:nT, j in 1:mT if T[i,j] != 0]\n",
    "    [P[i,j]= 1/S[i] for i in 1:nT, j in 1:mT if T[i,j] != 0 ]\n",
    "    Pa = [accumulate(+, P[i, 1:mT]) for i in 1:nT]\n",
    "    Pi = [1/nT for i in 1:nT];\n",
    "    Nc = floor((0.6745/δ)^2*((norm(f)^2)/(1-norm(T))^2)) + 1\n",
    "    return Nc, mT, f, Pa, T, P\n",
    "end"
   ]
  },
  {
   "cell_type": "markdown",
   "id": "68602e7d",
   "metadata": {},
   "source": [
    "### Matriz de probabilidad acumulada pre-build con envío de parámetros, type-anotations y view"
   ]
  },
  {
   "cell_type": "code",
   "execution_count": 4,
   "id": "9ed92514",
   "metadata": {},
   "outputs": [
    {
     "data": {
      "text/plain": [
       "mcmc_acc_par_ta (generic function with 1 method)"
      ]
     },
     "execution_count": 4,
     "metadata": {},
     "output_type": "execute_result"
    }
   ],
   "source": [
    "function mcmc_acc_par_ta(ϵ, Nc, mT, f, Pa, T, P)\n",
    "    Xs = fill(0., mT)\n",
    "    for i in 1:mT\n",
    "        W_0 = 1.0\n",
    "        for s in 1:Nc\n",
    "            W = W_0; point = i; X = W_0 * f[i]::Float64\n",
    "            while abs(W) >= ϵ\n",
    "                nextpoint  = 1::Int64\n",
    "                u = rand()\n",
    "                while u >= Pa[point][nextpoint]::Float64\n",
    "                    nextpoint = nextpoint + 1::Int64\n",
    "                end\n",
    "                    W_new = W *(T[point, nextpoint]/P[point, nextpoint])::Float64\n",
    "                    X = X + W_new * f[nextpoint]::Float64\n",
    "                point = nextpoint::Int64\n",
    "                W = W_new::Float64\n",
    "            end\n",
    "        Xs[i] += X::Float64\n",
    "        end\n",
    "    end\n",
    "    Xs = Xs/Nc::Float64\n",
    "end"
   ]
  },
  {
   "cell_type": "code",
   "execution_count": 19,
   "id": "8645e2d0",
   "metadata": {},
   "outputs": [
    {
     "name": "stdout",
     "output_type": "stream",
     "text": [
      "6666"
     ]
    },
    {
     "data": {
      "text/plain": [
       "(8623.0, 6, [0.8333333333333333; 0.5; … ; 0.5; 0.8333333333333333], [[0.0, 0.5, 0.5, 0.5, 0.5, 1.0], [0.3333333333333333, 0.3333333333333333, 0.6666666666666666, 0.6666666666666666, 1.0, 1.0], [0.0, 0.5, 0.5, 1.0, 1.0, 1.0], [0.0, 0.0, 0.5, 0.5, 1.0, 1.0], [0.0, 0.3333333333333333, 0.3333333333333333, 0.6666666666666666, 0.6666666666666666, 1.0], [0.5, 0.5, 0.5, 0.5, 1.0, 1.0]], [0.0 0.3333333333333333 … 0.0 -0.16666666666666666; 0.3333333333333333 0.0 … -0.16666666666666666 0.0; … ; 0.0 -0.16666666666666666 … 0.0 0.3333333333333333; -0.16666666666666666 0.0 … 0.3333333333333333 0.0], [0.0 0.5 … 0.0 0.5; 0.3333333333333333 0.0 … 0.3333333333333333 0.0; … ; 0.0 0.3333333333333333 … 0.0 0.3333333333333333; 0.5 0.0 … 0.5 0.0])"
      ]
     },
     "execution_count": 19,
     "metadata": {},
     "output_type": "execute_result"
    }
   ],
   "source": [
    "n = [6, 10, 30, 50]\n",
    "A,b = matriz_dispersa(n[1])\n",
    "As = sparse(A)\n",
    "bs = sparse(b)\n",
    "ϵ = 0.1\n",
    "δ = 0.1 \n",
    "(Nc, mT, f, Pa, T, P) = preparametros(A,b,ϵ,δ)\n",
    "(Ncs, mTs, fs, Pas, Ts, Ps) = preparametros(As,bs,ϵ,δ)"
   ]
  },
  {
   "cell_type": "code",
   "execution_count": 29,
   "id": "fa5209f4",
   "metadata": {},
   "outputs": [
    {
     "data": {
      "text/plain": [
       "true"
      ]
     },
     "execution_count": 29,
     "metadata": {},
     "output_type": "execute_result"
    }
   ],
   "source": [
    "(A == As)\n"
   ]
  },
  {
   "cell_type": "code",
   "execution_count": 30,
   "id": "5985ca9a",
   "metadata": {},
   "outputs": [
    {
     "data": {
      "text/plain": [
       "true"
      ]
     },
     "execution_count": 30,
     "metadata": {},
     "output_type": "execute_result"
    }
   ],
   "source": [
    "((Nc, mT, f, Pa, P) == (Ncs, mTs, fs, Pas, Ps))"
   ]
  },
  {
   "cell_type": "code",
   "execution_count": 31,
   "id": "09e236dc",
   "metadata": {},
   "outputs": [
    {
     "data": {
      "text/plain": [
       "BenchmarkTools.Trial: 815 samples with 1 evaluation.\n",
       " Range \u001b[90m(\u001b[39m\u001b[36m\u001b[1mmin\u001b[22m\u001b[39m … \u001b[35mmax\u001b[39m\u001b[90m):  \u001b[39m\u001b[36m\u001b[1m5.426 ms\u001b[22m\u001b[39m … \u001b[35m  8.553 ms\u001b[39m  \u001b[90m┊\u001b[39m GC \u001b[90m(\u001b[39mmin … max\u001b[90m): \u001b[39m0.00% … 0.00%\n",
       " Time  \u001b[90m(\u001b[39m\u001b[34m\u001b[1mmedian\u001b[22m\u001b[39m\u001b[90m):     \u001b[39m\u001b[34m\u001b[1m6.070 ms               \u001b[22m\u001b[39m\u001b[90m┊\u001b[39m GC \u001b[90m(\u001b[39mmedian\u001b[90m):    \u001b[39m0.00%\n",
       " Time  \u001b[90m(\u001b[39m\u001b[32m\u001b[1mmean\u001b[22m\u001b[39m ± \u001b[32mσ\u001b[39m\u001b[90m):   \u001b[39m\u001b[32m\u001b[1m6.130 ms\u001b[22m\u001b[39m ± \u001b[32m492.730 μs\u001b[39m  \u001b[90m┊\u001b[39m GC \u001b[90m(\u001b[39mmean ± σ\u001b[90m):  \u001b[39m0.00% ± 0.00%\n",
       "\n",
       "  \u001b[39m▂\u001b[39m▂\u001b[39m█\u001b[39m▆\u001b[39m▆\u001b[39m▄\u001b[39m▇\u001b[39m▆\u001b[39m▅\u001b[39m█\u001b[39m▃\u001b[39m \u001b[39m▄\u001b[39m▁\u001b[39m▃\u001b[39m▇\u001b[34m▄\u001b[39m\u001b[32m▅\u001b[39m\u001b[39m▄\u001b[39m▅\u001b[39m▃\u001b[39m▃\u001b[39m▂\u001b[39m \u001b[39m▆\u001b[39m▁\u001b[39m \u001b[39m▂\u001b[39m \u001b[39m▁\u001b[39m \u001b[39m▁\u001b[39m \u001b[39m \u001b[39m \u001b[39m \u001b[39m \u001b[39m \u001b[39m \u001b[39m \u001b[39m \u001b[39m \u001b[39m \u001b[39m \u001b[39m \u001b[39m \u001b[39m \u001b[39m \u001b[39m \u001b[39m \u001b[39m \u001b[39m \u001b[39m \u001b[39m \u001b[39m \u001b[39m \u001b[39m \u001b[39m \u001b[39m \u001b[39m \u001b[39m \n",
       "  \u001b[39m█\u001b[39m█\u001b[39m█\u001b[39m█\u001b[39m█\u001b[39m█\u001b[39m█\u001b[39m█\u001b[39m█\u001b[39m█\u001b[39m█\u001b[39m█\u001b[39m█\u001b[39m█\u001b[39m█\u001b[39m█\u001b[34m█\u001b[39m\u001b[32m█\u001b[39m\u001b[39m█\u001b[39m█\u001b[39m█\u001b[39m█\u001b[39m█\u001b[39m█\u001b[39m█\u001b[39m█\u001b[39m█\u001b[39m█\u001b[39m▇\u001b[39m█\u001b[39m▅\u001b[39m█\u001b[39m▇\u001b[39m▅\u001b[39m▆\u001b[39m▅\u001b[39m▄\u001b[39m▄\u001b[39m▄\u001b[39m▄\u001b[39m▃\u001b[39m▄\u001b[39m▄\u001b[39m▃\u001b[39m▃\u001b[39m▂\u001b[39m▃\u001b[39m▂\u001b[39m▁\u001b[39m▂\u001b[39m▁\u001b[39m▁\u001b[39m▁\u001b[39m▂\u001b[39m▂\u001b[39m▁\u001b[39m▁\u001b[39m▁\u001b[39m▂\u001b[39m \u001b[39m▅\n",
       "  5.43 ms\u001b[90m         Histogram: frequency by time\u001b[39m        7.81 ms \u001b[0m\u001b[1m<\u001b[22m\n",
       "\n",
       " Memory estimate\u001b[90m: \u001b[39m\u001b[33m256 bytes\u001b[39m, allocs estimate\u001b[90m: \u001b[39m\u001b[33m2\u001b[39m."
      ]
     },
     "execution_count": 31,
     "metadata": {},
     "output_type": "execute_result"
    }
   ],
   "source": [
    "@benchmark mcmc_acc_par_ta($ϵ, $Nc, $mT, $f, $Pa, $T, $P)"
   ]
  },
  {
   "cell_type": "code",
   "execution_count": 32,
   "id": "41e0eb80",
   "metadata": {},
   "outputs": [
    {
     "data": {
      "text/plain": [
       "BenchmarkTools.Trial: 786 samples with 1 evaluation.\n",
       " Range \u001b[90m(\u001b[39m\u001b[36m\u001b[1mmin\u001b[22m\u001b[39m … \u001b[35mmax\u001b[39m\u001b[90m):  \u001b[39m\u001b[36m\u001b[1m5.434 ms\u001b[22m\u001b[39m … \u001b[35m  8.580 ms\u001b[39m  \u001b[90m┊\u001b[39m GC \u001b[90m(\u001b[39mmin … max\u001b[90m): \u001b[39m0.00% … 0.00%\n",
       " Time  \u001b[90m(\u001b[39m\u001b[34m\u001b[1mmedian\u001b[22m\u001b[39m\u001b[90m):     \u001b[39m\u001b[34m\u001b[1m6.295 ms               \u001b[22m\u001b[39m\u001b[90m┊\u001b[39m GC \u001b[90m(\u001b[39mmedian\u001b[90m):    \u001b[39m0.00%\n",
       " Time  \u001b[90m(\u001b[39m\u001b[32m\u001b[1mmean\u001b[22m\u001b[39m ± \u001b[32mσ\u001b[39m\u001b[90m):   \u001b[39m\u001b[32m\u001b[1m6.352 ms\u001b[22m\u001b[39m ± \u001b[32m519.750 μs\u001b[39m  \u001b[90m┊\u001b[39m GC \u001b[90m(\u001b[39mmean ± σ\u001b[90m):  \u001b[39m0.00% ± 0.00%\n",
       "\n",
       "  \u001b[39m \u001b[39m \u001b[39m \u001b[39m \u001b[39m▂\u001b[39m \u001b[39m \u001b[39m▁\u001b[39m▄\u001b[39m▄\u001b[39m▂\u001b[39m▂\u001b[39m▄\u001b[39m▆\u001b[39m▇\u001b[39m▄\u001b[39m▆\u001b[39m▄\u001b[39m█\u001b[39m▅\u001b[39m█\u001b[39m▃\u001b[34m▆\u001b[39m\u001b[39m▄\u001b[32m▆\u001b[39m\u001b[39m▂\u001b[39m█\u001b[39m▄\u001b[39m▅\u001b[39m▃\u001b[39m \u001b[39m▅\u001b[39m▂\u001b[39m \u001b[39m▁\u001b[39m▁\u001b[39m \u001b[39m▂\u001b[39m \u001b[39m \u001b[39m \u001b[39m \u001b[39m \u001b[39m \u001b[39m \u001b[39m \u001b[39m \u001b[39m \u001b[39m \u001b[39m \u001b[39m \u001b[39m \u001b[39m \u001b[39m \u001b[39m \u001b[39m \u001b[39m \u001b[39m \u001b[39m \u001b[39m \u001b[39m \n",
       "  \u001b[39m▆\u001b[39m▆\u001b[39m▇\u001b[39m█\u001b[39m█\u001b[39m█\u001b[39m▅\u001b[39m█\u001b[39m█\u001b[39m█\u001b[39m█\u001b[39m█\u001b[39m█\u001b[39m█\u001b[39m█\u001b[39m█\u001b[39m█\u001b[39m█\u001b[39m█\u001b[39m█\u001b[39m█\u001b[39m█\u001b[34m█\u001b[39m\u001b[39m█\u001b[32m█\u001b[39m\u001b[39m█\u001b[39m█\u001b[39m█\u001b[39m█\u001b[39m█\u001b[39m█\u001b[39m█\u001b[39m█\u001b[39m█\u001b[39m█\u001b[39m█\u001b[39m▆\u001b[39m█\u001b[39m█\u001b[39m▇\u001b[39m▆\u001b[39m█\u001b[39m▆\u001b[39m▄\u001b[39m▄\u001b[39m▅\u001b[39m▂\u001b[39m▅\u001b[39m▆\u001b[39m▄\u001b[39m▆\u001b[39m▄\u001b[39m▄\u001b[39m▃\u001b[39m▃\u001b[39m▂\u001b[39m▄\u001b[39m▁\u001b[39m▃\u001b[39m \u001b[39m▆\n",
       "  5.43 ms\u001b[90m         Histogram: frequency by time\u001b[39m        7.73 ms \u001b[0m\u001b[1m<\u001b[22m\n",
       "\n",
       " Memory estimate\u001b[90m: \u001b[39m\u001b[33m256 bytes\u001b[39m, allocs estimate\u001b[90m: \u001b[39m\u001b[33m2\u001b[39m."
      ]
     },
     "execution_count": 32,
     "metadata": {},
     "output_type": "execute_result"
    }
   ],
   "source": [
    "@benchmark mcmc_acc_par_ta($ϵ, $Ncs, $mT, $fs, $Pas, $Ts, $Ps)"
   ]
  },
  {
   "cell_type": "code",
   "execution_count": 33,
   "id": "c9572a68",
   "metadata": {},
   "outputs": [
    {
     "name": "stdout",
     "output_type": "stream",
     "text": [
      "  5.418 ms (2 allocations: 256 bytes)\n",
      "  5.422 ms (2 allocations: 256 bytes)\n"
     ]
    },
    {
     "data": {
      "text/plain": [
       "6-element Array{Float64,1}:\n",
       " 1.0119271144615298\n",
       " 1.0117101002619389\n",
       " 0.9954939883610078\n",
       " 0.9954925367610096\n",
       " 1.0018438219851056\n",
       " 0.9970250949425885"
      ]
     },
     "execution_count": 33,
     "metadata": {},
     "output_type": "execute_result"
    }
   ],
   "source": [
    "X  = @btime mcmc_acc_par_ta($ϵ, $Nc, $mT, $f, $Pa, $T, $P)\n",
    "Xs = @btime mcmc_acc_par_ta($ϵ, $Ncs, $mTs, $fs, $Pas, $Ts, $Ps)"
   ]
  },
  {
   "cell_type": "code",
   "execution_count": 34,
   "id": "92e9655a",
   "metadata": {},
   "outputs": [
    {
     "data": {
      "text/plain": [
       "6-element Array{Float64,1}:\n",
       " 0.9954057589200687\n",
       " 1.0008335415285656\n",
       " 1.004245618461406\n",
       " 1.000210336176775\n",
       " 0.998142729172908\n",
       " 0.9975253998183536"
      ]
     },
     "execution_count": 34,
     "metadata": {},
     "output_type": "execute_result"
    }
   ],
   "source": [
    "X "
   ]
  },
  {
   "cell_type": "code",
   "execution_count": 35,
   "id": "769e46e6",
   "metadata": {},
   "outputs": [
    {
     "data": {
      "text/plain": [
       "0.021564596617558874"
      ]
     },
     "execution_count": 35,
     "metadata": {},
     "output_type": "execute_result"
    }
   ],
   "source": [
    "norm(b-A*X)"
   ]
  },
  {
   "cell_type": "code",
   "execution_count": 36,
   "id": "0eb049e8",
   "metadata": {},
   "outputs": [
    {
     "data": {
      "text/plain": [
       "0.04749927176942902"
      ]
     },
     "execution_count": 36,
     "metadata": {},
     "output_type": "execute_result"
    }
   ],
   "source": [
    "norm(bs-As*Xs)"
   ]
  },
  {
   "cell_type": "code",
   "execution_count": null,
   "id": "030f746f",
   "metadata": {},
   "outputs": [],
   "source": []
  }
 ],
 "metadata": {
  "kernelspec": {
   "display_name": "Julia 1.4.1",
   "language": "julia",
   "name": "julia-1.4"
  },
  "language_info": {
   "file_extension": ".jl",
   "mimetype": "application/julia",
   "name": "julia",
   "version": "1.4.1"
  }
 },
 "nbformat": 4,
 "nbformat_minor": 5
}
