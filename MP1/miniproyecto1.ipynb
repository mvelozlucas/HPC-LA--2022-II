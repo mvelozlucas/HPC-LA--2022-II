{
 "cells": [
  {
   "cell_type": "markdown",
   "id": "91a91899",
   "metadata": {},
   "source": [
    "### CONCURRENCIA "
   ]
  },
  {
   "cell_type": "markdown",
   "id": "b7069d09",
   "metadata": {},
   "source": [
    "La computación concurrente es una forma de computación en la cual varios cálculos se ejecutan simultáneamente en lugar de secuencialmente. Formalmente, la computación concurrente se define como una forma de computación donde las ejecuciones se producen en tiempos de ejecución solapados, esto es \"concurrentemente\", en vez de ejecutarse secuencialmente (uno completando su ejecución antes de que el siguiente empiece con la suya propia).\n",
    "El principal problema de la programación concurrente corresponde a no saber en que orden se ejecutan los programas (no determisnitico). Se debe tener especial cuidado en que este orden no afecte el resultado de los programas.\n",
    "\n",
    "Distintos lenguajes de programación estan diseñados para admitir la programación concurrente mediante el uso de subprocesos. Los objetos y recursos pueden ser accedidos por múltiples hilos; cada subproceso puede potencialmente acceder a cualquier objeto en el programa y el usuario debe garantizar que los accesos de lectura y escritura a los objetos estén correctamente sincronizados entre los subprocesos. "
   ]
  },
  {
   "cell_type": "markdown",
   "id": "96e9a743",
   "metadata": {},
   "source": [
    "Si los diferentes procesos de un programa concurrente tienen acceso a variables globales o secciones de memoria comunes, la transferencia de dato s a través de ella es una vía habitual de comunicación y sincronización entre ellos. Las primitivas para programación concurrente basada en memoria compartida resuelven los problemas de sincronización entre procesos y de exclusión mutua utilizando la semántica de acceso a memoria compartida."
   ]
  },
  {
   "cell_type": "markdown",
   "id": "7fb50f12",
   "metadata": {},
   "source": [
    "### Hilos\n"
   ]
  },
  {
   "cell_type": "markdown",
   "id": "8d63bfd3",
   "metadata": {},
   "source": [
    "Las interfaces de creación de hilos (también llamados por algunos autores hebras). En su forma más básica, dicha interfaz ofrece la posibilidad de crear hilos y esperar a que estos terminen. Los hilos reciben parámetros cuando son creados y devuelven un resultado una vez el código ha finalizado. Este tipo de de relación es similar a la que tiene un programa que ha sido lanzado desde el terminal con su creador. \n",
    "Una vez creados, cada hilo progresa de forma independiente al resto. Esto provoca que cada uno de los hilos pueda potencialmente viajar a una velocidad distinta, ejecutándose \"concurrentemente\" con el resto. Esto provoca que la ejecución de un programa sea diferente en cada da pasada y que sea independiente. "
   ]
  },
  {
   "cell_type": "markdown",
   "id": "3ea97dde",
   "metadata": {},
   "source": [
    "### Ejercicio "
   ]
  },
  {
   "cell_type": "markdown",
   "id": "2cccac29",
   "metadata": {},
   "source": [
    "<b>1. Implementar un programa secuencial que calcule el producto de </b>\n"
   ]
  },
  {
   "cell_type": "markdown",
   "id": "38717c52",
   "metadata": {},
   "source": [
    "SOLUCIÓN "
   ]
  },
  {
   "cell_type": "markdown",
   "id": "5340ee49",
   "metadata": {},
   "source": [
    "Función de multiplicación de matrices"
   ]
  },
  {
   "cell_type": "code",
   "execution_count": 74,
   "id": "8884fba7",
   "metadata": {},
   "outputs": [],
   "source": [
    "def multi_matriz(a,b,r):\n",
    "    n=[]\n",
    "    for i in range(len(a)):\n",
    "        for j in range(len(b[0])):\n",
    "            for k in range(len(a[0])):\n",
    "                r[i][j]+=(a[i][k]*b[k][j])\n",
    "    return r"
   ]
  },
  {
   "cell_type": "markdown",
   "id": "d0ff47c0",
   "metadata": {},
   "source": [
    "Funciones para creación de nuevas matrices a multiplicar y matriz con ceros para almacenar el resultado"
   ]
  },
  {
   "cell_type": "code",
   "execution_count": 66,
   "id": "63f1f2eb",
   "metadata": {},
   "outputs": [],
   "source": [
    "def nueva_matriz(x,y):\n",
    "    c=[]\n",
    "    for i in range(x):\n",
    "        c.append([])\n",
    "        for j in range(y):\n",
    "            c[i].append(random.randint(0,1))\n",
    "    return c\n",
    "\n",
    "def nueva_matriz_zeros(x,y):\n",
    "    c=[]\n",
    "    for i in range(x):\n",
    "        c.append([])\n",
    "        for j in range(y):\n",
    "            c[i].append(0)\n",
    "    return c\n"
   ]
  },
  {
   "cell_type": "markdown",
   "id": "577caf33",
   "metadata": {},
   "source": [
    "Implementación"
   ]
  },
  {
   "cell_type": "code",
   "execution_count": 291,
   "id": "4e35b902",
   "metadata": {},
   "outputs": [
    {
     "name": "stdout",
     "output_type": "stream",
     "text": [
      "Matrices de 100 x100\n",
      "Fin de ejecución 0.16335129737854004 seg. \n",
      "[[25 19 27 ... 24 29 33]\n",
      " [18 20 23 ... 24 23 32]\n",
      " [23 21 24 ... 31 26 29]\n",
      " ...\n",
      " [29 29 31 ... 32 32 37]\n",
      " [26 24 28 ... 28 24 30]\n",
      " [24 24 29 ... 27 21 32]]\n",
      "\n",
      "Matrices de 300 x300\n",
      "Fin de ejecución 3.8831889629364014 seg. \n",
      "[[80 80 79 ... 74 75 79]\n",
      " [73 87 79 ... 82 84 90]\n",
      " [62 80 73 ... 76 75 74]\n",
      " ...\n",
      " [74 82 77 ... 73 71 71]\n",
      " [72 85 70 ... 82 73 81]\n",
      " [62 78 72 ... 74 72 78]]\n",
      "\n",
      "Matrices de 1000 x1000\n",
      "Fin de ejecución 154.40486907958984 seg. \n",
      "[[254 253 248 ... 263 264 253]\n",
      " [246 233 238 ... 251 235 242]\n",
      " [232 214 238 ... 240 242 247]\n",
      " ...\n",
      " [236 248 254 ... 258 259 250]\n",
      " [216 244 234 ... 243 256 247]\n",
      " [246 265 258 ... 270 267 265]]\n",
      "\n"
     ]
    }
   ],
   "source": [
    "import time\n",
    "import random\n",
    "import numpy as np\n",
    "\n",
    "arrDinamico=[100,300,1000]\n",
    "vector = 100\n",
    "for vector in arrDinamico:\n",
    "    t1 = time.time()\n",
    "    p = nueva_matriz(vector,vector)\n",
    "    q = nueva_matriz(vector,vector)\n",
    "    r = nueva_matriz_zeros(vector,vector)\n",
    "    r = multi_matriz(p,q,r)\n",
    "    print(f\"Matrices de {vector} x{ vector}\")\n",
    "    print(f\"Fin de ejecución {time.time()- t1} seg. \")\n",
    "    print(np.array(r))\n",
    "    print()"
   ]
  },
  {
   "cell_type": "markdown",
   "id": "e297f256",
   "metadata": {},
   "source": [
    "<b>2. Refactorizar el código  y diseñar un algoritmo concurrente que utilice multi hilospara hacer la multiplicación de las matrices, cada hilo calculará  un subconjunto del procucto.</b>"
   ]
  },
  {
   "cell_type": "markdown",
   "id": "789b1d11",
   "metadata": {},
   "source": [
    "SOLUCIÓN"
   ]
  },
  {
   "cell_type": "markdown",
   "id": "473ab83f",
   "metadata": {},
   "source": [
    "Funciones para deficnición de subconjuntos para su multiplicación"
   ]
  },
  {
   "cell_type": "code",
   "execution_count": 292,
   "id": "a5baf6ff",
   "metadata": {},
   "outputs": [],
   "source": [
    "def multi_sub_matriz(i,j):\n",
    "    global productoMatriz\n",
    "    s = 0\n",
    "    subA=p[i]\n",
    "    subB= [c[j] for c in q]\n",
    "    reg_num=min(len(subA),len(subB))\n",
    "    for y in range(reg_num):\n",
    "        s += (subA[y] * subB[y])\n",
    "    productoMatriz[i][j] += s\n",
    "    \n",
    "\n",
    "def genera_sub_matriz(rango,i,j,sentido):\n",
    "    multi_sub_matriz(i,j)\n",
    "    if sentido == \"a-b\" or sentido == 'ini':    \n",
    "        if j == 0:\n",
    "            k=1\n",
    "        else:\n",
    "            k = j+1 \n",
    "        if k >= 0  and k != i  and i >= 0 and k > rango[1] and  k < (rango[1] + (base))and k <vector:\n",
    "            genera_sub_matriz(rango,i,k,\"a-b\")\n",
    "    if sentido == \"w-v\" or sentido == 'ini':  \n",
    "        if i == 0:\n",
    "            r=1\n",
    "        else:\n",
    "            r = j+1 \n",
    "        r = i+1 \n",
    "        if r >= 0 and r != j  and j >= 0 and r >rango[0] and  r < (rango[0] + (base) )and r <vector:\n",
    "            genera_sub_matriz(rango,r,j,\"w-v\")\n",
    "            \n",
    "def inicia_subconjunto(a,b):\n",
    "    s = a \n",
    "    t = b \n",
    "    for i in range(base):\n",
    "        genera_sub_matriz([a,b],s,t,'ini')\n",
    "        s += 1\n",
    "        t += 1\n",
    "        if s >= vector or  t >= vector :\n",
    "            break;\n",
    "\n",
    "def multi_matriz_hilos():\n",
    "    global p\n",
    "    global base\n",
    "    global sub\n",
    "    dim = len(p)\n",
    "    x = list(range(1, dim))[::base]\n",
    "    arrHilos=[]\n",
    "    t = 0\n",
    "    for u in x:\n",
    "        for v in x:\n",
    "            if v > 0:\n",
    "                arrHilos.append(threading.Thread(target=inicia_subconjunto, args=(u-1,v-1)))\n",
    "                t = v\n",
    "    for thread in arrHilos:\n",
    "        thread.start()\n",
    "        thread.join()"
   ]
  },
  {
   "cell_type": "code",
   "execution_count": 293,
   "id": "e4174ec0",
   "metadata": {},
   "outputs": [
    {
     "name": "stdout",
     "output_type": "stream",
     "text": [
      "Matrices de 100 x 100 con 1 hilos\n",
      "Fin de ejecución 0.1486659049987793 seg. \n",
      "\n",
      "Matrices de 100 x 100 con 2 hilos\n",
      "Fin de ejecución 0.1315169334411621 seg. \n",
      "\n",
      "Matrices de 100 x 100 con 4 hilos\n",
      "Fin de ejecución 0.1376512050628662 seg. \n",
      "\n",
      "Matrices de 100 x 100 con 8 hilos\n",
      "Fin de ejecución 0.14161014556884766 seg. \n",
      "\n",
      "Matrices de 100 x 100 con 16 hilos\n",
      "Fin de ejecución 0.16880512237548828 seg. \n",
      "\n",
      "Matrices de 300 x 300 con 1 hilos\n",
      "Fin de ejecución 3.2579119205474854 seg. \n",
      "\n",
      "Matrices de 300 x 300 con 2 hilos\n",
      "Fin de ejecución 3.2667958736419678 seg. \n",
      "\n",
      "Matrices de 300 x 300 con 4 hilos\n",
      "Fin de ejecución 3.0803847312927246 seg. \n",
      "\n",
      "Matrices de 300 x 300 con 8 hilos\n",
      "Fin de ejecución 3.1749234199523926 seg. \n",
      "\n",
      "Matrices de 300 x 300 con 16 hilos\n",
      "Fin de ejecución 3.3702924251556396 seg. \n",
      "\n",
      "Matrices de 1000 x 1000 con 1 hilos\n",
      "Fin de ejecución 122.26634621620178 seg. \n",
      "\n",
      "Matrices de 1000 x 1000 con 2 hilos\n",
      "Fin de ejecución 122.12317299842834 seg. \n",
      "\n",
      "Matrices de 1000 x 1000 con 4 hilos\n",
      "Fin de ejecución 124.4023745059967 seg. \n",
      "\n",
      "Matrices de 1000 x 1000 con 8 hilos\n",
      "Fin de ejecución 121.6974139213562 seg. \n",
      "\n",
      "Matrices de 1000 x 1000 con 16 hilos\n",
      "Fin de ejecución 126.03195786476135 seg. \n",
      "\n"
     ]
    }
   ],
   "source": [
    "import threading\n",
    "import time\n",
    "import random\n",
    "import numpy as np\n",
    "import math\n",
    "\n",
    "arrDinamico=[100,300,1000]\n",
    "arrBase = [1,2,4,8,16]\n",
    "vector = 100\n",
    "for vector in arrDinamico:\n",
    "    for sub in  arrBase:\n",
    "    \n",
    "        t3 = time.time()\n",
    "        p = nueva_matriz(vector,vector)\n",
    "        q = nueva_matriz(vector,vector)\n",
    "        productoMatriz = nueva_matriz_zeros(vector,vector)\n",
    "        base=int(math.floor(vector/sub))\n",
    "        multi_matriz_hilos()\n",
    "        print(f\"Matrices de {vector} x { vector} con {sub} hilos\")\n",
    "        print(f\"Fin de ejecución {time.time()- t3} seg. \")\n",
    "        print()\n",
    "        t4 = time.time()\n"
   ]
  },
  {
   "cell_type": "markdown",
   "id": "97539ad1",
   "metadata": {},
   "source": [
    "<b>3. Modifica la versión concurrente para hacer un analisis de rendimiento: spped-up, eficiencia, escalabilidad, incluir el procedimietno para elaborar el cómputo de los tiempos y medidas estadisticas que se calculen."
   ]
  },
  {
   "cell_type": "markdown",
   "id": "53838c88",
   "metadata": {},
   "source": [
    "SOLUCIÓN"
   ]
  },
  {
   "cell_type": "markdown",
   "id": "8771cb83",
   "metadata": {},
   "source": [
    "Para realizar un análisis de rendimiento utilizaremos la función timeit.timeit() de la biblioteca time que aporta, entre otras caracterirsticas el tiempo total de la ejecución de una función repetidas veces."
   ]
  },
  {
   "cell_type": "markdown",
   "id": "6829559c",
   "metadata": {},
   "source": [
    "Continuamos con la implementacion de la función timeit() indicando la función para analizar y el número de repeticiones que se ejecutará."
   ]
  },
  {
   "cell_type": "code",
   "execution_count": 294,
   "id": "c5403f6d",
   "metadata": {},
   "outputs": [
    {
     "name": "stdout",
     "output_type": "stream",
     "text": [
      "Matrices de 100 x100\n",
      "Tiempo:: acumulado:   0.670746 seg. || promedio:   0.134149 seg.\n",
      "Matrices de 300 x300\n",
      "Tiempo:: acumulado:  19.227874 seg. || promedio:   3.845575 seg.\n",
      "Matrices de 1000 x1000\n",
      "Tiempo:: acumulado: 781.129583 seg. || promedio: 156.225917 seg.\n"
     ]
    }
   ],
   "source": [
    "import timeit\n",
    "\n",
    "arrDinamico = [100,300,1000]\n",
    "arrDatosSecuencial = []\n",
    "\n",
    "for vector in arrDinamico:\n",
    "    p = nueva_matriz(vector,vector)\n",
    "    q = nueva_matriz(vector,vector)\n",
    "    r = nueva_matriz_zeros(vector,vector)\n",
    "    \n",
    "    ts = timeit.timeit(f\"multi_matriz({p},{q},{r})\", globals = globals(),number = 5)\n",
    "    print(f\"Matrices de {vector} x{ vector}\")\n",
    "    print(f'Tiempo:: acumulado: {ts:10f} seg. || promedio: {ts/5:10f} seg.')\n",
    "    \n",
    "    arrDatosSecuencial.append(([vector,ts/5]))"
   ]
  },
  {
   "cell_type": "markdown",
   "id": "e27c0c88",
   "metadata": {},
   "source": [
    "Los datos recabados de la ejecución secuencial se almacenaran en el arreglo arrDatosSecuencial[ ]"
   ]
  },
  {
   "cell_type": "code",
   "execution_count": 295,
   "id": "30875ac7",
   "metadata": {},
   "outputs": [
    {
     "name": "stdout",
     "output_type": "stream",
     "text": [
      "[[100, 0.1341492752006161], [300, 3.845574709599896], [1000, 156.22591668599927]]\n"
     ]
    }
   ],
   "source": [
    "print(arrDatosSecuencial)"
   ]
  },
  {
   "cell_type": "markdown",
   "id": "96ec0bc0",
   "metadata": {},
   "source": [
    "Implementamos una fución analoga para recabar los datos de tiempo de ejecución del algoritmo concurrente"
   ]
  },
  {
   "cell_type": "code",
   "execution_count": 296,
   "id": "f89f5ecc",
   "metadata": {},
   "outputs": [
    {
     "name": "stdout",
     "output_type": "stream",
     "text": [
      "Matrices de 100 x 100 con 1 hilos\n",
      "Tiempo:: acumulado:   0.587660 seg. || promedio:   0.117532 seg.\n",
      "\n",
      "Matrices de 100 x 100 con 2 hilos\n",
      "Tiempo:: acumulado:   0.583326 seg. || promedio:   0.116665 seg.\n",
      "\n",
      "Matrices de 100 x 100 con 4 hilos\n",
      "Tiempo:: acumulado:   0.601727 seg. || promedio:   0.120345 seg.\n",
      "\n",
      "Matrices de 100 x 100 con 8 hilos\n",
      "Tiempo:: acumulado:   0.640780 seg. || promedio:   0.128156 seg.\n",
      "\n",
      "Matrices de 100 x 100 con 16 hilos\n",
      "Tiempo:: acumulado:   0.743357 seg. || promedio:   0.148671 seg.\n",
      "\n",
      "Matrices de 300 x 300 con 1 hilos\n",
      "Tiempo:: acumulado:  16.343672 seg. || promedio:   3.268734 seg.\n",
      "\n",
      "Matrices de 300 x 300 con 2 hilos\n",
      "Tiempo:: acumulado:  15.844725 seg. || promedio:   3.168945 seg.\n",
      "\n",
      "Matrices de 300 x 300 con 4 hilos\n",
      "Tiempo:: acumulado:  15.996503 seg. || promedio:   3.199301 seg.\n",
      "\n",
      "Matrices de 300 x 300 con 8 hilos\n",
      "Tiempo:: acumulado:  16.142385 seg. || promedio:   3.228477 seg.\n",
      "\n",
      "Matrices de 300 x 300 con 16 hilos\n",
      "Tiempo:: acumulado:  15.897780 seg. || promedio:   3.179556 seg.\n",
      "\n",
      "Matrices de 1000 x 1000 con 1 hilos\n",
      "Tiempo:: acumulado: 611.559465 seg. || promedio: 122.311893 seg.\n",
      "\n",
      "Matrices de 1000 x 1000 con 2 hilos\n",
      "Tiempo:: acumulado: 618.990033 seg. || promedio: 123.798007 seg.\n",
      "\n",
      "Matrices de 1000 x 1000 con 4 hilos\n",
      "Tiempo:: acumulado: 616.423340 seg. || promedio: 123.284668 seg.\n",
      "\n",
      "Matrices de 1000 x 1000 con 8 hilos\n",
      "Tiempo:: acumulado: 601.633165 seg. || promedio: 120.326633 seg.\n",
      "\n",
      "Matrices de 1000 x 1000 con 16 hilos\n",
      "Tiempo:: acumulado: 622.674349 seg. || promedio: 124.534870 seg.\n",
      "\n"
     ]
    }
   ],
   "source": [
    "import threading\n",
    "import time\n",
    "import random\n",
    "import numpy as np\n",
    "import math\n",
    "\n",
    "arrDinamico = [100,300,1000]\n",
    "arrBase = [1,2,4,8,16]\n",
    "vector = 100\n",
    "arrDatosConcurrente = []\n",
    "for vector in arrDinamico:\n",
    "    for sub in  arrBase:\n",
    "    \n",
    "        t3 = time.time()\n",
    "        \n",
    "        p = nueva_matriz(vector,vector)\n",
    "        q = nueva_matriz(vector,vector)\n",
    "        productoMatriz = nueva_matriz_zeros(vector,vector)\n",
    "        \n",
    "        base = int(math.floor(vector/sub))\n",
    "        \n",
    "        print(f\"Matrices de {vector} x { vector} con {sub} hilos\")\n",
    "        tp = timeit.timeit(f\"multi_matriz_hilos()\", globals = globals(),number = 5)\n",
    "        print(f'Tiempo:: acumulado: {tp:10f} seg. || promedio: {tp/5:10f} seg.')\n",
    "        \n",
    "        arrDatosConcurrente.append(([vector,sub,tp/5]))\n",
    "        print()\n"
   ]
  },
  {
   "cell_type": "markdown",
   "id": "82cbeb87",
   "metadata": {},
   "source": [
    "Los datos recabados de la ejecución secuencial se almacenaran en el arreglo arrDatosConcurrentes, para el calculo de metricas de eficiencia utilizaremos el tiempo promedio de las cinco repeticiones."
   ]
  },
  {
   "cell_type": "code",
   "execution_count": 297,
   "id": "e3ba7610",
   "metadata": {},
   "outputs": [
    {
     "name": "stdout",
     "output_type": "stream",
     "text": [
      "[[100, 1, 0.11753202839900041], [100, 2, 0.11666520879953168], [100, 4, 0.12034533900005044], [100, 8, 0.12815601939946647], [100, 16, 0.1486714333994314], [300, 1, 3.268734477799444], [300, 2, 3.1689450331992703], [300, 4, 3.199300592999498], [300, 8, 3.228477058200224], [300, 16, 3.1795559010002763], [1000, 1, 122.31189308780013], [1000, 2, 123.79800668639946], [1000, 4, 123.2846680083996], [1000, 8, 120.32663290339988], [1000, 16, 124.5348698656002]]\n"
     ]
    }
   ],
   "source": [
    "print(arrDatosConcurrente)"
   ]
  },
  {
   "cell_type": "markdown",
   "id": "10cf8819",
   "metadata": {},
   "source": [
    "Continuamos con el calculo de los de metricas de rendimiento recabados en la ejecución de la multiplicación de matrices de forma secuencial y concurrente"
   ]
  },
  {
   "cell_type": "code",
   "execution_count": 299,
   "id": "dc66ad64",
   "metadata": {},
   "outputs": [
    {
     "name": "stdout",
     "output_type": "stream",
     "text": [
      "Para matrices de 100 x 100 con 1 hilos:    Speed-up 1.141400 || Eficiencia 1.141400 \n",
      "Para matrices de 100 x 100 con 2 hilos:    Speed-up 1.149900 || Eficiencia 0.574900 \n",
      "Para matrices de 100 x 100 con 4 hilos:    Speed-up 1.114700 || Eficiencia 0.278700 \n",
      "Para matrices de 100 x 100 con 8 hilos:    Speed-up 1.046800 || Eficiencia 0.130800 \n",
      "Para matrices de 100 x 100 con 16 hilos:    Speed-up 0.902300 || Eficiencia 0.056400 \n",
      "Para matrices de 300 x 300 con 1 hilos:    Speed-up 1.176500 || Eficiencia 1.176500 \n",
      "Para matrices de 300 x 300 con 2 hilos:    Speed-up 1.213500 || Eficiencia 0.606800 \n",
      "Para matrices de 300 x 300 con 4 hilos:    Speed-up 1.202000 || Eficiencia 0.300500 \n",
      "Para matrices de 300 x 300 con 8 hilos:    Speed-up 1.191100 || Eficiencia 0.148900 \n",
      "Para matrices de 300 x 300 con 16 hilos:    Speed-up 1.209500 || Eficiencia 0.075600 \n",
      "Para matrices de 1000 x 1000 con 1 hilos:    Speed-up 1.277300 || Eficiencia 1.277300 \n",
      "Para matrices de 1000 x 1000 con 2 hilos:    Speed-up 1.261900 || Eficiencia 0.631000 \n",
      "Para matrices de 1000 x 1000 con 4 hilos:    Speed-up 1.267200 || Eficiencia 0.316800 \n",
      "Para matrices de 1000 x 1000 con 8 hilos:    Speed-up 1.298300 || Eficiencia 0.162300 \n",
      "Para matrices de 1000 x 1000 con 16 hilos:    Speed-up 1.254500 || Eficiencia 0.078400 \n"
     ]
    }
   ],
   "source": [
    "arrMetricas = []\n",
    "dicVector = {100 : arrDatosSecuencial[0], 300 : arrDatosSecuencial[1], 1000: arrDatosSecuencial[2]}\n",
    "dicHilos= {'nombre' : 'Carlos', 'edad' : 22, 'cursos': ['Python','Django','JavaScript'] }\n",
    "arrBase = [1,2,4,8,16]\n",
    "dicMetricas = {}\n",
    "\n",
    "for val in arrDatosConcurrente:\n",
    "    speedUp = round(float(dicVector[val[0]][1])/float(val[2]),4)\n",
    "    eficiencia = round(float(dicVector[val[0]][1]) / (float(val[1] * val[2] )),4)\n",
    "    print(f\"Para matrices de {val[0]} x {val[0]} con {val[1]} hilos:    Speed-up {speedUp:f} || Eficiencia {eficiencia:f} \")\n",
    "    \n",
    "    dicMetricas[f\"{val[0]}-{val[1]}\"]=[val[0],val[1],speedUp,eficiencia]\n",
    "    arrMetricas.append([float(speedUp),float(eficiencia)])\n",
    "columnSpeed100 = [c[2]  for c in dicMetricas.values() if c[0]==100]\n",
    "columnEfic100 = [c[3]  for c in dicMetricas.values() if c[0]==100]\n",
    "columnSpeed300 = [c[2]  for c in dicMetricas.values() if c[0]==300]\n",
    "columnEfic300 = [c[3]  for c in dicMetricas.values() if c[0]==300]\n",
    "columnSpeed1000 = [c[2]  for c in dicMetricas.values() if c[0]==1000]\n",
    "columnEfic1000 = [c[3]  for c in dicMetricas.values() if c[0]==1000]\n",
    "\n"
   ]
  },
  {
   "cell_type": "markdown",
   "id": "560e4781",
   "metadata": {},
   "source": [
    "<b>Cálculo de Speed-up y eficiencia</b>"
   ]
  },
  {
   "cell_type": "code",
   "execution_count": 300,
   "id": "a383db9e",
   "metadata": {},
   "outputs": [
    {
     "name": "stdout",
     "output_type": "stream",
     "text": [
      "Tabla de eficiencia para la multiplicación de matrices de 100 x 100\n"
     ]
    },
    {
     "data": {
      "text/html": [
       "<div>\n",
       "<style scoped>\n",
       "    .dataframe tbody tr th:only-of-type {\n",
       "        vertical-align: middle;\n",
       "    }\n",
       "\n",
       "    .dataframe tbody tr th {\n",
       "        vertical-align: top;\n",
       "    }\n",
       "\n",
       "    .dataframe thead th {\n",
       "        text-align: right;\n",
       "    }\n",
       "</style>\n",
       "<table border=\"1\" class=\"dataframe\">\n",
       "  <thead>\n",
       "    <tr style=\"text-align: right;\">\n",
       "      <th></th>\n",
       "      <th>1</th>\n",
       "      <th>2</th>\n",
       "      <th>4</th>\n",
       "      <th>8</th>\n",
       "      <th>16</th>\n",
       "    </tr>\n",
       "  </thead>\n",
       "  <tbody>\n",
       "    <tr>\n",
       "      <th>S</th>\n",
       "      <td>1.1385</td>\n",
       "      <td>1.1401</td>\n",
       "      <td>1.1264</td>\n",
       "      <td>1.0575</td>\n",
       "      <td>0.9419</td>\n",
       "    </tr>\n",
       "    <tr>\n",
       "      <th>E = S/p</th>\n",
       "      <td>1.1414</td>\n",
       "      <td>0.5749</td>\n",
       "      <td>0.2787</td>\n",
       "      <td>0.1308</td>\n",
       "      <td>0.0564</td>\n",
       "    </tr>\n",
       "  </tbody>\n",
       "</table>\n",
       "</div>"
      ],
      "text/plain": [
       "             1       2       4       8       16\n",
       "S        1.1385  1.1401  1.1264  1.0575  0.9419\n",
       "E = S/p  1.1414  0.5749  0.2787  0.1308  0.0564"
      ]
     },
     "execution_count": 300,
     "metadata": {},
     "output_type": "execute_result"
    }
   ],
   "source": [
    "import pandas as pd\n",
    "\n",
    "\n",
    "tabla = pd.DataFrame(data = [columnSpeed,columnEfic100],\n",
    "                      columns = [1,2,4,8,16],\n",
    "                    index = [\"S\",\"E = S/p\"])\n",
    "print(\"Tabla de eficiencia para la multiplicación de matrices de 100 x 100\")\n",
    "tabla\n"
   ]
  },
  {
   "cell_type": "code",
   "execution_count": 301,
   "id": "a786d3e6",
   "metadata": {},
   "outputs": [
    {
     "name": "stdout",
     "output_type": "stream",
     "text": [
      "Tabla de eficiencia para la multiplicación de todas las matrices \n"
     ]
    },
    {
     "data": {
      "text/html": [
       "<div>\n",
       "<style scoped>\n",
       "    .dataframe tbody tr th:only-of-type {\n",
       "        vertical-align: middle;\n",
       "    }\n",
       "\n",
       "    .dataframe tbody tr th {\n",
       "        vertical-align: top;\n",
       "    }\n",
       "\n",
       "    .dataframe thead th {\n",
       "        text-align: right;\n",
       "    }\n",
       "</style>\n",
       "<table border=\"1\" class=\"dataframe\">\n",
       "  <thead>\n",
       "    <tr style=\"text-align: right;\">\n",
       "      <th></th>\n",
       "      <th>1</th>\n",
       "      <th>2</th>\n",
       "      <th>4</th>\n",
       "      <th>8</th>\n",
       "      <th>16</th>\n",
       "    </tr>\n",
       "  </thead>\n",
       "  <tbody>\n",
       "    <tr>\n",
       "      <th>100 - S</th>\n",
       "      <td>1.1414</td>\n",
       "      <td>1.1499</td>\n",
       "      <td>1.1147</td>\n",
       "      <td>1.0468</td>\n",
       "      <td>0.9023</td>\n",
       "    </tr>\n",
       "    <tr>\n",
       "      <th>100 - E</th>\n",
       "      <td>1.1414</td>\n",
       "      <td>0.5749</td>\n",
       "      <td>0.2787</td>\n",
       "      <td>0.1308</td>\n",
       "      <td>0.0564</td>\n",
       "    </tr>\n",
       "    <tr>\n",
       "      <th>300 - S</th>\n",
       "      <td>1.1765</td>\n",
       "      <td>1.2135</td>\n",
       "      <td>1.2020</td>\n",
       "      <td>1.1911</td>\n",
       "      <td>1.2095</td>\n",
       "    </tr>\n",
       "    <tr>\n",
       "      <th>300 - E</th>\n",
       "      <td>1.1765</td>\n",
       "      <td>0.6068</td>\n",
       "      <td>0.3005</td>\n",
       "      <td>0.1489</td>\n",
       "      <td>0.0756</td>\n",
       "    </tr>\n",
       "    <tr>\n",
       "      <th>1000 - S</th>\n",
       "      <td>1.2773</td>\n",
       "      <td>1.2619</td>\n",
       "      <td>1.2672</td>\n",
       "      <td>1.2983</td>\n",
       "      <td>1.2545</td>\n",
       "    </tr>\n",
       "    <tr>\n",
       "      <th>1000 - E</th>\n",
       "      <td>1.2773</td>\n",
       "      <td>0.6310</td>\n",
       "      <td>0.3168</td>\n",
       "      <td>0.1623</td>\n",
       "      <td>0.0784</td>\n",
       "    </tr>\n",
       "  </tbody>\n",
       "</table>\n",
       "</div>"
      ],
      "text/plain": [
       "              1       2       4       8       16\n",
       "100 - S   1.1414  1.1499  1.1147  1.0468  0.9023\n",
       "100 - E   1.1414  0.5749  0.2787  0.1308  0.0564\n",
       "300 - S   1.1765  1.2135  1.2020  1.1911  1.2095\n",
       "300 - E   1.1765  0.6068  0.3005  0.1489  0.0756\n",
       "1000 - S  1.2773  1.2619  1.2672  1.2983  1.2545\n",
       "1000 - E  1.2773  0.6310  0.3168  0.1623  0.0784"
      ]
     },
     "execution_count": 301,
     "metadata": {},
     "output_type": "execute_result"
    }
   ],
   "source": [
    "\n",
    "tablaT = pd.DataFrame(data = [columnSpeed100,columnEfic100,columnSpeed300,columnEfic300,columnSpeed1000,columnEfic1000],\n",
    "                     columns = [1,2,4,8,16],\n",
    "                    index = [\"100 - S\",\"100 - E\",\"300 - S\",\"300 - E\",\"1000 - S\",\"1000 - E\"])\n",
    "print(\"Tabla de eficiencia para la multiplicación de todas las matrices \")\n",
    "tablaT"
   ]
  },
  {
   "cell_type": "markdown",
   "id": "c87cc2d6",
   "metadata": {},
   "source": [
    "<b>Gráfico de Speed-up</b>"
   ]
  },
  {
   "cell_type": "markdown",
   "id": "be87fce4",
   "metadata": {},
   "source": [
    "Speed up para un programa concurrente con diferente tamaño\n",
    "en la entrada"
   ]
  },
  {
   "cell_type": "code",
   "execution_count": 303,
   "id": "7318bb94",
   "metadata": {},
   "outputs": [
    {
     "data": {
      "image/png": "[encoded data removed]",
      "text/plain": [
       "<Figure size 432x288 with 1 Axes>"
      ]
     },
     "metadata": {
      "needs_background": "light"
     },
     "output_type": "display_data"
    }
   ],
   "source": [
    "import matplotlib.pyplot as plt\n",
    "x = [1,2,4,8,16]\n",
    "y100 = columnSpeed100\n",
    "y300 = columnSpeed300\n",
    "y1000 = columnSpeed1000\n",
    "plt.plot(x,y100)\n",
    "plt.plot(x,y300)\n",
    "plt.plot(x,y1000)\n",
    "plt.show()\n"
   ]
  },
  {
   "cell_type": "markdown",
   "id": "d94ea966",
   "metadata": {},
   "source": [
    "<b>Gráfico de eficiencia</b>"
   ]
  },
  {
   "cell_type": "markdown",
   "id": "930f1aa9",
   "metadata": {},
   "source": [
    "Eficiencia para un programa concurrente con diferente tamaño\n",
    "en la entrada"
   ]
  },
  {
   "cell_type": "code",
   "execution_count": 304,
   "id": "47fd691c",
   "metadata": {},
   "outputs": [
    {
     "data": {
      "image/png": "[encoded data removed]",
      "text/plain": [
       "<Figure size 432x288 with 1 Axes>"
      ]
     },
     "metadata": {
      "needs_background": "light"
     },
     "output_type": "display_data"
    }
   ],
   "source": [
    "import matplotlib.pyplot as plt\n",
    "x = [1,2,4,8,16]\n",
    "y100 = columnEfic100\n",
    "y300 = columnEfic300\n",
    "y1000 = columnEfic1000\n",
    "plt.plot(x,y100)\n",
    "plt.plot(x,y300)\n",
    "plt.plot(x,y1000)\n",
    "plt.show()"
   ]
  },
  {
   "cell_type": "markdown",
   "id": "1159fcb6",
   "metadata": {},
   "source": [
    "### Conclusiones"
   ]
  },
  {
   "cell_type": "markdown",
   "id": "d98b9a71",
   "metadata": {},
   "source": [
    "Teniendo en cuenta la presencia del lenguaje Python en la implementación de proyectos de\n",
    "computo cientifico, sabemos que ofrece muchas herramientas que facilita la realización de tareas orientadas\n",
    "a esta área. Pero tambien sabemos que muchas de estas herramientas que ofrece el lenguaje estan basadas\n",
    "en otros lenguajes de programación compilados que complementan las limitaciones de Python debido a su\n",
    "naturaleza de lenguaje interpretado. Si bien la refactorización de una tarea utilizando hilos (threads) beneficia\n",
    "el rendimiento y la ejecución de un programa, esta tambien depende del lenguaje de programación y su\n",
    "velocidad de respueta, como en este caso que el lenguaje Python por si solo no da el rendimiento que\n",
    "se desearía en la ejecución de un problema aritmético relativamente sencillo como es la multiplicación de\n",
    "matrices."
   ]
  },
  {
   "cell_type": "code",
   "execution_count": null,
   "id": "aabe5037",
   "metadata": {},
   "outputs": [],
   "source": []
  }
 ],
 "metadata": {
  "kernelspec": {
   "display_name": "Python 3 (ipykernel)",
   "language": "python",
   "name": "python3"
  },
  "language_info": {
   "codemirror_mode": {
    "name": "ipython",
    "version": 3
   },
   "file_extension": ".py",
   "mimetype": "text/x-python",
   "name": "python",
   "nbconvert_exporter": "python",
   "pygments_lexer": "ipython3",
   "version": "3.8.10"
  }
 },
 "nbformat": 4,
 "nbformat_minor": 5
}
