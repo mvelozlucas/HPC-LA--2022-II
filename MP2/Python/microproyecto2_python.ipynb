{
 "cells": [
  {
   "cell_type": "markdown",
   "id": "002bb28e",
   "metadata": {},
   "source": [
    "# CÓMPUTO DE ALTO RENDIMIENTO CON LENGUAJES DE ALTO NIVEL"
   ]
  },
  {
   "cell_type": "markdown",
   "id": "e11c8dee",
   "metadata": {},
   "source": [
    "## MINIPROYECTO 2"
   ]
  },
  {
   "cell_type": "markdown",
   "id": "d5b5f6d8",
   "metadata": {},
   "source": [
    "## IMPLEMENTACIÓN DE LAS FUNCIONES QUE CONTIENEN LOS METODOS DE SOLUCIÓN ITERATIVOS EN PYTHON"
   ]
  },
  {
   "cell_type": "markdown",
   "id": "27c0843f",
   "metadata": {},
   "source": [
    "Utilizaremos $kn = 20$ iteraciones, junto con un sistema de tamaño $ n = 20$"
   ]
  },
  {
   "cell_type": "code",
   "execution_count": 16,
   "id": "94af6111",
   "metadata": {},
   "outputs": [],
   "source": [
    "import numpy as np\n",
    "import matplotlib.pyplot as plt\n",
    "from scipy.sparse import spdiags"
   ]
  },
  {
   "cell_type": "markdown",
   "id": "35d9cbd4",
   "metadata": {},
   "source": [
    "función que construye el sistema de ecuaciones de prueba  𝐴𝑥=𝑏 "
   ]
  },
  {
   "cell_type": "code",
   "execution_count": 27,
   "id": "a71e41b5",
   "metadata": {},
   "outputs": [],
   "source": [
    "def matriz_dispersa(n):\n",
    "    e = np.ones(n)\n",
    "    \n",
    "    n2 = int(n/2)\n",
    "    diags = [-1,0,1]\n",
    "    A = scipy.sparse.spdiags([-1*e, 3*e ,-1*e], diags ,n,n).toarray()\n",
    "    c = scipy.sparse.spdiags([e/2],0,n,n).toarray()\n",
    "    c = np.fliplr(c)\n",
    "    \n",
    "    A = A + c\n",
    "    A[n2-1][n2] = -1\n",
    "    A[n2,n2-1]=-1\n",
    "    b = np.zeros((n,1))\n",
    "    b[0] = 2.5\n",
    "    b[n-1] = 2.5\n",
    "    b[1:n-1] = 1.5\n",
    "    b[n2-1:n2+1] = 1\n",
    "    \n",
    "    x0 = np.zeros((n,1)) \n",
    "    return A,b,x0\n",
    "    \n",
    "A,b,x0 = matriz_dispersa(6)\n",
    "    "
   ]
  },
  {
   "cell_type": "markdown",
   "id": "208cc7ab",
   "metadata": {},
   "source": [
    "Definimos función para metodo de solución iterativo Jacobi"
   ]
  },
  {
   "cell_type": "code",
   "execution_count": 28,
   "id": "07e754a8",
   "metadata": {},
   "outputs": [
    {
     "data": {
      "image/png": "[encoded data removed]",
      "text/plain": [
       "<Figure size 432x288 with 1 Axes>"
      ]
     },
     "metadata": {
      "needs_background": "light"
     },
     "output_type": "display_data"
    }
   ],
   "source": [
    "def jacobi_py(A,b,x0,kn):\n",
    "    normres_jacobi = []\n",
    "    D = np.diag(np.diag(A))\n",
    "    U = np.triu(A, k=1)\n",
    "    L = np.tril(A, k=-1)\n",
    "    x = x0\n",
    "    m = 0\n",
    "    for k in range(1,kn):\n",
    "        x = np.dot(  np.linalg.inv(D) , b-( np.dot(L + U,x) ) ) \n",
    "        normres_jacobi.append(np.linalg.norm(b-np.dot(A,x)))\n",
    "\n",
    "    return normres_jacobi\n",
    "\n",
    "k = 20\n",
    "A,b,x0 = matriz_dispersa(6)\n",
    "jj=jacobi_py(A,b,x0,k)\n",
    "\n",
    "plt.plot(jj, color=\"#6b0851\", marker='o')\n",
    "plt.show()"
   ]
  },
  {
   "cell_type": "markdown",
   "id": "8106fe64",
   "metadata": {},
   "source": [
    "Definimos función para método de solución iterativo Gass-Seidel"
   ]
  },
  {
   "cell_type": "code",
   "execution_count": 151,
   "id": "1461280b",
   "metadata": {},
   "outputs": [
    {
     "data": {
      "image/png": "[encoded data removed]",
      "text/plain": [
       "<Figure size 432x288 with 1 Axes>"
      ]
     },
     "metadata": {
      "needs_background": "light"
     },
     "output_type": "display_data"
    }
   ],
   "source": [
    "def gauss_seidel_py(A,b,x0,k):\n",
    "    normres_gauss_seidel = []\n",
    "    L = np.tril(A)\n",
    "    U = np.triu(A, k=1)\n",
    "    x = x0\n",
    "    for k in range(1,k):\n",
    "        x = np.dot(np.linalg.inv(L) , b - (np.dot( U , x))) \n",
    "        normres_gauss_seidel.append(np.linalg.norm(b - np.dot(A,x)))\n",
    "\n",
    "    return normres_gauss_seidel\n",
    "k = 20\n",
    "A,b,x0 = matriz_dispersa(6)\n",
    "gg=gauss_seidel_py(A,b,x0,k)\n",
    "\n",
    "plt.plot(gg, color=\"#6b8051\", marker='o')\n",
    "plt.show()"
   ]
  },
  {
   "cell_type": "markdown",
   "id": "3bf525c0",
   "metadata": {},
   "source": [
    "Definimos función para método de solución iterativo Sobre-relajación sucesiva"
   ]
  },
  {
   "cell_type": "code",
   "execution_count": 139,
   "id": "ebb5cb09",
   "metadata": {},
   "outputs": [
    {
     "data": {
      "image/png": "[encoded data removed]",
      "text/plain": [
       "<Figure size 432x288 with 1 Axes>"
      ]
     },
     "metadata": {
      "needs_background": "light"
     },
     "output_type": "display_data"
    }
   ],
   "source": [
    "def srs_py(A,b,x0,k,w):    \n",
    "    normres_srs = []\n",
    "    L = np.tril(A, k=-1)\n",
    "    U = np.triu(A, k=1)\n",
    "    D = np.diag(np.diag(A))\n",
    "    x = x0\n",
    "    for k in range(1,k):\n",
    "        x = np.dot(np.linalg.inv(np.dot(w , L) + D) , (np.dot((1 - w) , np.dot(D , x)) - np.dot(np.dot(w , U) , x))) +  np.dot(np.dot(w , np.linalg.inv(D + np.dot(L , w))) , b)\n",
    "        normres_srs.append(np.linalg.norm(b - np.dot(A,x)))\n",
    "\n",
    "    return normres_srs\n",
    "w = 1.4\n",
    "k = 20\n",
    "A,b,x0 = matriz_dispersa(6)\n",
    "ss=srs_py(A,b,x0,k,w)\n",
    "\n",
    "plt.plot(ss, color=\"#6b8051\", marker='o')\n",
    "plt.show()"
   ]
  },
  {
   "cell_type": "markdown",
   "id": "35100cda",
   "metadata": {},
   "source": [
    "Definimos función para método de solución iterativo Gradiente Conjugado"
   ]
  },
  {
   "cell_type": "code",
   "execution_count": 25,
   "id": "918b7463",
   "metadata": {},
   "outputs": [
    {
     "data": {
      "image/png": "[encoded data removed]",
      "text/plain": [
       "<Figure size 432x288 with 1 Axes>"
      ]
     },
     "metadata": {
      "needs_background": "light"
     },
     "output_type": "display_data"
    }
   ],
   "source": [
    "def gradiente_conjugado(A,b,x0,k):\n",
    "    normres_grc = []\n",
    "    x = x0\n",
    "    d = r = b - np.dot(A,x)\n",
    "    for k in range(1,k):\n",
    "        alfa = np.dot(r.transpose(),r) / np.dot(d.transpose(),np.dot(A,d))\n",
    "        x = x + alfa*d\n",
    "        rk = r - alfa*np.dot(A,d)\n",
    "        beta = np.dot(rk.transpose(),rk) / np.dot(r.transpose(),r)\n",
    "        dk = rk + beta*d\n",
    "        r = rk\n",
    "        d = dk\n",
    "        normres_grc.append(np.linalg.norm(b - np.dot(A,x)))\n",
    "    return normres_grc\n",
    "    \n",
    "A,b,x0 = matriz_dispersa(6)\n",
    "\n",
    "grc = gradiente_conjugado(A,b,x0,20)\n",
    "plt.plot(grc, color=\"#6b8051\", marker='o')\n",
    "plt.show()"
   ]
  },
  {
   "cell_type": "code",
   "execution_count": null,
   "id": "76c4ebc3",
   "metadata": {},
   "outputs": [],
   "source": []
  }
 ],
 "metadata": {
  "kernelspec": {
   "display_name": "Python 3 (ipykernel)",
   "language": "python",
   "name": "python3"
  },
  "language_info": {
   "codemirror_mode": {
    "name": "ipython",
    "version": 3
   },
   "file_extension": ".py",
   "mimetype": "text/x-python",
   "name": "python",
   "nbconvert_exporter": "python",
   "pygments_lexer": "ipython3",
   "version": "3.8.10"
  }
 },
 "nbformat": 4,
 "nbformat_minor": 5
}
